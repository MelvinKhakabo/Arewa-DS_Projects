{
 "cells": [
  {
   "cell_type": "markdown",
   "metadata": {},
   "source": [
    "## API Integration using GitHub API to find Python Projects on GitHub\n"
   ]
  },
  {
   "cell_type": "markdown",
   "metadata": {},
   "source": [
    "## Installing Requests"
   ]
  },
  {
   "cell_type": "markdown",
   "metadata": {},
   "source": [
    "The requests package allows a Python program to easily request informa\u0002tion from a website and examine the response that’s returned. To install requests, issue a command like the following:"
   ]
  },
  {
   "cell_type": "code",
   "execution_count": null,
   "metadata": {},
   "outputs": [],
   "source": [
    " #pip install --user requests  --- in the terminal"
   ]
  },
  {
   "cell_type": "markdown",
   "metadata": {},
   "source": [
    "## Processing an API Response"
   ]
  },
  {
   "cell_type": "markdown",
   "metadata": {},
   "source": [
    "Now we’ll begin to write a program to issue an API call and process the \n",
    "results by identifying the most starred Python projects on GitHub"
   ]
  },
  {
   "cell_type": "code",
   "execution_count": 1,
   "metadata": {},
   "outputs": [
    {
     "name": "stdout",
     "output_type": "stream",
     "text": [
      "Status code: 200\n",
      "Response dictionary keys: dict_keys(['total_count', 'incomplete_results', 'items'])\n"
     ]
    }
   ],
   "source": [
    "import requests\n",
    "\n",
    "# Make an API call and store the response.\n",
    "url = 'https://api.github.com/search/repositories?q=language:python&sort=stars'\n",
    "response = requests.get(url)\n",
    "\n",
    "# Check and print the status code to ensure the API call was successful.\n",
    "print(\"Status code:\", response.status_code)\n",
    "\n",
    "# Store the API response in a variable and process it.\n",
    "if response.status_code == 200:  # Ensure the API call was successful\n",
    "    response_dict = response.json()\n",
    "    \n",
    "    # Print the keys of the response dictionary to understand its structure.\n",
    "    print(\"Response dictionary keys:\", response_dict.keys())\n",
    "else:\n",
    "    print(\"Failed to retrieve data from GitHub API.\")\n"
   ]
  },
  {
   "cell_type": "markdown",
   "metadata": {},
   "source": [
    "_Because the status code is 200, we know that the request was successful_"
   ]
  },
  {
   "cell_type": "markdown",
   "metadata": {},
   "source": [
    "## Working with the Response Dictionary"
   ]
  },
  {
   "cell_type": "markdown",
   "metadata": {},
   "source": [
    "Now that we have the information from the API call stored as a dictionary, we can work with the data stored there"
   ]
  },
  {
   "cell_type": "code",
   "execution_count": 2,
   "metadata": {},
   "outputs": [
    {
     "name": "stdout",
     "output_type": "stream",
     "text": [
      "Status code: 200\n",
      "Total repositories: 18763091\n",
      "Repositories returned: 30\n",
      "\n",
      "Number of keys in the first repository: 80\n",
      "\n",
      "Keys in the first repository:\n",
      "allow_forking\n",
      "archive_url\n",
      "archived\n",
      "assignees_url\n",
      "blobs_url\n",
      "branches_url\n",
      "clone_url\n",
      "collaborators_url\n",
      "comments_url\n",
      "commits_url\n",
      "compare_url\n",
      "contents_url\n",
      "contributors_url\n",
      "created_at\n",
      "default_branch\n",
      "deployments_url\n",
      "description\n",
      "disabled\n",
      "downloads_url\n",
      "events_url\n",
      "fork\n",
      "forks\n",
      "forks_count\n",
      "forks_url\n",
      "full_name\n",
      "git_commits_url\n",
      "git_refs_url\n",
      "git_tags_url\n",
      "git_url\n",
      "has_discussions\n",
      "has_downloads\n",
      "has_issues\n",
      "has_pages\n",
      "has_projects\n",
      "has_wiki\n",
      "homepage\n",
      "hooks_url\n",
      "html_url\n",
      "id\n",
      "is_template\n",
      "issue_comment_url\n",
      "issue_events_url\n",
      "issues_url\n",
      "keys_url\n",
      "labels_url\n",
      "language\n",
      "languages_url\n",
      "license\n",
      "merges_url\n",
      "milestones_url\n",
      "mirror_url\n",
      "name\n",
      "node_id\n",
      "notifications_url\n",
      "open_issues\n",
      "open_issues_count\n",
      "owner\n",
      "private\n",
      "pulls_url\n",
      "pushed_at\n",
      "releases_url\n",
      "score\n",
      "size\n",
      "ssh_url\n",
      "stargazers_count\n",
      "stargazers_url\n",
      "statuses_url\n",
      "subscribers_url\n",
      "subscription_url\n",
      "svn_url\n",
      "tags_url\n",
      "teams_url\n",
      "topics\n",
      "trees_url\n",
      "updated_at\n",
      "url\n",
      "visibility\n",
      "watchers\n",
      "watchers_count\n",
      "web_commit_signoff_required\n"
     ]
    }
   ],
   "source": [
    "import requests\n",
    "\n",
    "# Make an API call and store the response.\n",
    "url = 'https://api.github.com/search/repositories?q=language:python&sort=stars'\n",
    "response = requests.get(url)\n",
    "\n",
    "# Check and print the status code to ensure the API call was successful.\n",
    "print(\"Status code:\", response.status_code)\n",
    "\n",
    "# Store the API response in a variable.\n",
    "if response.status_code == 200:  # Ensure the API call succeeded\n",
    "    response_dict = response.json()\n",
    "    \n",
    "    # Print the total number of repositories.\n",
    "    print(\"Total repositories:\", response_dict['total_count'])\n",
    "    \n",
    "    # Explore information about the repositories.\n",
    "    repo_dicts = response_dict['items']\n",
    "    print(\"Repositories returned:\", len(repo_dicts))\n",
    "    \n",
    "    # Examine the first repository.\n",
    "    if repo_dicts:\n",
    "        repo_dict = repo_dicts[0]\n",
    "        print(\"\\nNumber of keys in the first repository:\", len(repo_dict))\n",
    "        \n",
    "        # Print all keys in the first repository, sorted alphabetically.\n",
    "        print(\"\\nKeys in the first repository:\")\n",
    "        for key in sorted(repo_dict.keys()):\n",
    "            print(key)\n",
    "    else:\n",
    "        print(\"No repositories found in the response.\")\n",
    "else:\n",
    "    print(\"Failed to retrieve data from GitHub API.\")\n"
   ]
  },
  {
   "cell_type": "markdown",
   "metadata": {},
   "source": [
    "Let’s pull out the values for some of the keys in repo_dict:"
   ]
  },
  {
   "cell_type": "code",
   "execution_count": 3,
   "metadata": {},
   "outputs": [
    {
     "name": "stdout",
     "output_type": "stream",
     "text": [
      "\n",
      "Selected information about the first repository:\n",
      "Name: public-apis\n",
      "Owner: public-apis\n",
      "Stars: 325420\n",
      "Repository: https://github.com/public-apis/public-apis\n",
      "Created: 2016-03-20T23:49:42Z\n",
      "Updated: 2025-01-23T07:06:02Z\n",
      "Description: A collective list of free APIs\n"
     ]
    }
   ],
   "source": [
    "# Examine and print selected information about the first repository.\n",
    "print(\"\\nSelected information about the first repository:\")\n",
    "try:\n",
    "    print('Name:', repo_dict['name'])\n",
    "    print('Owner:', repo_dict['owner']['login'])\n",
    "    print('Stars:', repo_dict['stargazers_count'])\n",
    "    print('Repository:', repo_dict['html_url'])\n",
    "    print('Created:', repo_dict['created_at'])\n",
    "    print('Updated:', repo_dict['updated_at'])\n",
    "    print('Description:', repo_dict['description'])\n",
    "except KeyError as e:\n",
    "    print(f\"Key error: {e}. Some information may be missing.\")\n",
    "\n"
   ]
  },
  {
   "cell_type": "markdown",
   "metadata": {},
   "source": [
    "_We can see that the most-starred Python project on GitHub as of this writing is public-apis, its owner is user public-apis, and it has been starred by more than 325,420 GitHub users_"
   ]
  },
  {
   "cell_type": "markdown",
   "metadata": {},
   "source": [
    "## Summarizing the Top Repositories"
   ]
  },
  {
   "cell_type": "markdown",
   "metadata": {},
   "source": [
    "Let’s write a loop to print selected information about each of the repositories returned by the API call so we can include them all in the visualization:"
   ]
  },
  {
   "cell_type": "code",
   "execution_count": 4,
   "metadata": {},
   "outputs": [
    {
     "name": "stdout",
     "output_type": "stream",
     "text": [
      "\n",
      "Selected information about each repository:\n",
      "\n",
      "Name: public-apis\n",
      "Owner: public-apis\n",
      "Stars: 325420\n",
      "Repository: https://github.com/public-apis/public-apis\n",
      "Description: A collective list of free APIs\n",
      "\n",
      "Name: system-design-primer\n",
      "Owner: donnemartin\n",
      "Stars: 286737\n",
      "Repository: https://github.com/donnemartin/system-design-primer\n",
      "Description: Learn how to design large-scale systems. Prep for the system design interview.  Includes Anki flashcards.\n",
      "\n",
      "Name: awesome-python\n",
      "Owner: vinta\n",
      "Stars: 231345\n",
      "Repository: https://github.com/vinta/awesome-python\n",
      "Description: An opinionated list of awesome Python frameworks, libraries, software and resources.\n",
      "\n",
      "Name: Python\n",
      "Owner: TheAlgorithms\n",
      "Stars: 196637\n",
      "Repository: https://github.com/TheAlgorithms/Python\n",
      "Description: All Algorithms implemented in Python\n",
      "\n",
      "Name: AutoGPT\n",
      "Owner: Significant-Gravitas\n",
      "Stars: 170774\n",
      "Repository: https://github.com/Significant-Gravitas/AutoGPT\n",
      "Description: AutoGPT is the vision of accessible AI for everyone, to use and to build on. Our mission is to provide the tools, so that you can focus on what matters.\n",
      "\n",
      "Name: Python-100-Days\n",
      "Owner: jackfrued\n",
      "Stars: 160081\n",
      "Repository: https://github.com/jackfrued/Python-100-Days\n",
      "Description: Python - 100天从新手到大师\n",
      "\n",
      "Name: stable-diffusion-webui\n",
      "Owner: AUTOMATIC1111\n",
      "Stars: 146237\n",
      "Repository: https://github.com/AUTOMATIC1111/stable-diffusion-webui\n",
      "Description: Stable Diffusion web UI\n",
      "\n",
      "Name: transformers\n",
      "Owner: huggingface\n",
      "Stars: 137902\n",
      "Repository: https://github.com/huggingface/transformers\n",
      "Description: 🤗 Transformers: State-of-the-art Machine Learning for Pytorch, TensorFlow, and JAX.\n",
      "\n",
      "Name: youtube-dl\n",
      "Owner: ytdl-org\n",
      "Stars: 133775\n",
      "Repository: https://github.com/ytdl-org/youtube-dl\n",
      "Description: Command-line program to download videos from YouTube.com and other video sites\n",
      "\n",
      "Name: HelloGitHub\n",
      "Owner: 521xueweihan\n",
      "Stars: 97680\n",
      "Repository: https://github.com/521xueweihan/HelloGitHub\n",
      "Description: :octocat: 分享 GitHub 上有趣、入门级的开源项目。Share interesting, entry-level open source projects on GitHub.\n",
      "\n",
      "Name: yt-dlp\n",
      "Owner: yt-dlp\n",
      "Stars: 97557\n",
      "Repository: https://github.com/yt-dlp/yt-dlp\n",
      "Description: A feature-rich command-line audio/video downloader\n",
      "\n",
      "Name: thefuck\n",
      "Owner: nvbn\n",
      "Stars: 89417\n",
      "Repository: https://github.com/nvbn/thefuck\n",
      "Description: Magnificent app which corrects your previous console command.\n",
      "\n",
      "Name: pytorch\n",
      "Owner: pytorch\n",
      "Stars: 86093\n",
      "Repository: https://github.com/pytorch/pytorch\n",
      "Description: Tensors and Dynamic neural networks in Python with strong GPU acceleration\n",
      "\n",
      "Name: django\n",
      "Owner: django\n",
      "Stars: 82007\n",
      "Repository: https://github.com/django/django\n",
      "Description: The Web framework for perfectionists with deadlines.\n",
      "\n",
      "Name: fastapi\n",
      "Owner: fastapi\n",
      "Stars: 80064\n",
      "Repository: https://github.com/fastapi/fastapi\n",
      "Description: FastAPI framework, high performance, easy to learn, fast to code, ready for production\n",
      "\n",
      "Name: models\n",
      "Owner: tensorflow\n",
      "Stars: 77314\n",
      "Repository: https://github.com/tensorflow/models\n",
      "Description: Models and examples built with TensorFlow\n",
      "\n",
      "Name: core\n",
      "Owner: home-assistant\n",
      "Stars: 75983\n",
      "Repository: https://github.com/home-assistant/core\n",
      "Description: :house_with_garden: Open source home automation that puts local control and privacy first.\n",
      "\n",
      "Name: whisper\n",
      "Owner: openai\n",
      "Stars: 74925\n",
      "Repository: https://github.com/openai/whisper\n",
      "Description: Robust Speech Recognition via Large-Scale Weak Supervision\n",
      "\n",
      "Name: manim\n",
      "Owner: 3b1b\n",
      "Stars: 74281\n",
      "Repository: https://github.com/3b1b/manim\n",
      "Description: Animation engine for explanatory math videos\n",
      "\n",
      "Name: funNLP\n",
      "Owner: fighting41love\n",
      "Stars: 70654\n",
      "Repository: https://github.com/fighting41love/funNLP\n",
      "Description: 中英文敏感词、语言检测、中外手机/电话归属地/运营商查询、名字推断性别、手机号抽取、身份证抽取、邮箱抽取、中日文人名库、中文缩写库、拆字词典、词汇情感值、停用词、反动词表、暴恐词表、繁简体转换、英文模拟中文发音、汪峰歌词生成器、职业名称词库、同义词库、反义词库、否定词库、汽车品牌词库、汽车零件词库、连续英文切割、各种中文词向量、公司名字大全、古诗词库、IT词库、财经词库、成语词库、地名词库、历史名人词库、诗词词库、医学词库、饮食词库、法律词库、汽车词库、动物词库、中文聊天语料、中文谣言数据、百度中文问答数据集、句子相似度匹配算法集合、bert资源、文本生成&摘要相关工具、cocoNLP信息抽取工具、国内电话号码正则匹配、清华大学XLORE:中英文跨语言百科知识图谱、清华大学人工智能技术系列报告、自然语言生成、NLU太难了系列、自动对联数据及机器人、用户名黑名单列表、罪名法务名词及分类模型、微信公众号语料、cs224n深度学习自然语言处理课程、中文手写汉字识别、中文自然语言处理 语料/数据集、变量命名神器、分词语料库+代码、任务型对话英文数据集、ASR 语音数据集 + 基于深度学习的中文语音识别系统、笑声检测器、Microsoft多语言数字/单位/如日期时间识别包、中华新华字典数据库及api(包括常用歇后语、成语、词语和汉字)、文档图谱自动生成、SpaCy 中文模型、Common Voice语音识别数据集新版、神经网络关系抽取、基于bert的命名实体识别、关键词(Keyphrase)抽取包pke、基于医疗领域知识图谱的问答系统、基于依存句法与语义角色标注的事件三元组抽取、依存句法分析4万句高质量标注数据、cnocr：用来做中文OCR的Python3包、中文人物关系知识图谱项目、中文nlp竞赛项目及代码汇总、中文字符数据、speech-aligner: 从“人声语音”及其“语言文本”产生音素级别时间对齐标注的工具、AmpliGraph: 知识图谱表示学习(Python)库：知识图谱概念链接预测、Scattertext 文本可视化(python)、语言/知识表示工具：BERT & ERNIE、中文对比英文自然语言处理NLP的区别综述、Synonyms中文近义词工具包、HarvestText领域自适应文本挖掘工具（新词发现-情感分析-实体链接等）、word2word：(Python)方便易用的多语言词-词对集：62种语言/3,564个多语言对、语音识别语料生成工具：从具有音频/字幕的在线视频创建自动语音识别(ASR)语料库、构建医疗实体识别的模型（包含词典和语料标注）、单文档非监督的关键词抽取、Kashgari中使用gpt-2语言模型、开源的金融投资数据提取工具、文本自动摘要库TextTeaser: 仅支持英文、人民日报语料处理工具集、一些关于自然语言的基本模型、基于14W歌曲知识库的问答尝试--功能包括歌词接龙and已知歌词找歌曲以及歌曲歌手歌词三角关系的问答、基于Siamese bilstm模型的相似句子判定模型并提供训练数据集和测试数据集、用Transformer编解码模型实现的根据Hacker News文章标题自动生成评论、用BERT进行序列标记和文本分类的模板代码、LitBank：NLP数据集——支持自然语言处理和计算人文学科任务的100部带标记英文小说语料、百度开源的基准信息抽取系统、虚假新闻数据集、Facebook: LAMA语言模型分析，提供Transformer-XL/BERT/ELMo/GPT预训练语言模型的统一访问接口、CommonsenseQA：面向常识的英文QA挑战、中文知识图谱资料、数据及工具、各大公司内部里大牛分享的技术文档 PDF 或者 PPT、自然语言生成SQL语句（英文）、中文NLP数据增强（EDA）工具、英文NLP数据增强工具 、基于医药知识图谱的智能问答系统、京东商品知识图谱、基于mongodb存储的军事领域知识图谱问答项目、基于远监督的中文关系抽取、语音情感分析、中文ULMFiT-情感分析-文本分类-语料及模型、一个拍照做题程序、世界各国大规模人名库、一个利用有趣中文语料库 qingyun 训练出来的中文聊天机器人、中文聊天机器人seqGAN、省市区镇行政区划数据带拼音标注、教育行业新闻语料库包含自动文摘功能、开放了对话机器人-知识图谱-语义理解-自然语言处理工具及数据、中文知识图谱：基于百度百科中文页面-抽取三元组信息-构建中文知识图谱、masr: 中文语音识别-提供预训练模型-高识别率、Python音频数据增广库、中文全词覆盖BERT及两份阅读理解数据、ConvLab：开源多域端到端对话系统平台、中文自然语言处理数据集、基于最新版本rasa搭建的对话系统、基于TensorFlow和BERT的管道式实体及关系抽取、一个小型的证券知识图谱/知识库、复盘所有NLP比赛的TOP方案、OpenCLaP：多领域开源中文预训练语言模型仓库、UER：基于不同语料+编码器+目标任务的中文预训练模型仓库、中文自然语言处理向量合集、基于金融-司法领域(兼有闲聊性质)的聊天机器人、g2pC：基于上下文的汉语读音自动标记模块、Zincbase 知识图谱构建工具包、诗歌质量评价/细粒度情感诗歌语料库、快速转化「中文数字」和「阿拉伯数字」、百度知道问答语料库、基于知识图谱的问答系统、jieba_fast 加速版的jieba、正则表达式教程、中文阅读理解数据集、基于BERT等最新语言模型的抽取式摘要提取、Python利用深度学习进行文本摘要的综合指南、知识图谱深度学习相关资料整理、维基大规模平行文本语料、StanfordNLP 0.2.0：纯Python版自然语言处理包、NeuralNLP-NeuralClassifier：腾讯开源深度学习文本分类工具、端到端的封闭域对话系统、中文命名实体识别：NeuroNER vs. BertNER、新闻事件线索抽取、2019年百度的三元组抽取比赛：“科学空间队”源码、基于依存句法的开放域文本知识三元组抽取和知识库构建、中文的GPT2训练代码、ML-NLP - 机器学习(Machine Learning)NLP面试中常考到的知识点和代码实现、nlp4han:中文自然语言处理工具集(断句/分词/词性标注/组块/句法分析/语义分析/NER/N元语法/HMM/代词消解/情感分析/拼写检查、XLM：Facebook的跨语言预训练语言模型、用基于BERT的微调和特征提取方法来进行知识图谱百度百科人物词条属性抽取、中文自然语言处理相关的开放任务-数据集-当前最佳结果、CoupletAI - 基于CNN+Bi-LSTM+Attention 的自动对对联系统、抽象知识图谱、MiningZhiDaoQACorpus - 580万百度知道问答数据挖掘项目、brat rapid annotation tool: 序列标注工具、大规模中文知识图谱数据：1.4亿实体、数据增强在机器翻译及其他nlp任务中的应用及效果、allennlp阅读理解:支持多种数据和模型、PDF表格数据提取工具 、 Graphbrain：AI开源软件库和科研工具，目的是促进自动意义提取和文本理解以及知识的探索和推断、简历自动筛选系统、基于命名实体识别的简历自动摘要、中文语言理解测评基准，包括代表性的数据集&基准模型&语料库&排行榜、树洞 OCR 文字识别 、从包含表格的扫描图片中识别表格和文字、语声迁移、Python口语自然语言处理工具集(英文)、 similarity：相似度计算工具包，java编写、海量中文预训练ALBERT模型 、Transformers 2.0 、基于大规模音频数据集Audioset的音频增强 、Poplar：网页版自然语言标注工具、图片文字去除，可用于漫画翻译 、186种语言的数字叫法库、Amazon发布基于知识的人-人开放领域对话数据集 、中文文本纠错模块代码、繁简体转换 、 Python实现的多种文本可读性评价指标、类似于人名/地名/组织机构名的命名体识别数据集 、东南大学《知识图谱》研究生课程(资料)、. 英文拼写检查库 、 wwsearch是企业微信后台自研的全文检索引擎、CHAMELEON：深度学习新闻推荐系统元架构 、 8篇论文梳理BERT相关模型进展与反思、DocSearch：免费文档搜索引擎、 LIDA：轻量交互式对话标注工具 、aili - the fastest in-memory index in the East 东半球最快并发索引 、知识图谱车音工作项目、自然语言生成资源大全 、中日韩分词库mecab的Python接口库、中文文本摘要/关键词提取、汉字字符特征提取器 (featurizer)，提取汉字的特征（发音特征、字形特征）用做深度学习的特征、中文生成任务基准测评 、中文缩写数据集、中文任务基准测评 - 代表性的数据集-基准(预训练)模型-语料库-baseline-工具包-排行榜、PySS3：面向可解释AI的SS3文本分类器机器可视化工具 、中文NLP数据集列表、COPE - 格律诗编辑程序、doccano：基于网页的开源协同多语言文本标注工具 、PreNLP：自然语言预处理库、简单的简历解析器，用来从简历中提取关键信息、用于中文闲聊的GPT2模型：GPT2-chitchat、基于检索聊天机器人多轮响应选择相关资源列表(Leaderboards、Datasets、Papers)、(Colab)抽象文本摘要实现集锦(教程 、词语拼音数据、高效模糊搜索工具、NLP数据增广资源集、微软对话机器人框架 、 GitHub Typo Corpus：大规模GitHub多语言拼写错误/语法错误数据集、TextCluster：短文本聚类预处理模块 Short text cluster、面向语音识别的中文文本规范化、BLINK：最先进的实体链接库、BertPunc：基于BERT的最先进标点修复模型、Tokenizer：快速、可定制的文本词条化库、中文语言理解测评基准，包括代表性的数据集、基准(预训练)模型、语料库、排行榜、spaCy 医学文本挖掘与信息提取 、 NLP任务示例项目代码集、 python拼写检查库、chatbot-list - 行业内关于智能客服、聊天机器人的应用和架构、算法分享和介绍、语音质量评价指标(MOSNet, BSSEval, STOI, PESQ, SRMR)、 用138GB语料训练的法文RoBERTa预训练语言模型 、BERT-NER-Pytorch：三种不同模式的BERT中文NER实验、无道词典 - 有道词典的命令行版本，支持英汉互查和在线查询、2019年NLP亮点回顾、 Chinese medical dialogue data 中文医疗对话数据集 、最好的汉字数字(中文数字)-阿拉伯数字转换工具、 基于百科知识库的中文词语多词义/义项获取与特定句子词语语义消歧、awesome-nlp-sentiment-analysis - 情感分析、情绪原因识别、评价对象和评价词抽取、LineFlow：面向所有深度学习框架的NLP数据高效加载器、中文医学NLP公开资源整理 、MedQuAD：(英文)医学问答数据集、将自然语言数字串解析转换为整数和浮点数、Transfer Learning in Natural Language Processing (NLP) 、面向语音识别的中文/英文发音辞典、Tokenizers：注重性能与多功能性的最先进分词器、CLUENER 细粒度命名实体识别 Fine Grained Named Entity Recognition、 基于BERT的中文命名实体识别、中文谣言数据库、NLP数据集/基准任务大列表、nlp相关的一些论文及代码, 包括主题模型、词向量(Word Embedding)、命名实体识别(NER)、文本分类(Text Classificatin)、文本生成(Text Generation)、文本相似性(Text Similarity)计算等，涉及到各种与nlp相关的算法，基于keras和tensorflow 、Python文本挖掘/NLP实战示例、 Blackstone：面向非结构化法律文本的spaCy pipeline和NLP模型通过同义词替换实现文本“变脸” 、中文 预训练 ELECTREA 模型: 基于对抗学习 pretrain Chinese Model 、albert-chinese-ner - 用预训练语言模型ALBERT做中文NER 、基于GPT2的特定主题文本生成/文本增广、开源预训练语言模型合集、多语言句向量包、编码、标记和实现：一种可控高效的文本生成方法、 英文脏话大列表 、attnvis：GPT2、BERT等transformer语言模型注意力交互可视化、CoVoST：Facebook发布的多语种语音-文本翻译语料库，包括11种语言(法语、德语、荷兰语、俄语、西班牙语、意大利语、土耳其语、波斯语、瑞典语、蒙古语和中文)的语音、文字转录及英文译文、Jiagu自然语言处理工具 - 以BiLSTM等模型为基础，提供知识图谱关系抽取 中文分词 词性标注 命名实体识别 情感分析 新词发现 关键词 文本摘要 文本聚类等功能、用unet实现对文档表格的自动检测，表格重建、NLP事件提取文献资源列表 、 金融领域自然语言处理研究资源大列表、CLUEDatasetSearch - 中英文NLP数据集：搜索所有中文NLP数据集，附常用英文NLP数据集 、medical_NER - 中文医学知识图谱命名实体识别 、(哈佛)讲因果推理的免费书、知识图谱相关学习资料/数据集/工具资源大列表、Forte：灵活强大的自然语言处理pipeline工具集 、Python字符串相似性算法库、PyLaia：面向手写文档分析的深度学习工具包、TextFooler：针对文本分类/推理的对抗文本生成模块、Haystack：灵活、强大的可扩展问答(QA)框架、中文关键短语抽取工具\n",
      "\n",
      "Name: flask\n",
      "Owner: pallets\n",
      "Stars: 68620\n",
      "Repository: https://github.com/pallets/flask\n",
      "Description: The Python micro framework for building web applications.\n",
      "\n",
      "Name: devops-exercises\n",
      "Owner: bregman-arie\n",
      "Stars: 67474\n",
      "Repository: https://github.com/bregman-arie/devops-exercises\n",
      "Description: Linux, Jenkins, AWS, SRE, Prometheus, Docker, Python, Ansible, Git, Kubernetes, Terraform, OpenStack, SQL, NoSQL, Azure, GCP, DNS, Elastic, Network, Virtualization. DevOps Interview Questions\n",
      "\n",
      "Name: screenshot-to-code\n",
      "Owner: abi\n",
      "Stars: 67151\n",
      "Repository: https://github.com/abi/screenshot-to-code\n",
      "Description: Drop in a screenshot and convert it to clean code (HTML/Tailwind/React/Vue)\n",
      "\n",
      "Name: gpt_academic\n",
      "Owner: binary-husky\n",
      "Stars: 67045\n",
      "Repository: https://github.com/binary-husky/gpt_academic\n",
      "Description: 为GPT/GLM等LLM大语言模型提供实用化交互接口，特别优化论文阅读/润色/写作体验，模块化设计，支持自定义快捷按钮&函数插件，支持Python和C++等项目剖析&自译解功能，PDF/LaTex论文翻译&总结功能，支持并行问询多种LLM模型，支持chatglm3等本地模型。接入通义千问, deepseekcoder, 讯飞星火, 文心一言, llama2, rwkv, claude2, moss等。\n",
      "\n",
      "Name: awesome-machine-learning\n",
      "Owner: josephmisiti\n",
      "Stars: 66706\n",
      "Repository: https://github.com/josephmisiti/awesome-machine-learning\n",
      "Description: A curated list of awesome Machine Learning frameworks, libraries and software.\n",
      "\n",
      "Name: d2l-zh\n",
      "Owner: d2l-ai\n",
      "Stars: 65267\n",
      "Repository: https://github.com/d2l-ai/d2l-zh\n",
      "Description: 《动手学深度学习》：面向中文读者、能运行、可讨论。中英文版被70多个国家的500多所大学用于教学。\n",
      "\n",
      "Name: cpython\n",
      "Owner: python\n",
      "Stars: 64860\n",
      "Repository: https://github.com/python/cpython\n",
      "Description: The Python programming language\n",
      "\n",
      "Name: ComfyUI\n",
      "Owner: comfyanonymous\n",
      "Stars: 64420\n",
      "Repository: https://github.com/comfyanonymous/ComfyUI\n",
      "Description: The most powerful and modular diffusion model GUI, api and backend with a graph/nodes interface.\n",
      "\n",
      "Name: ansible\n",
      "Owner: ansible\n",
      "Stars: 63724\n",
      "Repository: https://github.com/ansible/ansible\n",
      "Description: Ansible is a radically simple IT automation platform that makes your applications and systems easier to deploy and maintain. Automate everything from code deployment to network configuration to cloud management, in a language that approaches plain English, using SSH, with no agents to install on remote systems. https://docs.ansible.com.\n",
      "\n",
      "Name: gpt4free\n",
      "Owner: xtekky\n",
      "Stars: 63169\n",
      "Repository: https://github.com/xtekky/gpt4free\n",
      "Description: The official gpt4free repository | various collection of powerful language models\n"
     ]
    }
   ],
   "source": [
    "# Summarize selected information about each repository.\n",
    "print(\"\\nSelected information about each repository:\")\n",
    "for repo_dict in repo_dicts:\n",
    "    try:\n",
    "        print('\\nName:', repo_dict.get('name', 'N/A'))\n",
    "        print('Owner:', repo_dict.get('owner', {}).get('login', 'N/A'))\n",
    "        print('Stars:', repo_dict.get('stargazers_count', 'N/A'))\n",
    "        print('Repository:', repo_dict.get('html_url', 'N/A'))\n",
    "        print('Description:', repo_dict.get('description', 'N/A'))\n",
    "    except Exception as e:\n",
    "        print(f\"An error occurred while processing repository: {e}\")\n"
   ]
  },
  {
   "cell_type": "markdown",
   "metadata": {},
   "source": [
    "## Monitoring API Rate Limits"
   ]
  },
  {
   "cell_type": "markdown",
   "metadata": {},
   "source": [
    "Most APIs are rate-limited, which means there’s a limit to how many requests you can make in a certain amount of time. Let's check if we are reaching GitHub's rate limits"
   ]
  },
  {
   "cell_type": "markdown",
   "metadata": {},
   "source": [
    "Response:"
   ]
  },
  {
   "cell_type": "markdown",
   "metadata": {},
   "source": [
    "{\"resources\":{\"core\":{\"limit\":60,\"remaining\":60,\"reset\":1737622127,\"used\":0,\"resource\":\"core\"},\"graphql\":{\"limit\":0,\"remaining\":0,\"reset\":1737622127,\"used\":0,\"resource\":\"graphql\"},\"integration_manifest\":{\"limit\":5000,\"remaining\":5000,\"reset\":1737622127,\"used\":0,\"resource\":\"integration_manifest\"},\"search\":{\"limit\":10,\"remaining\":10,\"reset\":1737618587,\"used\":0,\"resource\":\"search\"}},\"rate\":{\"limit\":60,\"remaining\":60,\"reset\":1737622127,\"used\":0,\"resource\":\"core\"}}"
   ]
  },
  {
   "cell_type": "markdown",
   "metadata": {},
   "source": [
    "**Note**"
   ]
  },
  {
   "cell_type": "markdown",
   "metadata": {},
   "source": [
    "_Many APIs require you to register and obtain an API key in order to make API calls.\n",
    "As of this writing GitHub has no such requirement, but if you obtain an API key, \n",
    "your limits will be much higher_"
   ]
  },
  {
   "cell_type": "markdown",
   "metadata": {},
   "source": [
    "## Visualizing Repositories Using Pygal"
   ]
  },
  {
   "cell_type": "markdown",
   "metadata": {},
   "source": [
    "Now that we have some interesting data, let’s make a visualization showing the relative popularity of Python projects on GitHub. We’ll make an inter\u0002active bar chart: the height of each bar will represent the number of stars the project has acquired. Clicking a bar will take you to that project’s home on GitHub."
   ]
  },
  {
   "cell_type": "code",
   "execution_count": 8,
   "metadata": {},
   "outputs": [
    {
     "name": "stdout",
     "output_type": "stream",
     "text": [
      "Status code: 200\n",
      "Total repositories: 18763488\n",
      "Visualization saved as 'python_repos.svg'.\n"
     ]
    }
   ],
   "source": [
    "import requests\n",
    "import pygal\n",
    "from pygal.style import LightColorizedStyle as LCS, LightenStyle as LS\n",
    "\n",
    "# Make an API call and store the response.\n",
    "URL = 'https://api.github.com/search/repositories?q=language:python&sort=stars'\n",
    "response = requests.get(URL)\n",
    "print(\"Status code:\", response.status_code)\n",
    "\n",
    "# Store API response in a variable if the request was successful.\n",
    "if response.status_code == 200:\n",
    "    response_dict = response.json()\n",
    "    print(\"Total repositories:\", response_dict['total_count'])\n",
    "\n",
    "    # Explore information about the repositories.\n",
    "    repo_dicts = response_dict['items']\n",
    "    names, stars = [], []\n",
    "\n",
    "    for repo_dict in repo_dicts:\n",
    "        names.append(repo_dict['name'])\n",
    "        stars.append(repo_dict['stargazers_count'])\n",
    "\n",
    "    # Make visualization.\n",
    "    my_style = LS('#333366', base_style=LCS)\n",
    "    chart = pygal.Bar(style=my_style, x_label_rotation=45, show_legend=False)\n",
    "\n",
    "    chart.title = 'Most-Starred Python Projects on GitHub'\n",
    "    chart.x_labels = names\n",
    "\n",
    "    chart.add('', stars)\n",
    "    chart.render_to_file('python_repos.svg')\n",
    "\n",
    "    print(\"Visualization saved as 'python_repos.svg'.\")\n",
    "else:\n",
    "    print(\"Failed to retrieve data from GitHub API.\")\n"
   ]
  },
  {
   "cell_type": "code",
   "execution_count": 9,
   "metadata": {},
   "outputs": [
    {
     "data": {
      "image/svg+xml": [
       "<svg xmlns:xlink=\"http://www.w3.org/1999/xlink\" xmlns=\"http://www.w3.org/2000/svg\" id=\"chart-f669cdf3-ecf6-4275-81a6-afa1fc611d94\" class=\"pygal-chart\" viewBox=\"0 0 800 600\"><!--Generated with pygal 3.0.5 (etree) ©Kozea 2012-2016 on 2025-01-23--><!--http://pygal.org--><!--http://github.com/Kozea/pygal--><defs><style type=\"text/css\">#chart-f669cdf3-ecf6-4275-81a6-afa1fc611d94{-webkit-user-select:none;-webkit-font-smoothing:antialiased;font-family:Consolas,\"Liberation Mono\",Menlo,Courier,monospace}#chart-f669cdf3-ecf6-4275-81a6-afa1fc611d94 .title{font-family:Consolas,\"Liberation Mono\",Menlo,Courier,monospace;font-size:16px}#chart-f669cdf3-ecf6-4275-81a6-afa1fc611d94 .legends .legend text{font-family:Consolas,\"Liberation Mono\",Menlo,Courier,monospace;font-size:14px}#chart-f669cdf3-ecf6-4275-81a6-afa1fc611d94 .axis text{font-family:Consolas,\"Liberation Mono\",Menlo,Courier,monospace;font-size:10px}#chart-f669cdf3-ecf6-4275-81a6-afa1fc611d94 .axis text.major{font-family:Consolas,\"Liberation Mono\",Menlo,Courier,monospace;font-size:10px}#chart-f669cdf3-ecf6-4275-81a6-afa1fc611d94 .text-overlay text.value{font-family:Consolas,\"Liberation Mono\",Menlo,Courier,monospace;font-size:16px}#chart-f669cdf3-ecf6-4275-81a6-afa1fc611d94 .text-overlay text.label{font-family:Consolas,\"Liberation Mono\",Menlo,Courier,monospace;font-size:10px}#chart-f669cdf3-ecf6-4275-81a6-afa1fc611d94 .tooltip{font-family:Consolas,\"Liberation Mono\",Menlo,Courier,monospace;font-size:14px}#chart-f669cdf3-ecf6-4275-81a6-afa1fc611d94 text.no_data{font-family:Consolas,\"Liberation Mono\",Menlo,Courier,monospace;font-size:64px}\n",
       "#chart-f669cdf3-ecf6-4275-81a6-afa1fc611d94{background-color:#f8f8f8}#chart-f669cdf3-ecf6-4275-81a6-afa1fc611d94 path,#chart-f669cdf3-ecf6-4275-81a6-afa1fc611d94 line,#chart-f669cdf3-ecf6-4275-81a6-afa1fc611d94 rect,#chart-f669cdf3-ecf6-4275-81a6-afa1fc611d94 circle{-webkit-transition:250ms ease-in;-moz-transition:250ms ease-in;transition:250ms ease-in}#chart-f669cdf3-ecf6-4275-81a6-afa1fc611d94 .graph &gt; .background{fill:#f8f8f8}#chart-f669cdf3-ecf6-4275-81a6-afa1fc611d94 .plot &gt; .background{fill:#ffffff}#chart-f669cdf3-ecf6-4275-81a6-afa1fc611d94 .graph{fill:#333}#chart-f669cdf3-ecf6-4275-81a6-afa1fc611d94 text.no_data{fill:#666}#chart-f669cdf3-ecf6-4275-81a6-afa1fc611d94 .title{fill:#666}#chart-f669cdf3-ecf6-4275-81a6-afa1fc611d94 .legends .legend text{fill:#333}#chart-f669cdf3-ecf6-4275-81a6-afa1fc611d94 .legends .legend:hover text{fill:#666}#chart-f669cdf3-ecf6-4275-81a6-afa1fc611d94 .axis .line{stroke:#666}#chart-f669cdf3-ecf6-4275-81a6-afa1fc611d94 .axis .guide.line{stroke:rgba(0,0,0,0.5)}#chart-f669cdf3-ecf6-4275-81a6-afa1fc611d94 .axis .major.line{stroke:#333}#chart-f669cdf3-ecf6-4275-81a6-afa1fc611d94 .axis text.major{fill:#666}#chart-f669cdf3-ecf6-4275-81a6-afa1fc611d94 .axis.y .guides:hover .guide.line,#chart-f669cdf3-ecf6-4275-81a6-afa1fc611d94 .line-graph .axis.x .guides:hover .guide.line,#chart-f669cdf3-ecf6-4275-81a6-afa1fc611d94 .stackedline-graph .axis.x .guides:hover .guide.line,#chart-f669cdf3-ecf6-4275-81a6-afa1fc611d94 .xy-graph .axis.x .guides:hover .guide.line{stroke:#666}#chart-f669cdf3-ecf6-4275-81a6-afa1fc611d94 .axis .guides:hover text{fill:#666}#chart-f669cdf3-ecf6-4275-81a6-afa1fc611d94 .reactive{fill-opacity:.5;stroke-opacity:.8;stroke-width:1}#chart-f669cdf3-ecf6-4275-81a6-afa1fc611d94 .ci{stroke:#333}#chart-f669cdf3-ecf6-4275-81a6-afa1fc611d94 .reactive.active,#chart-f669cdf3-ecf6-4275-81a6-afa1fc611d94 .active .reactive{fill-opacity:.9;stroke-opacity:.9;stroke-width:4}#chart-f669cdf3-ecf6-4275-81a6-afa1fc611d94 .ci .reactive.active{stroke-width:1.5}#chart-f669cdf3-ecf6-4275-81a6-afa1fc611d94 .series text{fill:#666}#chart-f669cdf3-ecf6-4275-81a6-afa1fc611d94 .tooltip rect{fill:#ffffff;stroke:#666;-webkit-transition:opacity 250ms ease-in;-moz-transition:opacity 250ms ease-in;transition:opacity 250ms ease-in}#chart-f669cdf3-ecf6-4275-81a6-afa1fc611d94 .tooltip .label{fill:#333}#chart-f669cdf3-ecf6-4275-81a6-afa1fc611d94 .tooltip .label{fill:#333}#chart-f669cdf3-ecf6-4275-81a6-afa1fc611d94 .tooltip .legend{font-size:.8em;fill:rgba(0,0,0,0.5)}#chart-f669cdf3-ecf6-4275-81a6-afa1fc611d94 .tooltip .x_label{font-size:.6em;fill:#666}#chart-f669cdf3-ecf6-4275-81a6-afa1fc611d94 .tooltip .xlink{font-size:.5em;text-decoration:underline}#chart-f669cdf3-ecf6-4275-81a6-afa1fc611d94 .tooltip .value{font-size:1.5em}#chart-f669cdf3-ecf6-4275-81a6-afa1fc611d94 .bound{font-size:.5em}#chart-f669cdf3-ecf6-4275-81a6-afa1fc611d94 .max-value{font-size:.75em;fill:rgba(0,0,0,0.5)}#chart-f669cdf3-ecf6-4275-81a6-afa1fc611d94 .map-element{fill:#ffffff;stroke:rgba(0,0,0,0.5) !important}#chart-f669cdf3-ecf6-4275-81a6-afa1fc611d94 .map-element .reactive{fill-opacity:inherit;stroke-opacity:inherit}#chart-f669cdf3-ecf6-4275-81a6-afa1fc611d94 .color-0,#chart-f669cdf3-ecf6-4275-81a6-afa1fc611d94 .color-0 a:visited{stroke:#333366;fill:#333366}#chart-f669cdf3-ecf6-4275-81a6-afa1fc611d94 .text-overlay .color-0 text{fill:black}\n",
       "#chart-f669cdf3-ecf6-4275-81a6-afa1fc611d94 text.no_data{text-anchor:middle}#chart-f669cdf3-ecf6-4275-81a6-afa1fc611d94 .guide.line{fill:none}#chart-f669cdf3-ecf6-4275-81a6-afa1fc611d94 .centered{text-anchor:middle}#chart-f669cdf3-ecf6-4275-81a6-afa1fc611d94 .title{text-anchor:middle}#chart-f669cdf3-ecf6-4275-81a6-afa1fc611d94 .legends .legend text{fill-opacity:1}#chart-f669cdf3-ecf6-4275-81a6-afa1fc611d94 .axis.x text{text-anchor:middle}#chart-f669cdf3-ecf6-4275-81a6-afa1fc611d94 .axis.x:not(.web) text[transform]{text-anchor:start}#chart-f669cdf3-ecf6-4275-81a6-afa1fc611d94 .axis.x:not(.web) text[transform].backwards{text-anchor:end}#chart-f669cdf3-ecf6-4275-81a6-afa1fc611d94 .axis.y text{text-anchor:end}#chart-f669cdf3-ecf6-4275-81a6-afa1fc611d94 .axis.y text[transform].backwards{text-anchor:start}#chart-f669cdf3-ecf6-4275-81a6-afa1fc611d94 .axis.y2 text{text-anchor:start}#chart-f669cdf3-ecf6-4275-81a6-afa1fc611d94 .axis.y2 text[transform].backwards{text-anchor:end}#chart-f669cdf3-ecf6-4275-81a6-afa1fc611d94 .axis .guide.line{stroke-dasharray:4,4;stroke:black}#chart-f669cdf3-ecf6-4275-81a6-afa1fc611d94 .axis .major.guide.line{stroke-dasharray:6,6;stroke:black}#chart-f669cdf3-ecf6-4275-81a6-afa1fc611d94 .horizontal .axis.y .guide.line,#chart-f669cdf3-ecf6-4275-81a6-afa1fc611d94 .horizontal .axis.y2 .guide.line,#chart-f669cdf3-ecf6-4275-81a6-afa1fc611d94 .vertical .axis.x .guide.line{opacity:0}#chart-f669cdf3-ecf6-4275-81a6-afa1fc611d94 .horizontal .axis.always_show .guide.line,#chart-f669cdf3-ecf6-4275-81a6-afa1fc611d94 .vertical .axis.always_show .guide.line{opacity:1 !important}#chart-f669cdf3-ecf6-4275-81a6-afa1fc611d94 .axis.y .guides:hover .guide.line,#chart-f669cdf3-ecf6-4275-81a6-afa1fc611d94 .axis.y2 .guides:hover .guide.line,#chart-f669cdf3-ecf6-4275-81a6-afa1fc611d94 .axis.x .guides:hover .guide.line{opacity:1}#chart-f669cdf3-ecf6-4275-81a6-afa1fc611d94 .axis .guides:hover text{opacity:1}#chart-f669cdf3-ecf6-4275-81a6-afa1fc611d94 .nofill{fill:none}#chart-f669cdf3-ecf6-4275-81a6-afa1fc611d94 .subtle-fill{fill-opacity:.2}#chart-f669cdf3-ecf6-4275-81a6-afa1fc611d94 .dot{stroke-width:1px;fill-opacity:1;stroke-opacity:1}#chart-f669cdf3-ecf6-4275-81a6-afa1fc611d94 .dot.active{stroke-width:5px}#chart-f669cdf3-ecf6-4275-81a6-afa1fc611d94 .dot.negative{fill:transparent}#chart-f669cdf3-ecf6-4275-81a6-afa1fc611d94 text,#chart-f669cdf3-ecf6-4275-81a6-afa1fc611d94 tspan{stroke:none !important}#chart-f669cdf3-ecf6-4275-81a6-afa1fc611d94 .series text.active{opacity:1}#chart-f669cdf3-ecf6-4275-81a6-afa1fc611d94 .tooltip rect{fill-opacity:.95;stroke-width:.5}#chart-f669cdf3-ecf6-4275-81a6-afa1fc611d94 .tooltip text{fill-opacity:1}#chart-f669cdf3-ecf6-4275-81a6-afa1fc611d94 .showable{visibility:hidden}#chart-f669cdf3-ecf6-4275-81a6-afa1fc611d94 .showable.shown{visibility:visible}#chart-f669cdf3-ecf6-4275-81a6-afa1fc611d94 .gauge-background{fill:rgba(229,229,229,1);stroke:none}#chart-f669cdf3-ecf6-4275-81a6-afa1fc611d94 .bg-lines{stroke:#f8f8f8;stroke-width:2px}</style><script type=\"text/javascript\">window.pygal = window.pygal || {};window.pygal.config = window.pygal.config || {};window.pygal.config['f669cdf3-ecf6-4275-81a6-afa1fc611d94'] = {\"allow_interruptions\": false, \"box_mode\": \"extremes\", \"classes\": [\"pygal-chart\"], \"css\": [\"file://style.css\", \"file://graph.css\"], \"defs\": [], \"disable_xml_declaration\": false, \"dots_size\": 2.5, \"dynamic_print_values\": false, \"explicit_size\": false, \"fill\": false, \"force_uri_protocol\": \"https\", \"formatter\": null, \"half_pie\": false, \"height\": 600, \"include_x_axis\": false, \"inner_radius\": 0, \"interpolate\": null, \"interpolation_parameters\": {}, \"interpolation_precision\": 250, \"inverse_y_axis\": false, \"js\": [\"//kozea.github.io/pygal.js/2.0.x/pygal-tooltips.min.js\"], \"legend_at_bottom\": false, \"legend_at_bottom_columns\": null, \"legend_box_size\": 12, \"logarithmic\": false, \"margin\": 20, \"margin_bottom\": null, \"margin_left\": null, \"margin_right\": null, \"margin_top\": null, \"max_scale\": 16, \"min_scale\": 4, \"missing_value_fill_truncation\": \"x\", \"no_data_text\": \"No data\", \"no_prefix\": false, \"order_min\": null, \"pretty_print\": false, \"print_labels\": false, \"print_values\": false, \"print_values_position\": \"center\", \"print_zeroes\": true, \"range\": null, \"rounded_bars\": null, \"secondary_range\": null, \"show_dots\": true, \"show_legend\": false, \"show_minor_x_labels\": true, \"show_minor_y_labels\": true, \"show_only_major_dots\": false, \"show_x_guides\": false, \"show_x_labels\": true, \"show_y_guides\": true, \"show_y_labels\": true, \"spacing\": 10, \"stack_from_top\": false, \"strict\": false, \"stroke\": true, \"stroke_style\": null, \"style\": {\"background\": \"#f8f8f8\", \"ci_colors\": [], \"colors\": [\"#333366\", \"#3c3c79\", \"#46468c\", \"#4f4f9f\", \"#5d5dae\", \"#6f6fb7\", \"#8282c1\", \"#9595ca\", \"#a8a8d4\", \"#bbbbdd\"], \"dot_opacity\": \"1\", \"font_family\": \"Consolas, \\\"Liberation Mono\\\", Menlo, Courier, monospace\", \"foreground\": \"#333\", \"foreground_strong\": \"#666\", \"foreground_subtle\": \"rgba(0, 0 , 0, 0.5)\", \"guide_stroke_color\": \"black\", \"guide_stroke_dasharray\": \"4,4\", \"label_font_family\": \"Consolas, \\\"Liberation Mono\\\", Menlo, Courier, monospace\", \"label_font_size\": 10, \"legend_font_family\": \"Consolas, \\\"Liberation Mono\\\", Menlo, Courier, monospace\", \"legend_font_size\": 14, \"major_guide_stroke_color\": \"black\", \"major_guide_stroke_dasharray\": \"6,6\", \"major_label_font_family\": \"Consolas, \\\"Liberation Mono\\\", Menlo, Courier, monospace\", \"major_label_font_size\": 10, \"no_data_font_family\": \"Consolas, \\\"Liberation Mono\\\", Menlo, Courier, monospace\", \"no_data_font_size\": 64, \"opacity\": \".5\", \"opacity_hover\": \".9\", \"plot_background\": \"#ffffff\", \"stroke_opacity\": \".8\", \"stroke_opacity_hover\": \".9\", \"stroke_width\": \"1\", \"stroke_width_hover\": \"4\", \"title_font_family\": \"Consolas, \\\"Liberation Mono\\\", Menlo, Courier, monospace\", \"title_font_size\": 16, \"tooltip_font_family\": \"Consolas, \\\"Liberation Mono\\\", Menlo, Courier, monospace\", \"tooltip_font_size\": 14, \"transition\": \"250ms ease-in\", \"value_background\": \"rgba(229, 229, 229, 1)\", \"value_colors\": [], \"value_font_family\": \"Consolas, \\\"Liberation Mono\\\", Menlo, Courier, monospace\", \"value_font_size\": 16, \"value_label_font_family\": \"Consolas, \\\"Liberation Mono\\\", Menlo, Courier, monospace\", \"value_label_font_size\": 10}, \"title\": \"Most-Starred Python Projects on GitHub\", \"tooltip_border_radius\": 0, \"tooltip_fancy_mode\": true, \"truncate_label\": null, \"truncate_legend\": null, \"width\": 800, \"x_label_rotation\": 45, \"x_labels\": [\"public-apis\", \"system-design-primer\", \"awesome-python\", \"Python\", \"AutoGPT\", \"Python-100-Days\", \"stable-diffusion-webui\", \"transformers\", \"youtube-dl\", \"HelloGitHub\", \"yt-dlp\", \"thefuck\", \"pytorch\", \"django\", \"fastapi\", \"models\", \"core\", \"whisper\", \"manim\", \"funNLP\", \"flask\", \"devops-exercises\", \"screenshot-to-code\", \"gpt_academic\", \"awesome-machine-learning\", \"d2l-zh\", \"cpython\", \"ComfyUI\", \"ansible\", \"gpt4free\"], \"x_labels_major\": null, \"x_labels_major_count\": null, \"x_labels_major_every\": null, \"x_title\": null, \"xrange\": null, \"y_label_rotation\": 0, \"y_labels\": null, \"y_labels_major\": null, \"y_labels_major_count\": null, \"y_labels_major_every\": null, \"y_title\": null, \"zero\": 0, \"legends\": [\"\"]}</script><script type=\"text/javascript\" xlink:href=\"https://kozea.github.io/pygal.js/2.0.x/pygal-tooltips.min.js\"/></defs><title>Most-Starred Python Projects on GitHub</title><g class=\"graph bar-graph vertical\"><rect x=\"0\" y=\"0\" width=\"800\" height=\"600\" class=\"background\"/><g transform=\"translate(66, 46)\" class=\"plot\"><rect x=\"0\" y=\"0\" width=\"632.1766235091371\" height=\"422.17662350913713\" class=\"background\"/><g class=\"axis y always_show\"><g class=\"guides\"><path d=\"M0.000000 414.057842 h632.176624\" class=\"axis major line\"/><text x=\"-5\" y=\"417.55784228780755\" class=\"major\">0</text><title>0</title></g><g class=\"guides\"><path d=\"M0.000000 364.161821 h632.176624\" class=\"guide line\"/><text x=\"-5\" y=\"367.6618209170001\" class=\"\">40000</text><title>40000</title></g><g class=\"guides\"><path d=\"M0.000000 314.265800 h632.176624\" class=\"guide line\"/><text x=\"-5\" y=\"317.76579954619274\" class=\"\">80000</text><title>80000</title></g><g class=\"guides\"><path d=\"M0.000000 264.369778 h632.176624\" class=\"guide line\"/><text x=\"-5\" y=\"267.86977817538525\" class=\"\">120000</text><title>120000</title></g><g class=\"guides\"><path d=\"M0.000000 214.473757 h632.176624\" class=\"guide line\"/><text x=\"-5\" y=\"217.97375680457785\" class=\"\">160000</text><title>160000</title></g><g class=\"guides\"><path d=\"M0.000000 164.577735 h632.176624\" class=\"guide line\"/><text x=\"-5\" y=\"168.07773543377044\" class=\"\">200000</text><title>200000</title></g><g class=\"guides\"><path d=\"M0.000000 114.681714 h632.176624\" class=\"guide line\"/><text x=\"-5\" y=\"118.18171406296295\" class=\"\">240000</text><title>240000</title></g><g class=\"guides\"><path d=\"M0.000000 64.785693 h632.176624\" class=\"guide line\"/><text x=\"-5\" y=\"68.28569269215558\" class=\"\">280000</text><title>280000</title></g><g class=\"guides\"><path d=\"M0.000000 14.889671 h632.176624\" class=\"guide line\"/><text x=\"-5\" y=\"18.389671321348146\" class=\"\">320000</text><title>320000</title></g></g><g class=\"axis x\"><path d=\"M0.000000 0.000000 v422.176624\" class=\"line\"/><g class=\"guides\"><path d=\"M22.288278 0.000000 v422.176624\" class=\"guide line\"/><text x=\"22.288278392950346\" y=\"437.17662350913713\" class=\"\" transform=\"rotate(45 22.288278 437.176624)\">public-apis</text></g><g class=\"guides\"><path d=\"M42.550350 0.000000 v422.176624\" class=\"guide line\"/><text x=\"42.550349659268846\" y=\"437.17662350913713\" class=\"\" transform=\"rotate(45 42.550350 437.176624)\">system-design-primer</text></g><g class=\"guides\"><path d=\"M62.812421 0.000000 v422.176624\" class=\"guide line\"/><text x=\"62.81242092558734\" y=\"437.17662350913713\" class=\"\" transform=\"rotate(45 62.812421 437.176624)\">awesome-python</text></g><g class=\"guides\"><path d=\"M83.074492 0.000000 v422.176624\" class=\"guide line\"/><text x=\"83.07449219190583\" y=\"437.17662350913713\" class=\"\" transform=\"rotate(45 83.074492 437.176624)\">Python</text></g><g class=\"guides\"><path d=\"M103.336563 0.000000 v422.176624\" class=\"guide line\"/><text x=\"103.33656345822433\" y=\"437.17662350913713\" class=\"\" transform=\"rotate(45 103.336563 437.176624)\">AutoGPT</text></g><g class=\"guides\"><path d=\"M123.598635 0.000000 v422.176624\" class=\"guide line\"/><text x=\"123.59863472454282\" y=\"437.17662350913713\" class=\"\" transform=\"rotate(45 123.598635 437.176624)\">Python-100-Days</text></g><g class=\"guides\"><path d=\"M143.860706 0.000000 v422.176624\" class=\"guide line\"/><text x=\"143.86070599086133\" y=\"437.17662350913713\" class=\"\" transform=\"rotate(45 143.860706 437.176624)\">stable-diffusion-webui</text></g><g class=\"guides\"><path d=\"M164.122777 0.000000 v422.176624\" class=\"guide line\"/><text x=\"164.12277725717982\" y=\"437.17662350913713\" class=\"\" transform=\"rotate(45 164.122777 437.176624)\">transformers</text></g><g class=\"guides\"><path d=\"M184.384849 0.000000 v422.176624\" class=\"guide line\"/><text x=\"184.38484852349833\" y=\"437.17662350913713\" class=\"\" transform=\"rotate(45 184.384849 437.176624)\">youtube-dl</text></g><g class=\"guides\"><path d=\"M204.646920 0.000000 v422.176624\" class=\"guide line\"/><text x=\"204.64691978981682\" y=\"437.17662350913713\" class=\"\" transform=\"rotate(45 204.646920 437.176624)\">HelloGitHub</text></g><g class=\"guides\"><path d=\"M224.908991 0.000000 v422.176624\" class=\"guide line\"/><text x=\"224.90899105613533\" y=\"437.17662350913713\" class=\"\" transform=\"rotate(45 224.908991 437.176624)\">yt-dlp</text></g><g class=\"guides\"><path d=\"M245.171062 0.000000 v422.176624\" class=\"guide line\"/><text x=\"245.17106232245382\" y=\"437.17662350913713\" class=\"\" transform=\"rotate(45 245.171062 437.176624)\">thefuck</text></g><g class=\"guides\"><path d=\"M265.433134 0.000000 v422.176624\" class=\"guide line\"/><text x=\"265.4331335887723\" y=\"437.17662350913713\" class=\"\" transform=\"rotate(45 265.433134 437.176624)\">pytorch</text></g><g class=\"guides\"><path d=\"M285.695205 0.000000 v422.176624\" class=\"guide line\"/><text x=\"285.6952048550908\" y=\"437.17662350913713\" class=\"\" transform=\"rotate(45 285.695205 437.176624)\">django</text></g><g class=\"guides\"><path d=\"M305.957276 0.000000 v422.176624\" class=\"guide line\"/><text x=\"305.9572761214093\" y=\"437.17662350913713\" class=\"\" transform=\"rotate(45 305.957276 437.176624)\">fastapi</text></g><g class=\"guides\"><path d=\"M326.219347 0.000000 v422.176624\" class=\"guide line\"/><text x=\"326.21934738772785\" y=\"437.17662350913713\" class=\"\" transform=\"rotate(45 326.219347 437.176624)\">models</text></g><g class=\"guides\"><path d=\"M346.481419 0.000000 v422.176624\" class=\"guide line\"/><text x=\"346.48141865404637\" y=\"437.17662350913713\" class=\"\" transform=\"rotate(45 346.481419 437.176624)\">core</text></g><g class=\"guides\"><path d=\"M366.743490 0.000000 v422.176624\" class=\"guide line\"/><text x=\"366.7434899203648\" y=\"437.17662350913713\" class=\"\" transform=\"rotate(45 366.743490 437.176624)\">whisper</text></g><g class=\"guides\"><path d=\"M387.005561 0.000000 v422.176624\" class=\"guide line\"/><text x=\"387.00556118668334\" y=\"437.17662350913713\" class=\"\" transform=\"rotate(45 387.005561 437.176624)\">manim</text></g><g class=\"guides\"><path d=\"M407.267632 0.000000 v422.176624\" class=\"guide line\"/><text x=\"407.2676324530018\" y=\"437.17662350913713\" class=\"\" transform=\"rotate(45 407.267632 437.176624)\">funNLP</text></g><g class=\"guides\"><path d=\"M427.529704 0.000000 v422.176624\" class=\"guide line\"/><text x=\"427.5297037193203\" y=\"437.17662350913713\" class=\"\" transform=\"rotate(45 427.529704 437.176624)\">flask</text></g><g class=\"guides\"><path d=\"M447.791775 0.000000 v422.176624\" class=\"guide line\"/><text x=\"447.7917749856388\" y=\"437.17662350913713\" class=\"\" transform=\"rotate(45 447.791775 437.176624)\">devops-exercises</text></g><g class=\"guides\"><path d=\"M468.053846 0.000000 v422.176624\" class=\"guide line\"/><text x=\"468.0538462519573\" y=\"437.17662350913713\" class=\"\" transform=\"rotate(45 468.053846 437.176624)\">screenshot-to-code</text></g><g class=\"guides\"><path d=\"M488.315918 0.000000 v422.176624\" class=\"guide line\"/><text x=\"488.31591751827574\" y=\"437.17662350913713\" class=\"\" transform=\"rotate(45 488.315918 437.176624)\">gpt_academic</text></g><g class=\"guides\"><path d=\"M508.577989 0.000000 v422.176624\" class=\"guide line\"/><text x=\"508.57798878459425\" y=\"437.17662350913713\" class=\"\" transform=\"rotate(45 508.577989 437.176624)\">awesome-machine-learning</text></g><g class=\"guides\"><path d=\"M528.840060 0.000000 v422.176624\" class=\"guide line\"/><text x=\"528.8400600509127\" y=\"437.17662350913713\" class=\"\" transform=\"rotate(45 528.840060 437.176624)\">d2l-zh</text></g><g class=\"guides\"><path d=\"M549.102131 0.000000 v422.176624\" class=\"guide line\"/><text x=\"549.1021313172313\" y=\"437.17662350913713\" class=\"\" transform=\"rotate(45 549.102131 437.176624)\">cpython</text></g><g class=\"guides\"><path d=\"M569.364203 0.000000 v422.176624\" class=\"guide line\"/><text x=\"569.3642025835497\" y=\"437.17662350913713\" class=\"\" transform=\"rotate(45 569.364203 437.176624)\">ComfyUI</text></g><g class=\"guides\"><path d=\"M589.626274 0.000000 v422.176624\" class=\"guide line\"/><text x=\"589.6262738498683\" y=\"437.17662350913713\" class=\"\" transform=\"rotate(45 589.626274 437.176624)\">ansible</text></g><g class=\"guides\"><path d=\"M609.888345 0.000000 v422.176624\" class=\"guide line\"/><text x=\"609.8883451161867\" y=\"437.17662350913713\" class=\"\" transform=\"rotate(45 609.888345 437.176624)\">gpt4free</text></g></g><g class=\"series serie-0 color-0\"><g class=\"bars\"><g class=\"bar\"><rect x=\"14.442804398631825\" y=\"8.118781221329584\" rx=\"0\" ry=\"0\" width=\"15.690947988637047\" height=\"405.93906106647796\" class=\"rect reactive tooltip-trigger\"/><desc class=\"value\">325428</desc><desc class=\"x centered\">22.28827839295035</desc><desc class=\"y centered\">211.08831175456856</desc><desc class=\"x_label\">public-apis</desc></g><g class=\"bar\"><rect x=\"34.70487566495033\" y=\"56.37447088957168\" rx=\"0\" ry=\"0\" width=\"15.690947988637047\" height=\"357.68337139823586\" class=\"rect reactive tooltip-trigger\"/><desc class=\"value\">286743</desc><desc class=\"x centered\">42.55034965926885</desc><desc class=\"y centered\">235.2161565886896</desc><desc class=\"x_label\">system-design-primer</desc></g><g class=\"bar\"><rect x=\"54.96694693126883\" y=\"125.47422348546866\" rx=\"0\" ry=\"0\" width=\"15.690947988637047\" height=\"288.5836188023389\" class=\"rect reactive tooltip-trigger\"/><desc class=\"value\">231348</desc><desc class=\"x centered\">62.812420925587354</desc><desc class=\"y centered\">269.7660328866381</desc><desc class=\"x_label\">awesome-python</desc></g><g class=\"bar\"><rect x=\"75.22901819758732\" y=\"168.77274343052105\" rx=\"0\" ry=\"0\" width=\"15.690947988637047\" height=\"245.2850988572865\" class=\"rect reactive tooltip-trigger\"/><desc class=\"value\">196637</desc><desc class=\"x centered\">83.07449219190585</desc><desc class=\"y centered\">291.4152928591643</desc><desc class=\"x_label\">Python</desc></g><g class=\"bar\"><rect x=\"95.49108946390581\" y=\"201.03176864728235\" rx=\"0\" ry=\"0\" width=\"15.690947988637047\" height=\"213.0260736405252\" class=\"rect reactive tooltip-trigger\"/><desc class=\"value\">170776</desc><desc class=\"x centered\">103.33656345822433</desc><desc class=\"y centered\">307.54480546754496</desc><desc class=\"x_label\">AutoGPT</desc></g><g class=\"bar\"><rect x=\"115.7531607302243\" y=\"214.37146996076768\" rx=\"0\" ry=\"0\" width=\"15.690947988637047\" height=\"199.68637232703986\" class=\"rect reactive tooltip-trigger\"/><desc class=\"value\">160082</desc><desc class=\"x centered\">123.59863472454282</desc><desc class=\"y centered\">314.2146561242876</desc><desc class=\"x_label\">Python-100-Days</desc></g><g class=\"bar\"><rect x=\"136.0152319965428\" y=\"231.64048295720414\" rx=\"0\" ry=\"0\" width=\"15.690947988637047\" height=\"182.4173593306034\" class=\"rect reactive tooltip-trigger\"/><desc class=\"value\">146238</desc><desc class=\"x centered\">143.86070599086133</desc><desc class=\"y centered\">322.84916262250584</desc><desc class=\"x_label\">stable-diffusion-webui</desc></g><g class=\"bar\"><rect x=\"156.27730326286132\" y=\"242.0350716092776\" rx=\"0\" ry=\"0\" width=\"15.690947988637047\" height=\"172.02277067852995\" class=\"rect reactive tooltip-trigger\"/><desc class=\"value\">137905</desc><desc class=\"x centered\">164.12277725717985</desc><desc class=\"y centered\">328.0464569485426</desc><desc class=\"x_label\">transformers</desc></g><g class=\"bar\"><rect x=\"176.5393745291798\" y=\"247.18309361421066\" rx=\"0\" ry=\"0\" width=\"15.690947988637047\" height=\"166.87474867359688\" class=\"rect reactive tooltip-trigger\"/><desc class=\"value\">133778</desc><desc class=\"x centered\">184.38484852349833</desc><desc class=\"y centered\">330.6204679510091</desc><desc class=\"x_label\">youtube-dl</desc></g><g class=\"bar\"><rect x=\"196.8014457954983\" y=\"292.2092632992273\" rx=\"0\" ry=\"0\" width=\"15.690947988637047\" height=\"121.84857898858024\" class=\"rect reactive tooltip-trigger\"/><desc class=\"value\">97682</desc><desc class=\"x centered\">204.64691978981682</desc><desc class=\"y centered\">353.1335527935174</desc><desc class=\"x_label\">HelloGitHub</desc></g><g class=\"bar\"><rect x=\"217.06351706181678\" y=\"292.3639409654768\" rx=\"0\" ry=\"0\" width=\"15.690947988637047\" height=\"121.69390132233076\" class=\"rect reactive tooltip-trigger\"/><desc class=\"value\">97558</desc><desc class=\"x centered\">224.9089910561353</desc><desc class=\"y centered\">353.21089162664214</desc><desc class=\"x_label\">yt-dlp</desc></g><g class=\"bar\"><rect x=\"237.3255883281353\" y=\"302.5152865133675\" rx=\"0\" ry=\"0\" width=\"15.690947988637047\" height=\"111.54255577444002\" class=\"rect reactive tooltip-trigger\"/><desc class=\"value\">89420</desc><desc class=\"x centered\">245.17106232245382</desc><desc class=\"y centered\">358.2865644005875</desc><desc class=\"x_label\">thefuck</desc></g><g class=\"bar\"><rect x=\"257.58765959445384\" y=\"306.66289328981594\" rx=\"0\" ry=\"0\" width=\"15.690947988637047\" height=\"107.3949489979916\" class=\"rect reactive tooltip-trigger\"/><desc class=\"value\">86095</desc><desc class=\"x centered\">265.43313358877236</desc><desc class=\"y centered\">360.36036778881174</desc><desc class=\"x_label\">pytorch</desc></g><g class=\"bar\"><rect x=\"277.8497308607723\" y=\"311.76226667391245\" rx=\"0\" ry=\"0\" width=\"15.690947988637047\" height=\"102.2955756138951\" class=\"rect reactive tooltip-trigger\"/><desc class=\"value\">82007</desc><desc class=\"x centered\">285.6952048550908</desc><desc class=\"y centered\">362.91005448086</desc><desc class=\"x_label\">django</desc></g><g class=\"bar\"><rect x=\"298.11180212709075\" y=\"314.17723410825954\" rx=\"0\" ry=\"0\" width=\"15.690947988637047\" height=\"99.880608179548\" class=\"rect reactive tooltip-trigger\"/><desc class=\"value\">80071</desc><desc class=\"x centered\">305.9572761214093</desc><desc class=\"y centered\">364.11753819803357</desc><desc class=\"x_label\">fastapi</desc></g><g class=\"bar\"><rect x=\"318.37387339340927\" y=\"317.6163173812424\" rx=\"0\" ry=\"0\" width=\"15.690947988637047\" height=\"96.44152490656512\" class=\"rect reactive tooltip-trigger\"/><desc class=\"value\">77314</desc><desc class=\"x centered\">326.2193473877278</desc><desc class=\"y centered\">365.83707983452496</desc><desc class=\"x_label\">models</desc></g><g class=\"bar\"><rect x=\"338.6359446597278\" y=\"319.27536009182177\" rx=\"0\" ry=\"0\" width=\"15.690947988637047\" height=\"94.78248219598578\" class=\"rect reactive tooltip-trigger\"/><desc class=\"value\">75984</desc><desc class=\"x centered\">346.4814186540463</desc><desc class=\"y centered\">366.6666011898146</desc><desc class=\"x_label\">core</desc></g><g class=\"bar\"><rect x=\"358.89801592604624\" y=\"320.59386245654537\" rx=\"0\" ry=\"0\" width=\"15.690947988637047\" height=\"93.46397983126218\" class=\"rect reactive tooltip-trigger\"/><desc class=\"value\">74927</desc><desc class=\"x centered\">366.74348992036477</desc><desc class=\"y centered\">367.3258523721764</desc><desc class=\"x_label\">whisper</desc></g><g class=\"bar\"><rect x=\"379.16008719236476\" y=\"321.3984358011496\" rx=\"0\" ry=\"0\" width=\"15.690947988637047\" height=\"92.65940648665793\" class=\"rect reactive tooltip-trigger\"/><desc class=\"value\">74282</desc><desc class=\"x centered\">387.0055611866833</desc><desc class=\"y centered\">367.72813904447855</desc><desc class=\"x_label\">manim</desc></g><g class=\"bar\"><rect x=\"399.42215845868327\" y=\"325.92525234001613\" rx=\"0\" ry=\"0\" width=\"15.690947988637047\" height=\"88.13258994779142\" class=\"rect reactive tooltip-trigger\"/><desc class=\"value\">70653</desc><desc class=\"x centered\">407.2676324530018</desc><desc class=\"y centered\">369.99154731391184</desc><desc class=\"x_label\">funNLP</desc></g><g class=\"bar\"><rect x=\"419.6842297250017\" y=\"328.4612176261874\" rx=\"0\" ry=\"0\" width=\"15.690947988637047\" height=\"85.59662466162013\" class=\"rect reactive tooltip-trigger\"/><desc class=\"value\">68620</desc><desc class=\"x centered\">427.52970371932025</desc><desc class=\"y centered\">371.2595299569975</desc><desc class=\"x_label\">flask</desc></g><g class=\"bar\"><rect x=\"439.94630099132024\" y=\"329.8907386384611\" rx=\"0\" ry=\"0\" width=\"15.690947988637047\" height=\"84.16710364934647\" class=\"rect reactive tooltip-trigger\"/><desc class=\"value\">67474</desc><desc class=\"x centered\">447.79177498563877</desc><desc class=\"y centered\">371.9742904631343</desc><desc class=\"x_label\">devops-exercises</desc></g><g class=\"bar\"><rect x=\"460.2083722576387\" y=\"330.28616460782473\" rx=\"0\" ry=\"0\" width=\"15.690947988637047\" height=\"83.77167767998282\" class=\"rect reactive tooltip-trigger\"/><desc class=\"value\">67157</desc><desc class=\"x centered\">468.0538462519572</desc><desc class=\"y centered\">372.1720034478161</desc><desc class=\"x_label\">screenshot-to-code</desc></g><g class=\"bar\"><rect x=\"480.4704435239573\" y=\"330.42337866659443\" rx=\"0\" ry=\"0\" width=\"15.690947988637047\" height=\"83.63446362121311\" class=\"rect reactive tooltip-trigger\"/><desc class=\"value\">67047</desc><desc class=\"x centered\">488.3159175182758</desc><desc class=\"y centered\">372.240610477201</desc><desc class=\"x_label\">gpt_academic</desc></g><g class=\"bar\"><rect x=\"500.7325147902758\" y=\"330.8474948482463\" rx=\"0\" ry=\"0\" width=\"15.690947988637047\" height=\"83.21034743956125\" class=\"rect reactive tooltip-trigger\"/><desc class=\"value\">66707</desc><desc class=\"x centered\">508.5779887845943</desc><desc class=\"y centered\">372.4526685680269</desc><desc class=\"x_label\">awesome-machine-learning</desc></g><g class=\"bar\"><rect x=\"520.9945860565942\" y=\"332.64250421706106\" rx=\"0\" ry=\"0\" width=\"15.690947988637047\" height=\"81.41533807074649\" class=\"rect reactive tooltip-trigger\"/><desc class=\"value\">65268</desc><desc class=\"x centered\">528.8400600509127</desc><desc class=\"y centered\">373.3501732524343</desc><desc class=\"x_label\">d2l-zh</desc></g><g class=\"bar\"><rect x=\"541.2566573229127\" y=\"333.15019623450905\" rx=\"0\" ry=\"0\" width=\"15.690947988637047\" height=\"80.90764605329849\" class=\"rect reactive tooltip-trigger\"/><desc class=\"value\">64861</desc><desc class=\"x centered\">549.1021313172312</desc><desc class=\"y centered\">373.6040192611583</desc><desc class=\"x_label\">cpython</desc></g><g class=\"bar\"><rect x=\"561.5187285892312\" y=\"333.6965576685194\" rx=\"0\" ry=\"0\" width=\"15.690947988637047\" height=\"80.36128461928814\" class=\"rect reactive tooltip-trigger\"/><desc class=\"value\">64423</desc><desc class=\"x centered\">569.3642025835496</desc><desc class=\"y centered\">373.8771999781635</desc><desc class=\"x_label\">ComfyUI</desc></g><g class=\"bar\"><rect x=\"581.7807998555498\" y=\"334.5684906419742\" rx=\"0\" ry=\"0\" width=\"15.690947988637047\" height=\"79.48935164583332\" class=\"rect reactive tooltip-trigger\"/><desc class=\"value\">63724</desc><desc class=\"x centered\">589.6262738498683</desc><desc class=\"y centered\">374.31316646489086</desc><desc class=\"x_label\">ansible</desc></g><g class=\"bar\"><rect x=\"602.0428711218683\" y=\"335.2607979384942\" rx=\"0\" ry=\"0\" width=\"15.690947988637047\" height=\"78.79704434931335\" class=\"rect reactive tooltip-trigger\"/><desc class=\"value\">63169</desc><desc class=\"x centered\">609.8883451161868</desc><desc class=\"y centered\">374.6593201131509</desc><desc class=\"x_label\">gpt4free</desc></g></g></g></g><g class=\"titles\"><text x=\"400.0\" y=\"26\" class=\"title plot_title\">Most-Starred Python Projects on GitHub</text></g><g transform=\"translate(66, 46)\" class=\"plot overlay\"><g class=\"series serie-0 color-0\"/></g><g transform=\"translate(66, 46)\" class=\"plot text-overlay\"><g class=\"series serie-0 color-0\"/></g><g transform=\"translate(66, 46)\" class=\"plot tooltip-overlay\"><g transform=\"translate(0 0)\" style=\"opacity: 0\" class=\"tooltip\"><rect rx=\"0\" ry=\"0\" width=\"0\" height=\"0\" class=\"tooltip-box\"/><g class=\"text\"/></g></g></g></svg>"
      ],
      "text/plain": [
       "<IPython.core.display.SVG object>"
      ]
     },
     "execution_count": 9,
     "metadata": {},
     "output_type": "execute_result"
    }
   ],
   "source": [
    "from IPython.display import SVG\n",
    "\n",
    "# Display the SVG image in the notebook\n",
    "SVG('python_repos.svg')\n"
   ]
  },
  {
   "cell_type": "markdown",
   "metadata": {},
   "source": [
    "_The most-starred Python projects on GitHub_"
   ]
  },
  {
   "cell_type": "markdown",
   "metadata": {},
   "source": [
    "## Refining Pygal Charts"
   ]
  },
  {
   "cell_type": "markdown",
   "metadata": {},
   "source": [
    "Let’s refine the styling of our chart. We’ll be making a few different custom\u0002izations, so first restructure the code slightly by creating a configuration object that contains all of our customizations to pass to Bar()"
   ]
  },
  {
   "cell_type": "code",
   "execution_count": 26,
   "metadata": {},
   "outputs": [
    {
     "name": "stdout",
     "output_type": "stream",
     "text": [
      "Status code: 200\n",
      "Total repositories: 18764376\n"
     ]
    },
    {
     "data": {
      "image/svg+xml": [
       "<svg xmlns:xlink=\"http://www.w3.org/1999/xlink\" xmlns=\"http://www.w3.org/2000/svg\" id=\"chart-c8c3bb12-f750-422f-bf27-1f28c5ffbbe6\" class=\"pygal-chart\" viewBox=\"0 0 1000 600\"><!--Generated with pygal 3.0.5 (etree) ©Kozea 2012-2016 on 2025-01-23--><!--http://pygal.org--><!--http://github.com/Kozea/pygal--><defs><style type=\"text/css\">#chart-c8c3bb12-f750-422f-bf27-1f28c5ffbbe6{-webkit-user-select:none;-webkit-font-smoothing:antialiased;font-family:Consolas,\"Liberation Mono\",Menlo,Courier,monospace}#chart-c8c3bb12-f750-422f-bf27-1f28c5ffbbe6 .title{font-family:Consolas,\"Liberation Mono\",Menlo,Courier,monospace;font-size:16px}#chart-c8c3bb12-f750-422f-bf27-1f28c5ffbbe6 .legends .legend text{font-family:Consolas,\"Liberation Mono\",Menlo,Courier,monospace;font-size:14px}#chart-c8c3bb12-f750-422f-bf27-1f28c5ffbbe6 .axis text{font-family:Consolas,\"Liberation Mono\",Menlo,Courier,monospace;font-size:10px}#chart-c8c3bb12-f750-422f-bf27-1f28c5ffbbe6 .axis text.major{font-family:Consolas,\"Liberation Mono\",Menlo,Courier,monospace;font-size:10px}#chart-c8c3bb12-f750-422f-bf27-1f28c5ffbbe6 .text-overlay text.value{font-family:Consolas,\"Liberation Mono\",Menlo,Courier,monospace;font-size:16px}#chart-c8c3bb12-f750-422f-bf27-1f28c5ffbbe6 .text-overlay text.label{font-family:Consolas,\"Liberation Mono\",Menlo,Courier,monospace;font-size:10px}#chart-c8c3bb12-f750-422f-bf27-1f28c5ffbbe6 .tooltip{font-family:Consolas,\"Liberation Mono\",Menlo,Courier,monospace;font-size:14px}#chart-c8c3bb12-f750-422f-bf27-1f28c5ffbbe6 text.no_data{font-family:Consolas,\"Liberation Mono\",Menlo,Courier,monospace;font-size:64px}\n",
       "#chart-c8c3bb12-f750-422f-bf27-1f28c5ffbbe6{background-color:#f8f8f8}#chart-c8c3bb12-f750-422f-bf27-1f28c5ffbbe6 path,#chart-c8c3bb12-f750-422f-bf27-1f28c5ffbbe6 line,#chart-c8c3bb12-f750-422f-bf27-1f28c5ffbbe6 rect,#chart-c8c3bb12-f750-422f-bf27-1f28c5ffbbe6 circle{-webkit-transition:250ms ease-in;-moz-transition:250ms ease-in;transition:250ms ease-in}#chart-c8c3bb12-f750-422f-bf27-1f28c5ffbbe6 .graph &gt; .background{fill:#f8f8f8}#chart-c8c3bb12-f750-422f-bf27-1f28c5ffbbe6 .plot &gt; .background{fill:#ffffff}#chart-c8c3bb12-f750-422f-bf27-1f28c5ffbbe6 .graph{fill:#333}#chart-c8c3bb12-f750-422f-bf27-1f28c5ffbbe6 text.no_data{fill:#666}#chart-c8c3bb12-f750-422f-bf27-1f28c5ffbbe6 .title{fill:#666}#chart-c8c3bb12-f750-422f-bf27-1f28c5ffbbe6 .legends .legend text{fill:#333}#chart-c8c3bb12-f750-422f-bf27-1f28c5ffbbe6 .legends .legend:hover text{fill:#666}#chart-c8c3bb12-f750-422f-bf27-1f28c5ffbbe6 .axis .line{stroke:#666}#chart-c8c3bb12-f750-422f-bf27-1f28c5ffbbe6 .axis .guide.line{stroke:rgba(0,0,0,0.5)}#chart-c8c3bb12-f750-422f-bf27-1f28c5ffbbe6 .axis .major.line{stroke:#333}#chart-c8c3bb12-f750-422f-bf27-1f28c5ffbbe6 .axis text.major{fill:#666}#chart-c8c3bb12-f750-422f-bf27-1f28c5ffbbe6 .axis.y .guides:hover .guide.line,#chart-c8c3bb12-f750-422f-bf27-1f28c5ffbbe6 .line-graph .axis.x .guides:hover .guide.line,#chart-c8c3bb12-f750-422f-bf27-1f28c5ffbbe6 .stackedline-graph .axis.x .guides:hover .guide.line,#chart-c8c3bb12-f750-422f-bf27-1f28c5ffbbe6 .xy-graph .axis.x .guides:hover .guide.line{stroke:#666}#chart-c8c3bb12-f750-422f-bf27-1f28c5ffbbe6 .axis .guides:hover text{fill:#666}#chart-c8c3bb12-f750-422f-bf27-1f28c5ffbbe6 .reactive{fill-opacity:.5;stroke-opacity:.8;stroke-width:1}#chart-c8c3bb12-f750-422f-bf27-1f28c5ffbbe6 .ci{stroke:#333}#chart-c8c3bb12-f750-422f-bf27-1f28c5ffbbe6 .reactive.active,#chart-c8c3bb12-f750-422f-bf27-1f28c5ffbbe6 .active .reactive{fill-opacity:.9;stroke-opacity:.9;stroke-width:4}#chart-c8c3bb12-f750-422f-bf27-1f28c5ffbbe6 .ci .reactive.active{stroke-width:1.5}#chart-c8c3bb12-f750-422f-bf27-1f28c5ffbbe6 .series text{fill:#666}#chart-c8c3bb12-f750-422f-bf27-1f28c5ffbbe6 .tooltip rect{fill:#ffffff;stroke:#666;-webkit-transition:opacity 250ms ease-in;-moz-transition:opacity 250ms ease-in;transition:opacity 250ms ease-in}#chart-c8c3bb12-f750-422f-bf27-1f28c5ffbbe6 .tooltip .label{fill:#333}#chart-c8c3bb12-f750-422f-bf27-1f28c5ffbbe6 .tooltip .label{fill:#333}#chart-c8c3bb12-f750-422f-bf27-1f28c5ffbbe6 .tooltip .legend{font-size:.8em;fill:rgba(0,0,0,0.5)}#chart-c8c3bb12-f750-422f-bf27-1f28c5ffbbe6 .tooltip .x_label{font-size:.6em;fill:#666}#chart-c8c3bb12-f750-422f-bf27-1f28c5ffbbe6 .tooltip .xlink{font-size:.5em;text-decoration:underline}#chart-c8c3bb12-f750-422f-bf27-1f28c5ffbbe6 .tooltip .value{font-size:1.5em}#chart-c8c3bb12-f750-422f-bf27-1f28c5ffbbe6 .bound{font-size:.5em}#chart-c8c3bb12-f750-422f-bf27-1f28c5ffbbe6 .max-value{font-size:.75em;fill:rgba(0,0,0,0.5)}#chart-c8c3bb12-f750-422f-bf27-1f28c5ffbbe6 .map-element{fill:#ffffff;stroke:rgba(0,0,0,0.5) !important}#chart-c8c3bb12-f750-422f-bf27-1f28c5ffbbe6 .map-element .reactive{fill-opacity:inherit;stroke-opacity:inherit}#chart-c8c3bb12-f750-422f-bf27-1f28c5ffbbe6 .color-0,#chart-c8c3bb12-f750-422f-bf27-1f28c5ffbbe6 .color-0 a:visited{stroke:#333366;fill:#333366}#chart-c8c3bb12-f750-422f-bf27-1f28c5ffbbe6 .text-overlay .color-0 text{fill:black}\n",
       "#chart-c8c3bb12-f750-422f-bf27-1f28c5ffbbe6 text.no_data{text-anchor:middle}#chart-c8c3bb12-f750-422f-bf27-1f28c5ffbbe6 .guide.line{fill:none}#chart-c8c3bb12-f750-422f-bf27-1f28c5ffbbe6 .centered{text-anchor:middle}#chart-c8c3bb12-f750-422f-bf27-1f28c5ffbbe6 .title{text-anchor:middle}#chart-c8c3bb12-f750-422f-bf27-1f28c5ffbbe6 .legends .legend text{fill-opacity:1}#chart-c8c3bb12-f750-422f-bf27-1f28c5ffbbe6 .axis.x text{text-anchor:middle}#chart-c8c3bb12-f750-422f-bf27-1f28c5ffbbe6 .axis.x:not(.web) text[transform]{text-anchor:start}#chart-c8c3bb12-f750-422f-bf27-1f28c5ffbbe6 .axis.x:not(.web) text[transform].backwards{text-anchor:end}#chart-c8c3bb12-f750-422f-bf27-1f28c5ffbbe6 .axis.y text{text-anchor:end}#chart-c8c3bb12-f750-422f-bf27-1f28c5ffbbe6 .axis.y text[transform].backwards{text-anchor:start}#chart-c8c3bb12-f750-422f-bf27-1f28c5ffbbe6 .axis.y2 text{text-anchor:start}#chart-c8c3bb12-f750-422f-bf27-1f28c5ffbbe6 .axis.y2 text[transform].backwards{text-anchor:end}#chart-c8c3bb12-f750-422f-bf27-1f28c5ffbbe6 .axis .guide.line{stroke-dasharray:4,4;stroke:black}#chart-c8c3bb12-f750-422f-bf27-1f28c5ffbbe6 .axis .major.guide.line{stroke-dasharray:6,6;stroke:black}#chart-c8c3bb12-f750-422f-bf27-1f28c5ffbbe6 .horizontal .axis.y .guide.line,#chart-c8c3bb12-f750-422f-bf27-1f28c5ffbbe6 .horizontal .axis.y2 .guide.line,#chart-c8c3bb12-f750-422f-bf27-1f28c5ffbbe6 .vertical .axis.x .guide.line{opacity:0}#chart-c8c3bb12-f750-422f-bf27-1f28c5ffbbe6 .horizontal .axis.always_show .guide.line,#chart-c8c3bb12-f750-422f-bf27-1f28c5ffbbe6 .vertical .axis.always_show .guide.line{opacity:1 !important}#chart-c8c3bb12-f750-422f-bf27-1f28c5ffbbe6 .axis.y .guides:hover .guide.line,#chart-c8c3bb12-f750-422f-bf27-1f28c5ffbbe6 .axis.y2 .guides:hover .guide.line,#chart-c8c3bb12-f750-422f-bf27-1f28c5ffbbe6 .axis.x .guides:hover .guide.line{opacity:1}#chart-c8c3bb12-f750-422f-bf27-1f28c5ffbbe6 .axis .guides:hover text{opacity:1}#chart-c8c3bb12-f750-422f-bf27-1f28c5ffbbe6 .nofill{fill:none}#chart-c8c3bb12-f750-422f-bf27-1f28c5ffbbe6 .subtle-fill{fill-opacity:.2}#chart-c8c3bb12-f750-422f-bf27-1f28c5ffbbe6 .dot{stroke-width:1px;fill-opacity:1;stroke-opacity:1}#chart-c8c3bb12-f750-422f-bf27-1f28c5ffbbe6 .dot.active{stroke-width:5px}#chart-c8c3bb12-f750-422f-bf27-1f28c5ffbbe6 .dot.negative{fill:transparent}#chart-c8c3bb12-f750-422f-bf27-1f28c5ffbbe6 text,#chart-c8c3bb12-f750-422f-bf27-1f28c5ffbbe6 tspan{stroke:none !important}#chart-c8c3bb12-f750-422f-bf27-1f28c5ffbbe6 .series text.active{opacity:1}#chart-c8c3bb12-f750-422f-bf27-1f28c5ffbbe6 .tooltip rect{fill-opacity:.95;stroke-width:.5}#chart-c8c3bb12-f750-422f-bf27-1f28c5ffbbe6 .tooltip text{fill-opacity:1}#chart-c8c3bb12-f750-422f-bf27-1f28c5ffbbe6 .showable{visibility:hidden}#chart-c8c3bb12-f750-422f-bf27-1f28c5ffbbe6 .showable.shown{visibility:visible}#chart-c8c3bb12-f750-422f-bf27-1f28c5ffbbe6 .gauge-background{fill:rgba(229,229,229,1);stroke:none}#chart-c8c3bb12-f750-422f-bf27-1f28c5ffbbe6 .bg-lines{stroke:#f8f8f8;stroke-width:2px}</style><script type=\"text/javascript\">window.pygal = window.pygal || {};window.pygal.config = window.pygal.config || {};window.pygal.config['c8c3bb12-f750-422f-bf27-1f28c5ffbbe6'] = {\"allow_interruptions\": false, \"box_mode\": \"extremes\", \"classes\": [\"pygal-chart\"], \"css\": [\"file://style.css\", \"file://graph.css\"], \"defs\": [], \"disable_xml_declaration\": true, \"dots_size\": 2.5, \"dynamic_print_values\": false, \"explicit_size\": false, \"fill\": false, \"force_uri_protocol\": \"https\", \"formatter\": null, \"half_pie\": false, \"height\": 600, \"include_x_axis\": false, \"inner_radius\": 0, \"interpolate\": null, \"interpolation_parameters\": {}, \"interpolation_precision\": 250, \"inverse_y_axis\": false, \"js\": [\"//kozea.github.io/pygal.js/2.0.x/pygal-tooltips.min.js\"], \"label_font_size\": 14, \"legend_at_bottom\": false, \"legend_at_bottom_columns\": null, \"legend_box_size\": 12, \"logarithmic\": false, \"major_label_font_size\": 18, \"margin\": 20, \"margin_bottom\": null, \"margin_left\": null, \"margin_right\": null, \"margin_top\": null, \"max_scale\": 16, \"min_scale\": 4, \"missing_value_fill_truncation\": \"x\", \"no_data_text\": \"No data\", \"no_prefix\": false, \"order_min\": null, \"pretty_print\": false, \"print_labels\": false, \"print_values\": false, \"print_values_position\": \"center\", \"print_zeroes\": true, \"range\": null, \"rounded_bars\": null, \"secondary_range\": null, \"show_dots\": true, \"show_legend\": false, \"show_minor_x_labels\": true, \"show_minor_y_labels\": true, \"show_only_major_dots\": false, \"show_x_guides\": false, \"show_x_labels\": true, \"show_y_guides\": false, \"show_y_labels\": true, \"spacing\": 10, \"stack_from_top\": false, \"strict\": false, \"stroke\": true, \"stroke_style\": null, \"style\": {\"background\": \"#f8f8f8\", \"ci_colors\": [], \"colors\": [\"#333366\", \"#3c3c79\", \"#46468c\", \"#4f4f9f\", \"#5d5dae\", \"#6f6fb7\", \"#8282c1\", \"#9595ca\", \"#a8a8d4\", \"#bbbbdd\"], \"dot_opacity\": \"1\", \"font_family\": \"Consolas, \\\"Liberation Mono\\\", Menlo, Courier, monospace\", \"foreground\": \"#333\", \"foreground_strong\": \"#666\", \"foreground_subtle\": \"rgba(0, 0 , 0, 0.5)\", \"guide_stroke_color\": \"black\", \"guide_stroke_dasharray\": \"4,4\", \"label_font_family\": \"Consolas, \\\"Liberation Mono\\\", Menlo, Courier, monospace\", \"label_font_size\": 10, \"legend_font_family\": \"Consolas, \\\"Liberation Mono\\\", Menlo, Courier, monospace\", \"legend_font_size\": 14, \"major_guide_stroke_color\": \"black\", \"major_guide_stroke_dasharray\": \"6,6\", \"major_label_font_family\": \"Consolas, \\\"Liberation Mono\\\", Menlo, Courier, monospace\", \"major_label_font_size\": 10, \"no_data_font_family\": \"Consolas, \\\"Liberation Mono\\\", Menlo, Courier, monospace\", \"no_data_font_size\": 64, \"opacity\": \".5\", \"opacity_hover\": \".9\", \"plot_background\": \"#ffffff\", \"stroke_opacity\": \".8\", \"stroke_opacity_hover\": \".9\", \"stroke_width\": \"1\", \"stroke_width_hover\": \"4\", \"title_font_family\": \"Consolas, \\\"Liberation Mono\\\", Menlo, Courier, monospace\", \"title_font_size\": 16, \"tooltip_font_family\": \"Consolas, \\\"Liberation Mono\\\", Menlo, Courier, monospace\", \"tooltip_font_size\": 14, \"transition\": \"250ms ease-in\", \"value_background\": \"rgba(229, 229, 229, 1)\", \"value_colors\": [], \"value_font_family\": \"Consolas, \\\"Liberation Mono\\\", Menlo, Courier, monospace\", \"value_font_size\": 16, \"value_label_font_family\": \"Consolas, \\\"Liberation Mono\\\", Menlo, Courier, monospace\", \"value_label_font_size\": 10}, \"title\": \"Most-Starred Python Projects on GitHub\", \"title_font_size\": 24, \"tooltip_border_radius\": 0, \"tooltip_fancy_mode\": true, \"truncate_label\": 15, \"truncate_legend\": null, \"width\": 1000, \"x_label_rotation\": 45, \"x_labels\": [\"public-apis\", \"system-design-primer\", \"awesome-python\", \"Python\", \"AutoGPT\", \"Python-100-Days\", \"stable-diffusion-webui\", \"transformers\", \"youtube-dl\", \"HelloGitHub\", \"yt-dlp\", \"thefuck\", \"pytorch\", \"django\", \"fastapi\", \"models\", \"core\", \"whisper\", \"manim\", \"funNLP\", \"flask\", \"devops-exercises\", \"screenshot-to-code\", \"gpt_academic\", \"awesome-machine-learning\", \"d2l-zh\", \"cpython\", \"ComfyUI\", \"ansible\", \"gpt4free\"], \"x_labels_major\": null, \"x_labels_major_count\": null, \"x_labels_major_every\": null, \"x_title\": null, \"xrange\": null, \"y_label_rotation\": 0, \"y_labels\": null, \"y_labels_major\": null, \"y_labels_major_count\": null, \"y_labels_major_every\": null, \"y_title\": null, \"zero\": 0, \"legends\": [\"\"]}</script><script type=\"text/javascript\" xlink:href=\"https://kozea.github.io/pygal.js/2.0.x/pygal-tooltips.min.js\"/></defs><title>Most-Starred Python Projects on GitHub</title><g class=\"graph bar-graph vertical\"><rect x=\"0\" y=\"0\" width=\"1000\" height=\"600\" class=\"background\"/><g transform=\"translate(66, 46)\" class=\"plot\"><rect x=\"0\" y=\"0\" width=\"870.3603896932107\" height=\"460.3603896932107\" class=\"background\"/><g class=\"axis y\"><g class=\"guides\"><text x=\"-5\" y=\"455.0073052760336\" class=\"major\">0</text><title>0</title></g><g class=\"guides\"><text x=\"-5\" y=\"400.59944121034204\" class=\"\">40000</text><title>40000</title></g><g class=\"guides\"><text x=\"-5\" y=\"346.1915771446505\" class=\"\">80000</text><title>80000</title></g><g class=\"guides\"><text x=\"-5\" y=\"291.78371307895895\" class=\"\">120000</text><title>120000</title></g><g class=\"guides\"><text x=\"-5\" y=\"237.37584901326744\" class=\"\">160000</text><title>160000</title></g><g class=\"guides\"><text x=\"-5\" y=\"182.96798494757593\" class=\"\">200000</text><title>200000</title></g><g class=\"guides\"><text x=\"-5\" y=\"128.56012088188442\" class=\"\">240000</text><title>240000</title></g><g class=\"guides\"><text x=\"-5\" y=\"74.15225681619285\" class=\"\">280000</text><title>280000</title></g><g class=\"guides\"><text x=\"-5\" y=\"19.744392750501277\" class=\"\">320000</text><title>320000</title></g></g><g class=\"axis x\"><path d=\"M0.000000 0.000000 v460.360390\" class=\"line\"/><g class=\"guides\"><path d=\"M30.685783 0.000000 v460.360390\" class=\"guide line\"/><text x=\"30.68578296995294\" y=\"475.3603896932107\" class=\"\" transform=\"rotate(45 30.685783 475.360390)\">public-apis</text></g><g class=\"guides\"><path d=\"M58.581949 0.000000 v460.360390\" class=\"guide line\"/><text x=\"58.5819493062738\" y=\"475.3603896932107\" class=\"\" transform=\"rotate(45 58.581949 475.360390)\">system-design-…</text><title>system-design-primer</title></g><g class=\"guides\"><path d=\"M86.478116 0.000000 v460.360390\" class=\"guide line\"/><text x=\"86.47811564259464\" y=\"475.3603896932107\" class=\"\" transform=\"rotate(45 86.478116 475.360390)\">awesome-python</text></g><g class=\"guides\"><path d=\"M114.374282 0.000000 v460.360390\" class=\"guide line\"/><text x=\"114.37428197891549\" y=\"475.3603896932107\" class=\"\" transform=\"rotate(45 114.374282 475.360390)\">Python</text></g><g class=\"guides\"><path d=\"M142.270448 0.000000 v460.360390\" class=\"guide line\"/><text x=\"142.27044831523634\" y=\"475.3603896932107\" class=\"\" transform=\"rotate(45 142.270448 475.360390)\">AutoGPT</text></g><g class=\"guides\"><path d=\"M170.166615 0.000000 v460.360390\" class=\"guide line\"/><text x=\"170.1666146515572\" y=\"475.3603896932107\" class=\"\" transform=\"rotate(45 170.166615 475.360390)\">Python-100-Days</text></g><g class=\"guides\"><path d=\"M198.062781 0.000000 v460.360390\" class=\"guide line\"/><text x=\"198.06278098787806\" y=\"475.3603896932107\" class=\"\" transform=\"rotate(45 198.062781 475.360390)\">stable-diffusi…</text><title>stable-diffusion-webui</title></g><g class=\"guides\"><path d=\"M225.958947 0.000000 v460.360390\" class=\"guide line\"/><text x=\"225.95894732419893\" y=\"475.3603896932107\" class=\"\" transform=\"rotate(45 225.958947 475.360390)\">transformers</text></g><g class=\"guides\"><path d=\"M253.855114 0.000000 v460.360390\" class=\"guide line\"/><text x=\"253.85511366051978\" y=\"475.3603896932107\" class=\"\" transform=\"rotate(45 253.855114 475.360390)\">youtube-dl</text></g><g class=\"guides\"><path d=\"M281.751280 0.000000 v460.360390\" class=\"guide line\"/><text x=\"281.7512799968406\" y=\"475.3603896932107\" class=\"\" transform=\"rotate(45 281.751280 475.360390)\">HelloGitHub</text></g><g class=\"guides\"><path d=\"M309.647446 0.000000 v460.360390\" class=\"guide line\"/><text x=\"309.6474463331615\" y=\"475.3603896932107\" class=\"\" transform=\"rotate(45 309.647446 475.360390)\">yt-dlp</text></g><g class=\"guides\"><path d=\"M337.543613 0.000000 v460.360390\" class=\"guide line\"/><text x=\"337.5436126694824\" y=\"475.3603896932107\" class=\"\" transform=\"rotate(45 337.543613 475.360390)\">thefuck</text></g><g class=\"guides\"><path d=\"M365.439779 0.000000 v460.360390\" class=\"guide line\"/><text x=\"365.4397790058032\" y=\"475.3603896932107\" class=\"\" transform=\"rotate(45 365.439779 475.360390)\">pytorch</text></g><g class=\"guides\"><path d=\"M393.335945 0.000000 v460.360390\" class=\"guide line\"/><text x=\"393.33594534212403\" y=\"475.3603896932107\" class=\"\" transform=\"rotate(45 393.335945 475.360390)\">django</text></g><g class=\"guides\"><path d=\"M421.232112 0.000000 v460.360390\" class=\"guide line\"/><text x=\"421.2321116784449\" y=\"475.3603896932107\" class=\"\" transform=\"rotate(45 421.232112 475.360390)\">fastapi</text></g><g class=\"guides\"><path d=\"M449.128278 0.000000 v460.360390\" class=\"guide line\"/><text x=\"449.12827801476584\" y=\"475.3603896932107\" class=\"\" transform=\"rotate(45 449.128278 475.360390)\">models</text></g><g class=\"guides\"><path d=\"M477.024444 0.000000 v460.360390\" class=\"guide line\"/><text x=\"477.02444435108663\" y=\"475.3603896932107\" class=\"\" transform=\"rotate(45 477.024444 475.360390)\">core</text></g><g class=\"guides\"><path d=\"M504.920611 0.000000 v460.360390\" class=\"guide line\"/><text x=\"504.92061068740753\" y=\"475.3603896932107\" class=\"\" transform=\"rotate(45 504.920611 475.360390)\">whisper</text></g><g class=\"guides\"><path d=\"M532.816777 0.000000 v460.360390\" class=\"guide line\"/><text x=\"532.8167770237284\" y=\"475.3603896932107\" class=\"\" transform=\"rotate(45 532.816777 475.360390)\">manim</text></g><g class=\"guides\"><path d=\"M560.712943 0.000000 v460.360390\" class=\"guide line\"/><text x=\"560.7129433600492\" y=\"475.3603896932107\" class=\"\" transform=\"rotate(45 560.712943 475.360390)\">funNLP</text></g><g class=\"guides\"><path d=\"M588.609110 0.000000 v460.360390\" class=\"guide line\"/><text x=\"588.6091096963701\" y=\"475.3603896932107\" class=\"\" transform=\"rotate(45 588.609110 475.360390)\">flask</text></g><g class=\"guides\"><path d=\"M616.505276 0.000000 v460.360390\" class=\"guide line\"/><text x=\"616.5052760326909\" y=\"475.3603896932107\" class=\"\" transform=\"rotate(45 616.505276 475.360390)\">devops-exercis…</text><title>devops-exercises</title></g><g class=\"guides\"><path d=\"M644.401442 0.000000 v460.360390\" class=\"guide line\"/><text x=\"644.4014423690116\" y=\"475.3603896932107\" class=\"\" transform=\"rotate(45 644.401442 475.360390)\">screenshot-to-…</text><title>screenshot-to-code</title></g><g class=\"guides\"><path d=\"M672.297609 0.000000 v460.360390\" class=\"guide line\"/><text x=\"672.2976087053326\" y=\"475.3603896932107\" class=\"\" transform=\"rotate(45 672.297609 475.360390)\">gpt_academic</text></g><g class=\"guides\"><path d=\"M700.193775 0.000000 v460.360390\" class=\"guide line\"/><text x=\"700.1937750416535\" y=\"475.3603896932107\" class=\"\" transform=\"rotate(45 700.193775 475.360390)\">awesome-machin…</text><title>awesome-machine-learning</title></g><g class=\"guides\"><path d=\"M728.089941 0.000000 v460.360390\" class=\"guide line\"/><text x=\"728.0899413779744\" y=\"475.3603896932107\" class=\"\" transform=\"rotate(45 728.089941 475.360390)\">d2l-zh</text></g><g class=\"guides\"><path d=\"M755.986108 0.000000 v460.360390\" class=\"guide line\"/><text x=\"755.9861077142951\" y=\"475.3603896932107\" class=\"\" transform=\"rotate(45 755.986108 475.360390)\">cpython</text></g><g class=\"guides\"><path d=\"M783.882274 0.000000 v460.360390\" class=\"guide line\"/><text x=\"783.8822740506159\" y=\"475.3603896932107\" class=\"\" transform=\"rotate(45 783.882274 475.360390)\">ComfyUI</text></g><g class=\"guides\"><path d=\"M811.778440 0.000000 v460.360390\" class=\"guide line\"/><text x=\"811.7784403869368\" y=\"475.3603896932107\" class=\"\" transform=\"rotate(45 811.778440 475.360390)\">ansible</text></g><g class=\"guides\"><path d=\"M839.674607 0.000000 v460.360390\" class=\"guide line\"/><text x=\"839.6746067232576\" y=\"475.3603896932107\" class=\"\" transform=\"rotate(45 839.674607 475.360390)\">gpt4free</text></g></g><g class=\"series serie-0 color-0\"><g class=\"bars\"><g class=\"bar\"><rect x=\"19.884387364529506\" y=\"8.853084417177058\" rx=\"0\" ry=\"0\" width=\"21.60279121084687\" height=\"442.65422085885655\" class=\"rect reactive tooltip-trigger\"/><desc class=\"value\">325434</desc><desc class=\"x centered\">30.68578296995294</desc><desc class=\"y centered\">230.18019484660533</desc><desc class=\"x_label\">public-apis</desc></g><g class=\"bar\"><rect x=\"47.780553700850355\" y=\"61.472289951709115\" rx=\"0\" ry=\"0\" width=\"21.60279121084687\" height=\"390.0350153243245\" class=\"rect reactive tooltip-trigger\"/><desc class=\"value\">286749</desc><desc class=\"x centered\">58.58194930627379</desc><desc class=\"y centered\">256.48979761387136</desc><desc class=\"x_label\">system-design-primer</desc></g><g class=\"bar\"><rect x=\"75.67672003717121\" y=\"136.82174089628523\" rx=\"0\" ry=\"0\" width=\"21.60279121084687\" height=\"314.68556437974837\" class=\"rect reactive tooltip-trigger\"/><desc class=\"value\">231353</desc><desc class=\"x centered\">86.47811564259464</desc><desc class=\"y centered\">294.1645230861594</desc><desc class=\"x_label\">awesome-python</desc></g><g class=\"bar\"><rect x=\"103.57288637349207\" y=\"184.03960572569565\" rx=\"0\" ry=\"0\" width=\"21.60279121084687\" height=\"267.46769955033795\" class=\"rect reactive tooltip-trigger\"/><desc class=\"value\">196639</desc><desc class=\"x centered\">114.3742819789155</desc><desc class=\"y centered\">317.77345550086466</desc><desc class=\"x_label\">Python</desc></g><g class=\"bar\"><rect x=\"131.4690527098129\" y=\"219.21428984416525\" rx=\"0\" ry=\"0\" width=\"21.60279121084687\" height=\"232.29301543186835\" class=\"rect reactive tooltip-trigger\"/><desc class=\"value\">170779</desc><desc class=\"x centered\">142.27044831523634</desc><desc class=\"y centered\">335.3607975600994</desc><desc class=\"x_label\">AutoGPT</desc></g><g class=\"bar\"><rect x=\"159.36521904613375\" y=\"233.7643128919328\" rx=\"0\" ry=\"0\" width=\"21.60279121084687\" height=\"217.7429923841008\" class=\"rect reactive tooltip-trigger\"/><desc class=\"value\">160082</desc><desc class=\"x centered\">170.16661465155718</desc><desc class=\"y centered\">342.6358090839832</desc><desc class=\"x_label\">Python-100-Days</desc></g><g class=\"bar\"><rect x=\"187.26138538245462\" y=\"252.58943385866206\" rx=\"0\" ry=\"0\" width=\"21.60279121084687\" height=\"198.91787141737154\" class=\"rect reactive tooltip-trigger\"/><desc class=\"value\">146242</desc><desc class=\"x centered\">198.06278098787806</desc><desc class=\"y centered\">352.04836956734783</desc><desc class=\"x_label\">stable-diffusion-webui</desc></g><g class=\"bar\"><rect x=\"215.1575517187755\" y=\"263.92123174694393\" rx=\"0\" ry=\"0\" width=\"21.60279121084687\" height=\"187.58607352908967\" class=\"rect reactive tooltip-trigger\"/><desc class=\"value\">137911</desc><desc class=\"x centered\">225.95894732419893</desc><desc class=\"y centered\">357.71426851148874</desc><desc class=\"x_label\">transformers</desc></g><g class=\"bar\"><rect x=\"243.05371805509634\" y=\"269.5415641049299\" rx=\"0\" ry=\"0\" width=\"21.60279121084687\" height=\"181.96574117110373\" class=\"rect reactive tooltip-trigger\"/><desc class=\"value\">133779</desc><desc class=\"x centered\">253.85511366051978</desc><desc class=\"y centered\">360.5244346904817</desc><desc class=\"x_label\">youtube-dl</desc></g><g class=\"bar\"><rect x=\"270.9498843914172\" y=\"318.6365002446066\" rx=\"0\" ry=\"0\" width=\"21.60279121084687\" height=\"132.87080503142698\" class=\"rect reactive tooltip-trigger\"/><desc class=\"value\">97685</desc><desc class=\"x centered\">281.7512799968406</desc><desc class=\"y centered\">385.0719027603201</desc><desc class=\"x_label\">HelloGitHub</desc></g><g class=\"bar\"><rect x=\"298.84605072773803\" y=\"318.7956432469988\" rx=\"0\" ry=\"0\" width=\"21.60279121084687\" height=\"132.7116620290348\" class=\"rect reactive tooltip-trigger\"/><desc class=\"value\">97568</desc><desc class=\"x centered\">309.64744633316144</desc><desc class=\"y centered\">385.1514742615162</desc><desc class=\"x_label\">yt-dlp</desc></g><g class=\"bar\"><rect x=\"326.7422170640589\" y=\"329.8730843707736\" rx=\"0\" ry=\"0\" width=\"21.60279121084687\" height=\"121.63422090526001\" class=\"rect reactive tooltip-trigger\"/><desc class=\"value\">89424</desc><desc class=\"x centered\">337.5436126694823</desc><desc class=\"y centered\">390.6901948234036</desc><desc class=\"x_label\">thefuck</desc></g><g class=\"bar\"><rect x=\"354.6383834003798\" y=\"334.3957380712342\" rx=\"0\" ry=\"0\" width=\"21.60279121084687\" height=\"117.11156720479943\" class=\"rect reactive tooltip-trigger\"/><desc class=\"value\">86099</desc><desc class=\"x centered\">365.4397790058032</desc><desc class=\"y centered\">392.9515216736339</desc><desc class=\"x_label\">pytorch</desc></g><g class=\"bar\"><rect x=\"382.5345497367006\" y=\"339.95894217195115\" rx=\"0\" ry=\"0\" width=\"21.60279121084687\" height=\"111.54836310408245\" class=\"rect reactive tooltip-trigger\"/><desc class=\"value\">82009</desc><desc class=\"x centered\">393.33594534212403</desc><desc class=\"y centered\">395.7331237239924</desc><desc class=\"x_label\">django</desc></g><g class=\"bar\"><rect x=\"410.4307160730215\" y=\"342.5882022029257\" rx=\"0\" ry=\"0\" width=\"21.60279121084687\" height=\"108.91910307310792\" class=\"rect reactive tooltip-trigger\"/><desc class=\"value\">80076</desc><desc class=\"x centered\">421.2321116784449</desc><desc class=\"y centered\">397.0477537394796</desc><desc class=\"x_label\">fastapi</desc></g><g class=\"bar\"><rect x=\"438.3268824093423\" y=\"346.34506521666174\" rx=\"0\" ry=\"0\" width=\"21.60279121084687\" height=\"105.16224005937187\" class=\"rect reactive tooltip-trigger\"/><desc class=\"value\">77314</desc><desc class=\"x centered\">449.1282780147657</desc><desc class=\"y centered\">398.9261852463477</desc><desc class=\"x_label\">models</desc></g><g class=\"bar\"><rect x=\"466.22304874566316\" y=\"348.1527665002443\" rx=\"0\" ry=\"0\" width=\"21.60279121084687\" height=\"103.35453877578931\" class=\"rect reactive tooltip-trigger\"/><desc class=\"value\">75985</desc><desc class=\"x centered\">477.0244443510866</desc><desc class=\"y centered\">399.8300358881389</desc><desc class=\"x_label\">core</desc></g><g class=\"bar\"><rect x=\"494.119215081984\" y=\"349.58777391497694\" rx=\"0\" ry=\"0\" width=\"21.60279121084687\" height=\"101.91953136105667\" class=\"rect reactive tooltip-trigger\"/><desc class=\"value\">74930</desc><desc class=\"x centered\">504.9206106874074</desc><desc class=\"y centered\">400.54753959550527</desc><desc class=\"x_label\">whisper</desc></g><g class=\"bar\"><rect x=\"522.0153814183049\" y=\"350.4623803298329\" rx=\"0\" ry=\"0\" width=\"21.60279121084687\" height=\"101.0449249462007\" class=\"rect reactive tooltip-trigger\"/><desc class=\"value\">74287</desc><desc class=\"x centered\">532.8167770237283</desc><desc class=\"y centered\">400.98484280293326</desc><desc class=\"x_label\">manim</desc></g><g class=\"bar\"><rect x=\"549.9115477546258\" y=\"355.4026143869977\" rx=\"0\" ry=\"0\" width=\"21.60279121084687\" height=\"96.10469088903591\" class=\"rect reactive tooltip-trigger\"/><desc class=\"value\">70655</desc><desc class=\"x centered\">560.7129433600492</desc><desc class=\"y centered\">403.4549598315157</desc><desc class=\"x_label\">funNLP</desc></g><g class=\"bar\"><rect x=\"577.8077140909467\" y=\"358.1706144713398\" rx=\"0\" ry=\"0\" width=\"21.60279121084687\" height=\"93.33669080469383\" class=\"rect reactive tooltip-trigger\"/><desc class=\"value\">68620</desc><desc class=\"x centered\">588.6091096963701</desc><desc class=\"y centered\">404.8389598736867</desc><desc class=\"x_label\">flask</desc></g><g class=\"bar\"><rect x=\"605.7038804272674\" y=\"359.7280395802202\" rx=\"0\" ry=\"0\" width=\"21.60279121084687\" height=\"91.77926569581342\" class=\"rect reactive tooltip-trigger\"/><desc class=\"value\">67475</desc><desc class=\"x centered\">616.5052760326909</desc><desc class=\"y centered\">405.61767242812687</desc><desc class=\"x_label\">devops-exercises</desc></g><g class=\"bar\"><rect x=\"633.6000467635884\" y=\"360.1524209199326\" rx=\"0\" ry=\"0\" width=\"21.60279121084687\" height=\"91.35488435610102\" class=\"rect reactive tooltip-trigger\"/><desc class=\"value\">67163</desc><desc class=\"x centered\">644.4014423690118</desc><desc class=\"y centered\">405.8298630979831</desc><desc class=\"x_label\">screenshot-to-code</desc></g><g class=\"bar\"><rect x=\"661.4962130999093\" y=\"360.30340274271487\" rx=\"0\" ry=\"0\" width=\"21.60279121084687\" height=\"91.20390253331874\" class=\"rect reactive tooltip-trigger\"/><desc class=\"value\">67052</desc><desc class=\"x centered\">672.2976087053327</desc><desc class=\"y centered\">405.90535400937426</desc><desc class=\"x_label\">gpt_academic</desc></g><g class=\"bar\"><rect x=\"689.39237943623\" y=\"360.76995017707816\" rx=\"0\" ry=\"0\" width=\"21.60279121084687\" height=\"90.73735509895545\" class=\"rect reactive tooltip-trigger\"/><desc class=\"value\">66709</desc><desc class=\"x centered\">700.1937750416535</desc><desc class=\"y centered\">406.1386277265559</desc><desc class=\"x_label\">awesome-machine-learning</desc></g><g class=\"bar\"><rect x=\"717.288545772551\" y=\"362.7272730868414\" rx=\"0\" ry=\"0\" width=\"21.60279121084687\" height=\"88.78003218919218\" class=\"rect reactive tooltip-trigger\"/><desc class=\"value\">65270</desc><desc class=\"x centered\">728.0899413779744</desc><desc class=\"y centered\">407.1172891814375</desc><desc class=\"x_label\">d2l-zh</desc></g><g class=\"bar\"><rect x=\"745.1847121088717\" y=\"363.2835934969131\" rx=\"0\" ry=\"0\" width=\"21.60279121084687\" height=\"88.22371177912049\" class=\"rect reactive tooltip-trigger\"/><desc class=\"value\">64861</desc><desc class=\"x centered\">755.9861077142951</desc><desc class=\"y centered\">407.3954493864734</desc><desc class=\"x_label\">cpython</desc></g><g class=\"bar\"><rect x=\"773.0808784451926\" y=\"363.86575764241604\" rx=\"0\" ry=\"0\" width=\"21.60279121084687\" height=\"87.64154763361756\" class=\"rect reactive tooltip-trigger\"/><desc class=\"value\">64433</desc><desc class=\"x centered\">783.882274050616</desc><desc class=\"y centered\">407.68653145922485</desc><desc class=\"x_label\">ComfyUI</desc></g><g class=\"bar\"><rect x=\"800.9770447815135\" y=\"364.8260564431755\" rx=\"0\" ry=\"0\" width=\"21.60279121084687\" height=\"86.6812488328581\" class=\"rect reactive tooltip-trigger\"/><desc class=\"value\">63727</desc><desc class=\"x centered\">811.778440386937</desc><desc class=\"y centered\">408.1666808596045</desc><desc class=\"x_label\">ansible</desc></g><g class=\"bar\"><rect x=\"828.8732111178343\" y=\"365.5850461468919\" rx=\"0\" ry=\"0\" width=\"21.60279121084687\" height=\"85.92225912914171\" class=\"rect reactive tooltip-trigger\"/><desc class=\"value\">63169</desc><desc class=\"x centered\">839.6746067232577</desc><desc class=\"y centered\">408.54617571146275</desc><desc class=\"x_label\">gpt4free</desc></g></g></g></g><g class=\"titles\"><text x=\"500.0\" y=\"26\" class=\"title plot_title\">Most-Starred Python Projects on GitHub</text></g><g transform=\"translate(66, 46)\" class=\"plot overlay\"><g class=\"series serie-0 color-0\"/></g><g transform=\"translate(66, 46)\" class=\"plot text-overlay\"><g class=\"series serie-0 color-0\"/></g><g transform=\"translate(66, 46)\" class=\"plot tooltip-overlay\"><g transform=\"translate(0 0)\" style=\"opacity: 0\" class=\"tooltip\"><rect rx=\"0\" ry=\"0\" width=\"0\" height=\"0\" class=\"tooltip-box\"/><g class=\"text\"/></g></g></g></svg>"
      ],
      "text/plain": [
       "<IPython.core.display.SVG object>"
      ]
     },
     "metadata": {},
     "output_type": "display_data"
    }
   ],
   "source": [
    "import requests\n",
    "import pygal\n",
    "from pygal.style import LightColorizedStyle as LCS, LightenStyle as LS\n",
    "from IPython.display import display, SVG\n",
    "\n",
    "# Make an API call and store the response.\n",
    "URL = 'https://api.github.com/search/repositories?q=language:python&sort=stars'\n",
    "response = requests.get(URL)\n",
    "print(\"Status code:\", response.status_code)\n",
    "\n",
    "# Process the response only if the status code is 200.\n",
    "if response.status_code == 200:\n",
    "    response_dict = response.json()\n",
    "    print(\"Total repositories:\", response_dict['total_count'])\n",
    "\n",
    "    # Extract repository information.\n",
    "    repo_dicts = response_dict['items']\n",
    "    names, stars = [], []\n",
    "\n",
    "    for repo_dict in repo_dicts:\n",
    "        names.append(repo_dict['name'])\n",
    "        stars.append(repo_dict['stargazers_count'])\n",
    "\n",
    "    # Configure Pygal chart settings.\n",
    "    my_config = pygal.Config()\n",
    "    my_config.x_label_rotation = 45\n",
    "    my_config.show_legend = False\n",
    "    my_config.title_font_size = 24\n",
    "    my_config.label_font_size = 14\n",
    "    my_config.major_label_font_size = 18\n",
    "    my_config.truncate_label = 15\n",
    "    my_config.show_y_guides = False\n",
    "    my_config.width = 1000\n",
    "\n",
    "    # Create the bar chart with the configuration.\n",
    "    my_style = LS('#333366', base_style=LCS)\n",
    "    chart = pygal.Bar(my_config, style=my_style)\n",
    "    chart.title = 'Most-Starred Python Projects on GitHub'\n",
    "    chart.x_labels = names\n",
    "    chart.add('', stars)\n",
    "\n",
    "    # Render the chart to an SVG object and display in the notebook.\n",
    "    svg_chart = chart.render(disable_xml_declaration=True)\n",
    "    display(SVG(svg_chart))\n",
    "\n",
    "else:\n",
    "    print(\"Failed to retrieve data from GitHub API.\")\n",
    "\n",
    "\n"
   ]
  },
  {
   "cell_type": "markdown",
   "metadata": {},
   "source": [
    "_The styling for the chart has been refined_"
   ]
  },
  {
   "cell_type": "markdown",
   "metadata": {},
   "source": [
    "## Plotting the Data"
   ]
  },
  {
   "cell_type": "markdown",
   "metadata": {},
   "source": [
    "To plot our data, we’ll generate plot_dicts automatically for the 30 projects returned by the API call."
   ]
  },
  {
   "cell_type": "code",
   "execution_count": 32,
   "metadata": {},
   "outputs": [
    {
     "name": "stdout",
     "output_type": "stream",
     "text": [
      "Status code: 200\n",
      "Total repositories: 18764533\n",
      "Number of items: 30\n"
     ]
    },
    {
     "data": {
      "image/svg+xml": [
       "<svg xmlns:xlink=\"http://www.w3.org/1999/xlink\" xmlns=\"http://www.w3.org/2000/svg\" id=\"chart-9691fd32-bded-47a7-816e-b88bb73ef3d0\" class=\"pygal-chart\" viewBox=\"0 0 1000 600\"><!--Generated with pygal 3.0.5 (etree) ©Kozea 2012-2016 on 2025-01-23--><!--http://pygal.org--><!--http://github.com/Kozea/pygal--><defs><style type=\"text/css\">#chart-9691fd32-bded-47a7-816e-b88bb73ef3d0{-webkit-user-select:none;-webkit-font-smoothing:antialiased;font-family:Consolas,\"Liberation Mono\",Menlo,Courier,monospace}#chart-9691fd32-bded-47a7-816e-b88bb73ef3d0 .title{font-family:Consolas,\"Liberation Mono\",Menlo,Courier,monospace;font-size:16px}#chart-9691fd32-bded-47a7-816e-b88bb73ef3d0 .legends .legend text{font-family:Consolas,\"Liberation Mono\",Menlo,Courier,monospace;font-size:14px}#chart-9691fd32-bded-47a7-816e-b88bb73ef3d0 .axis text{font-family:Consolas,\"Liberation Mono\",Menlo,Courier,monospace;font-size:10px}#chart-9691fd32-bded-47a7-816e-b88bb73ef3d0 .axis text.major{font-family:Consolas,\"Liberation Mono\",Menlo,Courier,monospace;font-size:10px}#chart-9691fd32-bded-47a7-816e-b88bb73ef3d0 .text-overlay text.value{font-family:Consolas,\"Liberation Mono\",Menlo,Courier,monospace;font-size:16px}#chart-9691fd32-bded-47a7-816e-b88bb73ef3d0 .text-overlay text.label{font-family:Consolas,\"Liberation Mono\",Menlo,Courier,monospace;font-size:10px}#chart-9691fd32-bded-47a7-816e-b88bb73ef3d0 .tooltip{font-family:Consolas,\"Liberation Mono\",Menlo,Courier,monospace;font-size:14px}#chart-9691fd32-bded-47a7-816e-b88bb73ef3d0 text.no_data{font-family:Consolas,\"Liberation Mono\",Menlo,Courier,monospace;font-size:64px}\n",
       "#chart-9691fd32-bded-47a7-816e-b88bb73ef3d0{background-color:#f8f8f8}#chart-9691fd32-bded-47a7-816e-b88bb73ef3d0 path,#chart-9691fd32-bded-47a7-816e-b88bb73ef3d0 line,#chart-9691fd32-bded-47a7-816e-b88bb73ef3d0 rect,#chart-9691fd32-bded-47a7-816e-b88bb73ef3d0 circle{-webkit-transition:250ms ease-in;-moz-transition:250ms ease-in;transition:250ms ease-in}#chart-9691fd32-bded-47a7-816e-b88bb73ef3d0 .graph &gt; .background{fill:#f8f8f8}#chart-9691fd32-bded-47a7-816e-b88bb73ef3d0 .plot &gt; .background{fill:#ffffff}#chart-9691fd32-bded-47a7-816e-b88bb73ef3d0 .graph{fill:#333}#chart-9691fd32-bded-47a7-816e-b88bb73ef3d0 text.no_data{fill:#666}#chart-9691fd32-bded-47a7-816e-b88bb73ef3d0 .title{fill:#666}#chart-9691fd32-bded-47a7-816e-b88bb73ef3d0 .legends .legend text{fill:#333}#chart-9691fd32-bded-47a7-816e-b88bb73ef3d0 .legends .legend:hover text{fill:#666}#chart-9691fd32-bded-47a7-816e-b88bb73ef3d0 .axis .line{stroke:#666}#chart-9691fd32-bded-47a7-816e-b88bb73ef3d0 .axis .guide.line{stroke:rgba(0,0,0,0.5)}#chart-9691fd32-bded-47a7-816e-b88bb73ef3d0 .axis .major.line{stroke:#333}#chart-9691fd32-bded-47a7-816e-b88bb73ef3d0 .axis text.major{fill:#666}#chart-9691fd32-bded-47a7-816e-b88bb73ef3d0 .axis.y .guides:hover .guide.line,#chart-9691fd32-bded-47a7-816e-b88bb73ef3d0 .line-graph .axis.x .guides:hover .guide.line,#chart-9691fd32-bded-47a7-816e-b88bb73ef3d0 .stackedline-graph .axis.x .guides:hover .guide.line,#chart-9691fd32-bded-47a7-816e-b88bb73ef3d0 .xy-graph .axis.x .guides:hover .guide.line{stroke:#666}#chart-9691fd32-bded-47a7-816e-b88bb73ef3d0 .axis .guides:hover text{fill:#666}#chart-9691fd32-bded-47a7-816e-b88bb73ef3d0 .reactive{fill-opacity:.5;stroke-opacity:.8;stroke-width:1}#chart-9691fd32-bded-47a7-816e-b88bb73ef3d0 .ci{stroke:#333}#chart-9691fd32-bded-47a7-816e-b88bb73ef3d0 .reactive.active,#chart-9691fd32-bded-47a7-816e-b88bb73ef3d0 .active .reactive{fill-opacity:.9;stroke-opacity:.9;stroke-width:4}#chart-9691fd32-bded-47a7-816e-b88bb73ef3d0 .ci .reactive.active{stroke-width:1.5}#chart-9691fd32-bded-47a7-816e-b88bb73ef3d0 .series text{fill:#666}#chart-9691fd32-bded-47a7-816e-b88bb73ef3d0 .tooltip rect{fill:#ffffff;stroke:#666;-webkit-transition:opacity 250ms ease-in;-moz-transition:opacity 250ms ease-in;transition:opacity 250ms ease-in}#chart-9691fd32-bded-47a7-816e-b88bb73ef3d0 .tooltip .label{fill:#333}#chart-9691fd32-bded-47a7-816e-b88bb73ef3d0 .tooltip .label{fill:#333}#chart-9691fd32-bded-47a7-816e-b88bb73ef3d0 .tooltip .legend{font-size:.8em;fill:rgba(0,0,0,0.5)}#chart-9691fd32-bded-47a7-816e-b88bb73ef3d0 .tooltip .x_label{font-size:.6em;fill:#666}#chart-9691fd32-bded-47a7-816e-b88bb73ef3d0 .tooltip .xlink{font-size:.5em;text-decoration:underline}#chart-9691fd32-bded-47a7-816e-b88bb73ef3d0 .tooltip .value{font-size:1.5em}#chart-9691fd32-bded-47a7-816e-b88bb73ef3d0 .bound{font-size:.5em}#chart-9691fd32-bded-47a7-816e-b88bb73ef3d0 .max-value{font-size:.75em;fill:rgba(0,0,0,0.5)}#chart-9691fd32-bded-47a7-816e-b88bb73ef3d0 .map-element{fill:#ffffff;stroke:rgba(0,0,0,0.5) !important}#chart-9691fd32-bded-47a7-816e-b88bb73ef3d0 .map-element .reactive{fill-opacity:inherit;stroke-opacity:inherit}#chart-9691fd32-bded-47a7-816e-b88bb73ef3d0 .color-0,#chart-9691fd32-bded-47a7-816e-b88bb73ef3d0 .color-0 a:visited{stroke:#333366;fill:#333366}#chart-9691fd32-bded-47a7-816e-b88bb73ef3d0 .text-overlay .color-0 text{fill:black}\n",
       "#chart-9691fd32-bded-47a7-816e-b88bb73ef3d0 text.no_data{text-anchor:middle}#chart-9691fd32-bded-47a7-816e-b88bb73ef3d0 .guide.line{fill:none}#chart-9691fd32-bded-47a7-816e-b88bb73ef3d0 .centered{text-anchor:middle}#chart-9691fd32-bded-47a7-816e-b88bb73ef3d0 .title{text-anchor:middle}#chart-9691fd32-bded-47a7-816e-b88bb73ef3d0 .legends .legend text{fill-opacity:1}#chart-9691fd32-bded-47a7-816e-b88bb73ef3d0 .axis.x text{text-anchor:middle}#chart-9691fd32-bded-47a7-816e-b88bb73ef3d0 .axis.x:not(.web) text[transform]{text-anchor:start}#chart-9691fd32-bded-47a7-816e-b88bb73ef3d0 .axis.x:not(.web) text[transform].backwards{text-anchor:end}#chart-9691fd32-bded-47a7-816e-b88bb73ef3d0 .axis.y text{text-anchor:end}#chart-9691fd32-bded-47a7-816e-b88bb73ef3d0 .axis.y text[transform].backwards{text-anchor:start}#chart-9691fd32-bded-47a7-816e-b88bb73ef3d0 .axis.y2 text{text-anchor:start}#chart-9691fd32-bded-47a7-816e-b88bb73ef3d0 .axis.y2 text[transform].backwards{text-anchor:end}#chart-9691fd32-bded-47a7-816e-b88bb73ef3d0 .axis .guide.line{stroke-dasharray:4,4;stroke:black}#chart-9691fd32-bded-47a7-816e-b88bb73ef3d0 .axis .major.guide.line{stroke-dasharray:6,6;stroke:black}#chart-9691fd32-bded-47a7-816e-b88bb73ef3d0 .horizontal .axis.y .guide.line,#chart-9691fd32-bded-47a7-816e-b88bb73ef3d0 .horizontal .axis.y2 .guide.line,#chart-9691fd32-bded-47a7-816e-b88bb73ef3d0 .vertical .axis.x .guide.line{opacity:0}#chart-9691fd32-bded-47a7-816e-b88bb73ef3d0 .horizontal .axis.always_show .guide.line,#chart-9691fd32-bded-47a7-816e-b88bb73ef3d0 .vertical .axis.always_show .guide.line{opacity:1 !important}#chart-9691fd32-bded-47a7-816e-b88bb73ef3d0 .axis.y .guides:hover .guide.line,#chart-9691fd32-bded-47a7-816e-b88bb73ef3d0 .axis.y2 .guides:hover .guide.line,#chart-9691fd32-bded-47a7-816e-b88bb73ef3d0 .axis.x .guides:hover .guide.line{opacity:1}#chart-9691fd32-bded-47a7-816e-b88bb73ef3d0 .axis .guides:hover text{opacity:1}#chart-9691fd32-bded-47a7-816e-b88bb73ef3d0 .nofill{fill:none}#chart-9691fd32-bded-47a7-816e-b88bb73ef3d0 .subtle-fill{fill-opacity:.2}#chart-9691fd32-bded-47a7-816e-b88bb73ef3d0 .dot{stroke-width:1px;fill-opacity:1;stroke-opacity:1}#chart-9691fd32-bded-47a7-816e-b88bb73ef3d0 .dot.active{stroke-width:5px}#chart-9691fd32-bded-47a7-816e-b88bb73ef3d0 .dot.negative{fill:transparent}#chart-9691fd32-bded-47a7-816e-b88bb73ef3d0 text,#chart-9691fd32-bded-47a7-816e-b88bb73ef3d0 tspan{stroke:none !important}#chart-9691fd32-bded-47a7-816e-b88bb73ef3d0 .series text.active{opacity:1}#chart-9691fd32-bded-47a7-816e-b88bb73ef3d0 .tooltip rect{fill-opacity:.95;stroke-width:.5}#chart-9691fd32-bded-47a7-816e-b88bb73ef3d0 .tooltip text{fill-opacity:1}#chart-9691fd32-bded-47a7-816e-b88bb73ef3d0 .showable{visibility:hidden}#chart-9691fd32-bded-47a7-816e-b88bb73ef3d0 .showable.shown{visibility:visible}#chart-9691fd32-bded-47a7-816e-b88bb73ef3d0 .gauge-background{fill:rgba(229,229,229,1);stroke:none}#chart-9691fd32-bded-47a7-816e-b88bb73ef3d0 .bg-lines{stroke:#f8f8f8;stroke-width:2px}</style><script type=\"text/javascript\">window.pygal = window.pygal || {};window.pygal.config = window.pygal.config || {};window.pygal.config['9691fd32-bded-47a7-816e-b88bb73ef3d0'] = {\"allow_interruptions\": false, \"box_mode\": \"extremes\", \"classes\": [\"pygal-chart\"], \"css\": [\"file://style.css\", \"file://graph.css\"], \"defs\": [], \"disable_xml_declaration\": true, \"dots_size\": 2.5, \"dynamic_print_values\": false, \"explicit_size\": false, \"fill\": false, \"force_uri_protocol\": \"https\", \"formatter\": null, \"half_pie\": false, \"height\": 600, \"include_x_axis\": false, \"inner_radius\": 0, \"interpolate\": null, \"interpolation_parameters\": {}, \"interpolation_precision\": 250, \"inverse_y_axis\": false, \"js\": [\"//kozea.github.io/pygal.js/2.0.x/pygal-tooltips.min.js\"], \"label_font_size\": 14, \"legend_at_bottom\": false, \"legend_at_bottom_columns\": null, \"legend_box_size\": 12, \"logarithmic\": false, \"major_label_font_size\": 18, \"margin\": 20, \"margin_bottom\": null, \"margin_left\": null, \"margin_right\": null, \"margin_top\": null, \"max_scale\": 16, \"min_scale\": 4, \"missing_value_fill_truncation\": \"x\", \"no_data_text\": \"No data\", \"no_prefix\": false, \"order_min\": null, \"pretty_print\": false, \"print_labels\": false, \"print_values\": false, \"print_values_position\": \"center\", \"print_zeroes\": true, \"range\": null, \"rounded_bars\": null, \"secondary_range\": null, \"show_dots\": true, \"show_legend\": false, \"show_minor_x_labels\": true, \"show_minor_y_labels\": true, \"show_only_major_dots\": false, \"show_x_guides\": false, \"show_x_labels\": true, \"show_y_guides\": false, \"show_y_labels\": true, \"spacing\": 10, \"stack_from_top\": false, \"strict\": false, \"stroke\": true, \"stroke_style\": null, \"style\": {\"background\": \"#f8f8f8\", \"ci_colors\": [], \"colors\": [\"#333366\", \"#3c3c79\", \"#46468c\", \"#4f4f9f\", \"#5d5dae\", \"#6f6fb7\", \"#8282c1\", \"#9595ca\", \"#a8a8d4\", \"#bbbbdd\"], \"dot_opacity\": \"1\", \"font_family\": \"Consolas, \\\"Liberation Mono\\\", Menlo, Courier, monospace\", \"foreground\": \"#333\", \"foreground_strong\": \"#666\", \"foreground_subtle\": \"rgba(0, 0 , 0, 0.5)\", \"guide_stroke_color\": \"black\", \"guide_stroke_dasharray\": \"4,4\", \"label_font_family\": \"Consolas, \\\"Liberation Mono\\\", Menlo, Courier, monospace\", \"label_font_size\": 10, \"legend_font_family\": \"Consolas, \\\"Liberation Mono\\\", Menlo, Courier, monospace\", \"legend_font_size\": 14, \"major_guide_stroke_color\": \"black\", \"major_guide_stroke_dasharray\": \"6,6\", \"major_label_font_family\": \"Consolas, \\\"Liberation Mono\\\", Menlo, Courier, monospace\", \"major_label_font_size\": 10, \"no_data_font_family\": \"Consolas, \\\"Liberation Mono\\\", Menlo, Courier, monospace\", \"no_data_font_size\": 64, \"opacity\": \".5\", \"opacity_hover\": \".9\", \"plot_background\": \"#ffffff\", \"stroke_opacity\": \".8\", \"stroke_opacity_hover\": \".9\", \"stroke_width\": \"1\", \"stroke_width_hover\": \"4\", \"title_font_family\": \"Consolas, \\\"Liberation Mono\\\", Menlo, Courier, monospace\", \"title_font_size\": 16, \"tooltip_font_family\": \"Consolas, \\\"Liberation Mono\\\", Menlo, Courier, monospace\", \"tooltip_font_size\": 14, \"transition\": \"250ms ease-in\", \"value_background\": \"rgba(229, 229, 229, 1)\", \"value_colors\": [], \"value_font_family\": \"Consolas, \\\"Liberation Mono\\\", Menlo, Courier, monospace\", \"value_font_size\": 16, \"value_label_font_family\": \"Consolas, \\\"Liberation Mono\\\", Menlo, Courier, monospace\", \"value_label_font_size\": 10}, \"title\": \"Most-Starred Python Projects on GitHub\", \"title_font_size\": 24, \"tooltip_border_radius\": 0, \"tooltip_fancy_mode\": true, \"truncate_label\": 15, \"truncate_legend\": null, \"width\": 1000, \"x_label_rotation\": 45, \"x_labels\": [\"public-apis\", \"system-design-primer\", \"awesome-python\", \"Python\", \"AutoGPT\", \"Python-100-Days\", \"stable-diffusion-webui\", \"transformers\", \"youtube-dl\", \"HelloGitHub\", \"yt-dlp\", \"thefuck\", \"pytorch\", \"django\", \"fastapi\", \"models\", \"core\", \"whisper\", \"manim\", \"funNLP\", \"flask\", \"devops-exercises\", \"screenshot-to-code\", \"gpt_academic\", \"awesome-machine-learning\", \"d2l-zh\", \"cpython\", \"ComfyUI\", \"ansible\", \"gpt4free\"], \"x_labels_major\": null, \"x_labels_major_count\": null, \"x_labels_major_every\": null, \"x_title\": null, \"xrange\": null, \"y_label_rotation\": 0, \"y_labels\": null, \"y_labels_major\": null, \"y_labels_major_count\": null, \"y_labels_major_every\": null, \"y_title\": null, \"zero\": 0, \"legends\": [\"Repositories\"]}</script><script type=\"text/javascript\" xlink:href=\"https://kozea.github.io/pygal.js/2.0.x/pygal-tooltips.min.js\"/></defs><title>Most-Starred Python Projects on GitHub</title><g class=\"graph bar-graph vertical\"><rect x=\"0\" y=\"0\" width=\"1000\" height=\"600\" class=\"background\"/><g transform=\"translate(66, 46)\" class=\"plot\"><rect x=\"0\" y=\"0\" width=\"870.3603896932107\" height=\"460.3603896932107\" class=\"background\"/><g class=\"axis y\"><g class=\"guides\"><text x=\"-5\" y=\"455.0073052760336\" class=\"major\">0</text><title>0</title></g><g class=\"guides\"><text x=\"-5\" y=\"400.5997755793981\" class=\"\">40000</text><title>40000</title></g><g class=\"guides\"><text x=\"-5\" y=\"346.1922458827626\" class=\"\">80000</text><title>80000</title></g><g class=\"guides\"><text x=\"-5\" y=\"291.7847161861272\" class=\"\">120000</text><title>120000</title></g><g class=\"guides\"><text x=\"-5\" y=\"237.37718648949172\" class=\"\">160000</text><title>160000</title></g><g class=\"guides\"><text x=\"-5\" y=\"182.96965679285626\" class=\"\">200000</text><title>200000</title></g><g class=\"guides\"><text x=\"-5\" y=\"128.56212709622076\" class=\"\">240000</text><title>240000</title></g><g class=\"guides\"><text x=\"-5\" y=\"74.15459739958533\" class=\"\">280000</text><title>280000</title></g><g class=\"guides\"><text x=\"-5\" y=\"19.747067702949835\" class=\"\">320000</text><title>320000</title></g></g><g class=\"axis x\"><path d=\"M0.000000 0.000000 v460.360390\" class=\"line\"/><g class=\"guides\"><path d=\"M30.685783 0.000000 v460.360390\" class=\"guide line\"/><text x=\"30.68578296995294\" y=\"475.3603896932107\" class=\"\" transform=\"rotate(45 30.685783 475.360390)\">public-apis</text></g><g class=\"guides\"><path d=\"M58.581949 0.000000 v460.360390\" class=\"guide line\"/><text x=\"58.5819493062738\" y=\"475.3603896932107\" class=\"\" transform=\"rotate(45 58.581949 475.360390)\">system-design-…</text><title>system-design-primer</title></g><g class=\"guides\"><path d=\"M86.478116 0.000000 v460.360390\" class=\"guide line\"/><text x=\"86.47811564259464\" y=\"475.3603896932107\" class=\"\" transform=\"rotate(45 86.478116 475.360390)\">awesome-python</text></g><g class=\"guides\"><path d=\"M114.374282 0.000000 v460.360390\" class=\"guide line\"/><text x=\"114.37428197891549\" y=\"475.3603896932107\" class=\"\" transform=\"rotate(45 114.374282 475.360390)\">Python</text></g><g class=\"guides\"><path d=\"M142.270448 0.000000 v460.360390\" class=\"guide line\"/><text x=\"142.27044831523634\" y=\"475.3603896932107\" class=\"\" transform=\"rotate(45 142.270448 475.360390)\">AutoGPT</text></g><g class=\"guides\"><path d=\"M170.166615 0.000000 v460.360390\" class=\"guide line\"/><text x=\"170.1666146515572\" y=\"475.3603896932107\" class=\"\" transform=\"rotate(45 170.166615 475.360390)\">Python-100-Days</text></g><g class=\"guides\"><path d=\"M198.062781 0.000000 v460.360390\" class=\"guide line\"/><text x=\"198.06278098787806\" y=\"475.3603896932107\" class=\"\" transform=\"rotate(45 198.062781 475.360390)\">stable-diffusi…</text><title>stable-diffusion-webui</title></g><g class=\"guides\"><path d=\"M225.958947 0.000000 v460.360390\" class=\"guide line\"/><text x=\"225.95894732419893\" y=\"475.3603896932107\" class=\"\" transform=\"rotate(45 225.958947 475.360390)\">transformers</text></g><g class=\"guides\"><path d=\"M253.855114 0.000000 v460.360390\" class=\"guide line\"/><text x=\"253.85511366051978\" y=\"475.3603896932107\" class=\"\" transform=\"rotate(45 253.855114 475.360390)\">youtube-dl</text></g><g class=\"guides\"><path d=\"M281.751280 0.000000 v460.360390\" class=\"guide line\"/><text x=\"281.7512799968406\" y=\"475.3603896932107\" class=\"\" transform=\"rotate(45 281.751280 475.360390)\">HelloGitHub</text></g><g class=\"guides\"><path d=\"M309.647446 0.000000 v460.360390\" class=\"guide line\"/><text x=\"309.6474463331615\" y=\"475.3603896932107\" class=\"\" transform=\"rotate(45 309.647446 475.360390)\">yt-dlp</text></g><g class=\"guides\"><path d=\"M337.543613 0.000000 v460.360390\" class=\"guide line\"/><text x=\"337.5436126694824\" y=\"475.3603896932107\" class=\"\" transform=\"rotate(45 337.543613 475.360390)\">thefuck</text></g><g class=\"guides\"><path d=\"M365.439779 0.000000 v460.360390\" class=\"guide line\"/><text x=\"365.4397790058032\" y=\"475.3603896932107\" class=\"\" transform=\"rotate(45 365.439779 475.360390)\">pytorch</text></g><g class=\"guides\"><path d=\"M393.335945 0.000000 v460.360390\" class=\"guide line\"/><text x=\"393.33594534212403\" y=\"475.3603896932107\" class=\"\" transform=\"rotate(45 393.335945 475.360390)\">django</text></g><g class=\"guides\"><path d=\"M421.232112 0.000000 v460.360390\" class=\"guide line\"/><text x=\"421.2321116784449\" y=\"475.3603896932107\" class=\"\" transform=\"rotate(45 421.232112 475.360390)\">fastapi</text></g><g class=\"guides\"><path d=\"M449.128278 0.000000 v460.360390\" class=\"guide line\"/><text x=\"449.12827801476584\" y=\"475.3603896932107\" class=\"\" transform=\"rotate(45 449.128278 475.360390)\">models</text></g><g class=\"guides\"><path d=\"M477.024444 0.000000 v460.360390\" class=\"guide line\"/><text x=\"477.02444435108663\" y=\"475.3603896932107\" class=\"\" transform=\"rotate(45 477.024444 475.360390)\">core</text></g><g class=\"guides\"><path d=\"M504.920611 0.000000 v460.360390\" class=\"guide line\"/><text x=\"504.92061068740753\" y=\"475.3603896932107\" class=\"\" transform=\"rotate(45 504.920611 475.360390)\">whisper</text></g><g class=\"guides\"><path d=\"M532.816777 0.000000 v460.360390\" class=\"guide line\"/><text x=\"532.8167770237284\" y=\"475.3603896932107\" class=\"\" transform=\"rotate(45 532.816777 475.360390)\">manim</text></g><g class=\"guides\"><path d=\"M560.712943 0.000000 v460.360390\" class=\"guide line\"/><text x=\"560.7129433600492\" y=\"475.3603896932107\" class=\"\" transform=\"rotate(45 560.712943 475.360390)\">funNLP</text></g><g class=\"guides\"><path d=\"M588.609110 0.000000 v460.360390\" class=\"guide line\"/><text x=\"588.6091096963701\" y=\"475.3603896932107\" class=\"\" transform=\"rotate(45 588.609110 475.360390)\">flask</text></g><g class=\"guides\"><path d=\"M616.505276 0.000000 v460.360390\" class=\"guide line\"/><text x=\"616.5052760326909\" y=\"475.3603896932107\" class=\"\" transform=\"rotate(45 616.505276 475.360390)\">devops-exercis…</text><title>devops-exercises</title></g><g class=\"guides\"><path d=\"M644.401442 0.000000 v460.360390\" class=\"guide line\"/><text x=\"644.4014423690116\" y=\"475.3603896932107\" class=\"\" transform=\"rotate(45 644.401442 475.360390)\">screenshot-to-…</text><title>screenshot-to-code</title></g><g class=\"guides\"><path d=\"M672.297609 0.000000 v460.360390\" class=\"guide line\"/><text x=\"672.2976087053326\" y=\"475.3603896932107\" class=\"\" transform=\"rotate(45 672.297609 475.360390)\">gpt_academic</text></g><g class=\"guides\"><path d=\"M700.193775 0.000000 v460.360390\" class=\"guide line\"/><text x=\"700.1937750416535\" y=\"475.3603896932107\" class=\"\" transform=\"rotate(45 700.193775 475.360390)\">awesome-machin…</text><title>awesome-machine-learning</title></g><g class=\"guides\"><path d=\"M728.089941 0.000000 v460.360390\" class=\"guide line\"/><text x=\"728.0899413779744\" y=\"475.3603896932107\" class=\"\" transform=\"rotate(45 728.089941 475.360390)\">d2l-zh</text></g><g class=\"guides\"><path d=\"M755.986108 0.000000 v460.360390\" class=\"guide line\"/><text x=\"755.9861077142951\" y=\"475.3603896932107\" class=\"\" transform=\"rotate(45 755.986108 475.360390)\">cpython</text></g><g class=\"guides\"><path d=\"M783.882274 0.000000 v460.360390\" class=\"guide line\"/><text x=\"783.8822740506159\" y=\"475.3603896932107\" class=\"\" transform=\"rotate(45 783.882274 475.360390)\">ComfyUI</text></g><g class=\"guides\"><path d=\"M811.778440 0.000000 v460.360390\" class=\"guide line\"/><text x=\"811.7784403869368\" y=\"475.3603896932107\" class=\"\" transform=\"rotate(45 811.778440 475.360390)\">ansible</text></g><g class=\"guides\"><path d=\"M839.674607 0.000000 v460.360390\" class=\"guide line\"/><text x=\"839.6746067232576\" y=\"475.3603896932107\" class=\"\" transform=\"rotate(45 839.674607 475.360390)\">gpt4free</text></g></g><g class=\"series serie-0 color-0\"><g class=\"bars\"><g class=\"bar\"><desc class=\"label\">Description: A collective list of free APIs\n",
       "Repository Name: public-apis</desc><rect x=\"19.884387364529506\" y=\"8.853084417177058\" rx=\"0\" ry=\"0\" width=\"21.60279121084687\" height=\"442.65422085885655\" class=\"rect reactive tooltip-trigger\"/><desc class=\"value\">325436</desc><desc class=\"x centered\">30.68578296995294</desc><desc class=\"y centered\">230.18019484660533</desc><desc class=\"x_label\">public-apis</desc></g><g class=\"bar\"><desc class=\"label\">Description: Learn how to design large-scale systems. Prep for the system design interview.  Includes Anki flashcards.\n",
       "Repository Name: system-design-primer</desc><rect x=\"47.780553700850355\" y=\"61.47060638679329\" rx=\"0\" ry=\"0\" width=\"21.60279121084687\" height=\"390.0366988892403\" class=\"rect reactive tooltip-trigger\"/><desc class=\"value\">286752</desc><desc class=\"x centered\">58.58194930627379</desc><desc class=\"y centered\">256.4889558314135</desc><desc class=\"x_label\">system-design-primer</desc></g><g class=\"bar\"><desc class=\"label\">Description: An opinionated list of awesome Python frameworks, libraries, software and resources.\n",
       "Repository Name: awesome-python</desc><rect x=\"75.67672003717121\" y=\"136.82231464014853\" rx=\"0\" ry=\"0\" width=\"21.60279121084687\" height=\"314.6849906358851\" class=\"rect reactive tooltip-trigger\"/><desc class=\"value\">231354</desc><desc class=\"x centered\">86.47811564259464</desc><desc class=\"y centered\">294.16480995809104</desc><desc class=\"x_label\">awesome-python</desc></g><g class=\"bar\"><desc class=\"label\">Description: All Algorithms implemented in Python\n",
       "Repository Name: Python</desc><rect x=\"103.57288637349207\" y=\"184.04124947561604\" rx=\"0\" ry=\"0\" width=\"21.60279121084687\" height=\"267.46605580041756\" class=\"rect reactive tooltip-trigger\"/><desc class=\"value\">196639</desc><desc class=\"x centered\">114.3742819789155</desc><desc class=\"y centered\">317.7742773758248</desc><desc class=\"x_label\">Python</desc></g><g class=\"bar\"><desc class=\"label\">Description: AutoGPT is the vision of accessible AI for everyone, to use and to build on. Our mission is to provide the tools, so that you can focus on what matters.\n",
       "Repository Name: AutoGPT</desc><rect x=\"131.4690527098129\" y=\"219.21571742449086\" rx=\"0\" ry=\"0\" width=\"21.60279121084687\" height=\"232.29158785154274\" class=\"rect reactive tooltip-trigger\"/><desc class=\"value\">170779</desc><desc class=\"x centered\">142.27044831523634</desc><desc class=\"y centered\">335.3615113502622</desc><desc class=\"x_label\">AutoGPT</desc></g><g class=\"bar\"><desc class=\"label\">Description: Python - 100天从新手到大师\n",
       "Repository Name: Python-100-Days</desc><rect x=\"159.36521904613375\" y=\"233.76429086537118\" rx=\"0\" ry=\"0\" width=\"21.60279121084687\" height=\"217.74301441066243\" class=\"rect reactive tooltip-trigger\"/><desc class=\"value\">160083</desc><desc class=\"x centered\">170.16661465155718</desc><desc class=\"y centered\">342.6357980707024</desc><desc class=\"x_label\">Python-100-Days</desc></g><g class=\"bar\"><desc class=\"label\">Description: Stable Diffusion web UI\n",
       "Repository Name: stable-diffusion-webui</desc><rect x=\"187.26138538245462\" y=\"252.59065632864946\" rx=\"0\" ry=\"0\" width=\"21.60279121084687\" height=\"198.91664894738415\" class=\"rect reactive tooltip-trigger\"/><desc class=\"value\">146242</desc><desc class=\"x centered\">198.06278098787806</desc><desc class=\"y centered\">352.04898080234153</desc><desc class=\"x_label\">stable-diffusion-webui</desc></g><g class=\"bar\"><desc class=\"label\">Description: 🤗 Transformers: State-of-the-art Machine Learning for Pytorch, TensorFlow, and JAX.\n",
       "Repository Name: transformers</desc><rect x=\"215.1575517187755\" y=\"263.92102438797383\" rx=\"0\" ry=\"0\" width=\"21.60279121084687\" height=\"187.58628088805978\" class=\"rect reactive tooltip-trigger\"/><desc class=\"value\">137912</desc><desc class=\"x centered\">225.95894732419893</desc><desc class=\"y centered\">357.7141648320037</desc><desc class=\"x_label\">transformers</desc></g><g class=\"bar\"><desc class=\"label\">Description: Command-line program to download videos from YouTube.com and other video sites\n",
       "Repository Name: youtube-dl</desc><rect x=\"243.05371805509634\" y=\"269.5413222056362\" rx=\"0\" ry=\"0\" width=\"21.60279121084687\" height=\"181.96598307039739\" class=\"rect reactive tooltip-trigger\"/><desc class=\"value\">133780</desc><desc class=\"x centered\">253.85511366051978</desc><desc class=\"y centered\">360.52431374083494</desc><desc class=\"x_label\">youtube-dl</desc></g><g class=\"bar\"><desc class=\"label\">Description: :octocat: 分享 GitHub 上有趣、入门级的开源项目。Share interesting, entry-level open source projects on GitHub.\n",
       "Repository Name: HelloGitHub</desc><rect x=\"270.9498843914172\" y=\"318.6373168156377\" rx=\"0\" ry=\"0\" width=\"21.60279121084687\" height=\"132.86998846039592\" class=\"rect reactive tooltip-trigger\"/><desc class=\"value\">97685</desc><desc class=\"x centered\">281.7512799968406</desc><desc class=\"y centered\">385.07231104583565</desc><desc class=\"x_label\">HelloGitHub</desc></g><g class=\"bar\"><desc class=\"label\">Description: A feature-rich command-line audio/video downloader\n",
       "Repository Name: yt-dlp</desc><rect x=\"298.84605072773803\" y=\"318.79509865175794\" rx=\"0\" ry=\"0\" width=\"21.60279121084687\" height=\"132.71220662427567\" class=\"rect reactive tooltip-trigger\"/><desc class=\"value\">97569</desc><desc class=\"x centered\">309.64744633316144</desc><desc class=\"y centered\">385.1512019638958</desc><desc class=\"x_label\">yt-dlp</desc></g><g class=\"bar\"><desc class=\"label\">Description: Magnificent app which corrects your previous console command.\n",
       "Repository Name: thefuck</desc><rect x=\"326.7422170640589\" y=\"329.8724716979929\" rx=\"0\" ry=\"0\" width=\"21.60279121084687\" height=\"121.63483357804068\" class=\"rect reactive tooltip-trigger\"/><desc class=\"value\">89425</desc><desc class=\"x centered\">337.5436126694823</desc><desc class=\"y centered\">390.68988848701326</desc><desc class=\"x_label\">thefuck</desc></g><g class=\"bar\"><desc class=\"label\">Description: Tensors and Dynamic neural networks in Python with strong GPU acceleration\n",
       "Repository Name: pytorch</desc><rect x=\"354.6383834003798\" y=\"334.39373741578333\" rx=\"0\" ry=\"0\" width=\"21.60279121084687\" height=\"117.11356786025027\" class=\"rect reactive tooltip-trigger\"/><desc class=\"value\">86101</desc><desc class=\"x centered\">365.4397790058032</desc><desc class=\"y centered\">392.95052134590844</desc><desc class=\"x_label\">pytorch</desc></g><g class=\"bar\"><desc class=\"label\">Description: The Web framework for perfectionists with deadlines.\n",
       "Repository Name: django</desc><rect x=\"382.5345497367006\" y=\"339.9596277037491\" rx=\"0\" ry=\"0\" width=\"21.60279121084687\" height=\"111.5476775722845\" class=\"rect reactive tooltip-trigger\"/><desc class=\"value\">82009</desc><desc class=\"x centered\">393.33594534212403</desc><desc class=\"y centered\">395.7334664898914</desc><desc class=\"x_label\">django</desc></g><g class=\"bar\"><desc class=\"label\">Description: FastAPI framework, high performance, easy to learn, fast to code, ready for production\n",
       "Repository Name: fastapi</desc><rect x=\"410.4307160730215\" y=\"342.58751138809663\" rx=\"0\" ry=\"0\" width=\"21.60279121084687\" height=\"108.91979388793698\" class=\"rect reactive tooltip-trigger\"/><desc class=\"value\">80077</desc><desc class=\"x centered\">421.2321116784449</desc><desc class=\"y centered\">397.0474083320651</desc><desc class=\"x_label\">fastapi</desc></g><g class=\"bar\"><desc class=\"label\">Description: Models and examples built with TensorFlow\n",
       "Repository Name: models</desc><rect x=\"438.3268824093423\" y=\"346.3443513136493\" rx=\"0\" ry=\"0\" width=\"21.60279121084687\" height=\"105.16295396238428\" class=\"rect reactive tooltip-trigger\"/><desc class=\"value\">77315</desc><desc class=\"x centered\">449.1282780147657</desc><desc class=\"y centered\">398.9258282948415</desc><desc class=\"x_label\">models</desc></g><g class=\"bar\"><desc class=\"label\">Description: :house_with_garden: Open source home automation that puts local control and privacy first.\n",
       "Repository Name: core</desc><rect x=\"466.22304874566316\" y=\"348.15340167606246\" rx=\"0\" ry=\"0\" width=\"21.60279121084687\" height=\"103.35390359997115\" class=\"rect reactive tooltip-trigger\"/><desc class=\"value\">75985</desc><desc class=\"x centered\">477.0244443510866</desc><desc class=\"y centered\">399.830353476048</desc><desc class=\"x_label\">core</desc></g><g class=\"bar\"><desc class=\"label\">Description: Robust Speech Recognition via Large-Scale Weak Supervision\n",
       "Repository Name: whisper</desc><rect x=\"494.119215081984\" y=\"349.5856798953264\" rx=\"0\" ry=\"0\" width=\"21.60279121084687\" height=\"101.92162538070721\" class=\"rect reactive tooltip-trigger\"/><desc class=\"value\">74932</desc><desc class=\"x centered\">504.9206106874074</desc><desc class=\"y centered\">400.54649258567997</desc><desc class=\"x_label\">whisper</desc></g><g class=\"bar\"><desc class=\"label\">Description: Animation engine for explanatory math videos\n",
       "Repository Name: manim</desc><rect x=\"522.0153814183049\" y=\"350.4630013116846\" rx=\"0\" ry=\"0\" width=\"21.60279121084687\" height=\"101.04430396434901\" class=\"rect reactive tooltip-trigger\"/><desc class=\"value\">74287</desc><desc class=\"x centered\">532.8167770237283</desc><desc class=\"y centered\">400.98515329385907</desc><desc class=\"x_label\">manim</desc></g><g class=\"bar\"><desc class=\"label\">Description: 中英文敏感词、语言检测、中外手机/电话归属地/运营商查询、名字推断性别、手机号抽取、身份证抽取、邮箱抽取、中日文人名库、中文缩写库、拆字词典、词汇情感值、停用词、反动词表、暴恐词表、繁简体转换、英文模拟中文发音、汪峰歌词生成器、职业名称词库、同义词库、反义词库、否定词库、汽车品牌词库、汽车零件词库、连续英文切割、各种中文词向量、公司名字大全、古诗词库、IT词库、财经词库、成语词库、地名词库、历史名人词库、诗词词库、医学词库、饮食词库、法律词库、汽车词库、动物词库、中文聊天语料、中文谣言数据、百度中文问答数据集、句子相似度匹配算法集合、bert资源、文本生成&amp;摘要相关工具、cocoNLP信息抽取工具、国内电话号码正则匹配、清华大学XLORE:中英文跨语言百科知识图谱、清华大学人工智能技术系列报告、自然语言生成、NLU太难了系列、自动对联数据及机器人、用户名黑名单列表、罪名法务名词及分类模型、微信公众号语料、cs224n深度学习自然语言处理课程、中文手写汉字识别、中文自然语言处理 语料/数据集、变量命名神器、分词语料库+代码、任务型对话英文数据集、ASR 语音数据集 + 基于深度学习的中文语音识别系统、笑声检测器、Microsoft多语言数字/单位/如日期时间识别包、中华新华字典数据库及api(包括常用歇后语、成语、词语和汉字)、文档图谱自动生成、SpaCy 中文模型、Common Voice语音识别数据集新版、神经网络关系抽取、基于bert的命名实体识别、关键词(Keyphrase)抽取包pke、基于医疗领域知识图谱的问答系统、基于依存句法与语义角色标注的事件三元组抽取、依存句法分析4万句高质量标注数据、cnocr：用来做中文OCR的Python3包、中文人物关系知识图谱项目、中文nlp竞赛项目及代码汇总、中文字符数据、speech-aligner: 从“人声语音”及其“语言文本”产生音素级别时间对齐标注的工具、AmpliGraph: 知识图谱表示学习(Python)库：知识图谱概念链接预测、Scattertext 文本可视化(python)、语言/知识表示工具：BERT &amp; ERNIE、中文对比英文自然语言处理NLP的区别综述、Synonyms中文近义词工具包、HarvestText领域自适应文本挖掘工具（新词发现-情感分析-实体链接等）、word2word：(Python)方便易用的多语言词-词对集：62种语言/3,564个多语言对、语音识别语料生成工具：从具有音频/字幕的在线视频创建自动语音识别(ASR)语料库、构建医疗实体识别的模型（包含词典和语料标注）、单文档非监督的关键词抽取、Kashgari中使用gpt-2语言模型、开源的金融投资数据提取工具、文本自动摘要库TextTeaser: 仅支持英文、人民日报语料处理工具集、一些关于自然语言的基本模型、基于14W歌曲知识库的问答尝试--功能包括歌词接龙and已知歌词找歌曲以及歌曲歌手歌词三角关系的问答、基于Siamese bilstm模型的相似句子判定模型并提供训练数据集和测试数据集、用Transformer编解码模型实现的根据Hacker News文章标题自动生成评论、用BERT进行序列标记和文本分类的模板代码、LitBank：NLP数据集——支持自然语言处理和计算人文学科任务的100部带标记英文小说语料、百度开源的基准信息抽取系统、虚假新闻数据集、Facebook: LAMA语言模型分析，提供Transformer-XL/BERT/ELMo/GPT预训练语言模型的统一访问接口、CommonsenseQA：面向常识的英文QA挑战、中文知识图谱资料、数据及工具、各大公司内部里大牛分享的技术文档 PDF 或者 PPT、自然语言生成SQL语句（英文）、中文NLP数据增强（EDA）工具、英文NLP数据增强工具 、基于医药知识图谱的智能问答系统、京东商品知识图谱、基于mongodb存储的军事领域知识图谱问答项目、基于远监督的中文关系抽取、语音情感分析、中文ULMFiT-情感分析-文本分类-语料及模型、一个拍照做题程序、世界各国大规模人名库、一个利用有趣中文语料库 qingyun 训练出来的中文聊天机器人、中文聊天机器人seqGAN、省市区镇行政区划数据带拼音标注、教育行业新闻语料库包含自动文摘功能、开放了对话机器人-知识图谱-语义理解-自然语言处理工具及数据、中文知识图谱：基于百度百科中文页面-抽取三元组信息-构建中文知识图谱、masr: 中文语音识别-提供预训练模型-高识别率、Python音频数据增广库、中文全词覆盖BERT及两份阅读理解数据、ConvLab：开源多域端到端对话系统平台、中文自然语言处理数据集、基于最新版本rasa搭建的对话系统、基于TensorFlow和BERT的管道式实体及关系抽取、一个小型的证券知识图谱/知识库、复盘所有NLP比赛的TOP方案、OpenCLaP：多领域开源中文预训练语言模型仓库、UER：基于不同语料+编码器+目标任务的中文预训练模型仓库、中文自然语言处理向量合集、基于金融-司法领域(兼有闲聊性质)的聊天机器人、g2pC：基于上下文的汉语读音自动标记模块、Zincbase 知识图谱构建工具包、诗歌质量评价/细粒度情感诗歌语料库、快速转化「中文数字」和「阿拉伯数字」、百度知道问答语料库、基于知识图谱的问答系统、jieba_fast 加速版的jieba、正则表达式教程、中文阅读理解数据集、基于BERT等最新语言模型的抽取式摘要提取、Python利用深度学习进行文本摘要的综合指南、知识图谱深度学习相关资料整理、维基大规模平行文本语料、StanfordNLP 0.2.0：纯Python版自然语言处理包、NeuralNLP-NeuralClassifier：腾讯开源深度学习文本分类工具、端到端的封闭域对话系统、中文命名实体识别：NeuroNER vs. BertNER、新闻事件线索抽取、2019年百度的三元组抽取比赛：“科学空间队”源码、基于依存句法的开放域文本知识三元组抽取和知识库构建、中文的GPT2训练代码、ML-NLP - 机器学习(Machine Learning)NLP面试中常考到的知识点和代码实现、nlp4han:中文自然语言处理工具集(断句/分词/词性标注/组块/句法分析/语义分析/NER/N元语法/HMM/代词消解/情感分析/拼写检查、XLM：Facebook的跨语言预训练语言模型、用基于BERT的微调和特征提取方法来进行知识图谱百度百科人物词条属性抽取、中文自然语言处理相关的开放任务-数据集-当前最佳结果、CoupletAI - 基于CNN+Bi-LSTM+Attention 的自动对对联系统、抽象知识图谱、MiningZhiDaoQACorpus - 580万百度知道问答数据挖掘项目、brat rapid annotation tool: 序列标注工具、大规模中文知识图谱数据：1.4亿实体、数据增强在机器翻译及其他nlp任务中的应用及效果、allennlp阅读理解:支持多种数据和模型、PDF表格数据提取工具 、 Graphbrain：AI开源软件库和科研工具，目的是促进自动意义提取和文本理解以及知识的探索和推断、简历自动筛选系统、基于命名实体识别的简历自动摘要、中文语言理解测评基准，包括代表性的数据集&amp;基准模型&amp;语料库&amp;排行榜、树洞 OCR 文字识别 、从包含表格的扫描图片中识别表格和文字、语声迁移、Python口语自然语言处理工具集(英文)、 similarity：相似度计算工具包，java编写、海量中文预训练ALBERT模型 、Transformers 2.0 、基于大规模音频数据集Audioset的音频增强 、Poplar：网页版自然语言标注工具、图片文字去除，可用于漫画翻译 、186种语言的数字叫法库、Amazon发布基于知识的人-人开放领域对话数据集 、中文文本纠错模块代码、繁简体转换 、 Python实现的多种文本可读性评价指标、类似于人名/地名/组织机构名的命名体识别数据集 、东南大学《知识图谱》研究生课程(资料)、. 英文拼写检查库 、 wwsearch是企业微信后台自研的全文检索引擎、CHAMELEON：深度学习新闻推荐系统元架构 、 8篇论文梳理BERT相关模型进展与反思、DocSearch：免费文档搜索引擎、 LIDA：轻量交互式对话标注工具 、aili - the fastest in-memory index in the East 东半球最快并发索引 、知识图谱车音工作项目、自然语言生成资源大全 、中日韩分词库mecab的Python接口库、中文文本摘要/关键词提取、汉字字符特征提取器 (featurizer)，提取汉字的特征（发音特征、字形特征）用做深度学习的特征、中文生成任务基准测评 、中文缩写数据集、中文任务基准测评 - 代表性的数据集-基准(预训练)模型-语料库-baseline-工具包-排行榜、PySS3：面向可解释AI的SS3文本分类器机器可视化工具 、中文NLP数据集列表、COPE - 格律诗编辑程序、doccano：基于网页的开源协同多语言文本标注工具 、PreNLP：自然语言预处理库、简单的简历解析器，用来从简历中提取关键信息、用于中文闲聊的GPT2模型：GPT2-chitchat、基于检索聊天机器人多轮响应选择相关资源列表(Leaderboards、Datasets、Papers)、(Colab)抽象文本摘要实现集锦(教程 、词语拼音数据、高效模糊搜索工具、NLP数据增广资源集、微软对话机器人框架 、 GitHub Typo Corpus：大规模GitHub多语言拼写错误/语法错误数据集、TextCluster：短文本聚类预处理模块 Short text cluster、面向语音识别的中文文本规范化、BLINK：最先进的实体链接库、BertPunc：基于BERT的最先进标点修复模型、Tokenizer：快速、可定制的文本词条化库、中文语言理解测评基准，包括代表性的数据集、基准(预训练)模型、语料库、排行榜、spaCy 医学文本挖掘与信息提取 、 NLP任务示例项目代码集、 python拼写检查库、chatbot-list - 行业内关于智能客服、聊天机器人的应用和架构、算法分享和介绍、语音质量评价指标(MOSNet, BSSEval, STOI, PESQ, SRMR)、 用138GB语料训练的法文RoBERTa预训练语言模型 、BERT-NER-Pytorch：三种不同模式的BERT中文NER实验、无道词典 - 有道词典的命令行版本，支持英汉互查和在线查询、2019年NLP亮点回顾、 Chinese medical dialogue data 中文医疗对话数据集 、最好的汉字数字(中文数字)-阿拉伯数字转换工具、 基于百科知识库的中文词语多词义/义项获取与特定句子词语语义消歧、awesome-nlp-sentiment-analysis - 情感分析、情绪原因识别、评价对象和评价词抽取、LineFlow：面向所有深度学习框架的NLP数据高效加载器、中文医学NLP公开资源整理 、MedQuAD：(英文)医学问答数据集、将自然语言数字串解析转换为整数和浮点数、Transfer Learning in Natural Language Processing (NLP) 、面向语音识别的中文/英文发音辞典、Tokenizers：注重性能与多功能性的最先进分词器、CLUENER 细粒度命名实体识别 Fine Grained Named Entity Recognition、 基于BERT的中文命名实体识别、中文谣言数据库、NLP数据集/基准任务大列表、nlp相关的一些论文及代码, 包括主题模型、词向量(Word Embedding)、命名实体识别(NER)、文本分类(Text Classificatin)、文本生成(Text Generation)、文本相似性(Text Similarity)计算等，涉及到各种与nlp相关的算法，基于keras和tensorflow 、Python文本挖掘/NLP实战示例、 Blackstone：面向非结构化法律文本的spaCy pipeline和NLP模型通过同义词替换实现文本“变脸” 、中文 预训练 ELECTREA 模型: 基于对抗学习 pretrain Chinese Model 、albert-chinese-ner - 用预训练语言模型ALBERT做中文NER 、基于GPT2的特定主题文本生成/文本增广、开源预训练语言模型合集、多语言句向量包、编码、标记和实现：一种可控高效的文本生成方法、 英文脏话大列表 、attnvis：GPT2、BERT等transformer语言模型注意力交互可视化、CoVoST：Facebook发布的多语种语音-文本翻译语料库，包括11种语言(法语、德语、荷兰语、俄语、西班牙语、意大利语、土耳其语、波斯语、瑞典语、蒙古语和中文)的语音、文字转录及英文译文、Jiagu自然语言处理工具 - 以BiLSTM等模型为基础，提供知识图谱关系抽取 中文分词 词性标注 命名实体识别 情感分析 新词发现 关键词 文本摘要 文本聚类等功能、用unet实现对文档表格的自动检测，表格重建、NLP事件提取文献资源列表 、 金融领域自然语言处理研究资源大列表、CLUEDatasetSearch - 中英文NLP数据集：搜索所有中文NLP数据集，附常用英文NLP数据集 、medical_NER - 中文医学知识图谱命名实体识别 、(哈佛)讲因果推理的免费书、知识图谱相关学习资料/数据集/工具资源大列表、Forte：灵活强大的自然语言处理pipeline工具集 、Python字符串相似性算法库、PyLaia：面向手写文档分析的深度学习工具包、TextFooler：针对文本分类/推理的对抗文本生成模块、Haystack：灵活、强大的可扩展问答(QA)框架、中文关键短语抽取工具\n",
       "Repository Name: funNLP</desc><rect x=\"549.9115477546258\" y=\"355.4018448198967\" rx=\"0\" ry=\"0\" width=\"21.60279121084687\" height=\"96.10546045613688\" class=\"rect reactive tooltip-trigger\"/><desc class=\"value\">70656</desc><desc class=\"x centered\">560.7129433600492</desc><desc class=\"y centered\">403.45457504796514</desc><desc class=\"x_label\">funNLP</desc></g><g class=\"bar\"><desc class=\"label\">Description: The Python micro framework for building web applications.\n",
       "Repository Name: flask</desc><rect x=\"577.8077140909467\" y=\"358.17118808145545\" rx=\"0\" ry=\"0\" width=\"21.60279121084687\" height=\"93.33611719457815\" class=\"rect reactive tooltip-trigger\"/><desc class=\"value\">68620</desc><desc class=\"x centered\">588.6091096963701</desc><desc class=\"y centered\">404.83924667874453</desc><desc class=\"x_label\">flask</desc></g><g class=\"bar\"><desc class=\"label\">Description: Linux, Jenkins, AWS, SRE, Prometheus, Docker, Python, Ansible, Git, Kubernetes, Terraform, OpenStack, SQL, NoSQL, Azure, GCP, DNS, Elastic, Network, Virtualization. DevOps Interview Questions\n",
       "Repository Name: devops-exercises</desc><rect x=\"605.7038804272674\" y=\"359.7286036190216\" rx=\"0\" ry=\"0\" width=\"21.60279121084687\" height=\"91.778701657012\" class=\"rect reactive tooltip-trigger\"/><desc class=\"value\">67475</desc><desc class=\"x centered\">616.5052760326909</desc><desc class=\"y centered\">405.6179544475276</desc><desc class=\"x_label\">devops-exercises</desc></g><g class=\"bar\"><desc class=\"label\">Description: Drop in a screenshot and convert it to clean code (HTML/Tailwind/React/Vue)\n",
       "Repository Name: screenshot-to-code</desc><rect x=\"633.6000467635884\" y=\"360.151622162413\" rx=\"0\" ry=\"0\" width=\"21.60279121084687\" height=\"91.35568311362061\" class=\"rect reactive tooltip-trigger\"/><desc class=\"value\">67164</desc><desc class=\"x centered\">644.4014423690118</desc><desc class=\"y centered\">405.8294637192233</desc><desc class=\"x_label\">screenshot-to-code</desc></g><g class=\"bar\"><desc class=\"label\">Description: 为GPT/GLM等LLM大语言模型提供实用化交互接口，特别优化论文阅读/润色/写作体验，模块化设计，支持自定义快捷按钮&amp;函数插件，支持Python和C++等项目剖析&amp;自译解功能，PDF/LaTex论文翻译&amp;总结功能，支持并行问询多种LLM模型，支持chatglm3等本地模型。接入通义千问, deepseekcoder, 讯飞星火, 文心一言, llama2, rwkv, claude2, moss等。\n",
       "Repository Name: gpt_academic</desc><rect x=\"661.4962130999093\" y=\"360.3039632455635\" rx=\"0\" ry=\"0\" width=\"21.60279121084687\" height=\"91.20334203047008\" class=\"rect reactive tooltip-trigger\"/><desc class=\"value\">67052</desc><desc class=\"x centered\">672.2976087053327</desc><desc class=\"y centered\">405.9056342607986</desc><desc class=\"x_label\">gpt_academic</desc></g><g class=\"bar\"><desc class=\"label\">Description: A curated list of awesome Machine Learning frameworks, libraries and software.\n",
       "Repository Name: awesome-machine-learning</desc><rect x=\"689.39237943623\" y=\"360.7705078127122\" rx=\"0\" ry=\"0\" width=\"21.60279121084687\" height=\"90.73679746332141\" class=\"rect reactive tooltip-trigger\"/><desc class=\"value\">66709</desc><desc class=\"x centered\">700.1937750416535</desc><desc class=\"y centered\">406.1389065443729</desc><desc class=\"x_label\">awesome-machine-learning</desc></g><g class=\"bar\"><desc class=\"label\">Description: 《动手学深度学习》：面向中文读者、能运行、可讨论。中英文版被70多个国家的500多所大学用于教学。\n",
       "Repository Name: d2l-zh</desc><rect x=\"717.288545772551\" y=\"362.72781869354867\" rx=\"0\" ry=\"0\" width=\"21.60279121084687\" height=\"88.77948658248494\" class=\"rect reactive tooltip-trigger\"/><desc class=\"value\">65270</desc><desc class=\"x centered\">728.0899413779744</desc><desc class=\"y centered\">407.1175619847911</desc><desc class=\"x_label\">d2l-zh</desc></g><g class=\"bar\"><desc class=\"label\">Description: The Python programming language\n",
       "Repository Name: cpython</desc><rect x=\"745.1847121088717\" y=\"363.28413568469676\" rx=\"0\" ry=\"0\" width=\"21.60279121084687\" height=\"88.22316959133684\" class=\"rect reactive tooltip-trigger\"/><desc class=\"value\">64861</desc><desc class=\"x centered\">755.9861077142951</desc><desc class=\"y centered\">407.3957204803652</desc><desc class=\"x_label\">cpython</desc></g><g class=\"bar\"><desc class=\"label\">Description: The most powerful and modular diffusion model GUI, api and backend with a graph/nodes interface.\n",
       "Repository Name: ComfyUI</desc><rect x=\"773.0808784451926\" y=\"363.86629625245075\" rx=\"0\" ry=\"0\" width=\"21.60279121084687\" height=\"87.64100902358285\" class=\"rect reactive tooltip-trigger\"/><desc class=\"value\">64433</desc><desc class=\"x centered\">783.882274050616</desc><desc class=\"y centered\">407.6868007642422</desc><desc class=\"x_label\">ComfyUI</desc></g><g class=\"bar\"><desc class=\"label\">Description: Ansible is a radically simple IT automation platform that makes your applications and systems easier to deploy and maintain. Automate everything from code deployment to network configuration to cloud management, in a language that approaches plain English, using SSH, with no agents to install on remote systems. https://docs.ansible.com.\n",
       "Repository Name: ansible</desc><rect x=\"800.9770447815135\" y=\"364.8265891515964\" rx=\"0\" ry=\"0\" width=\"21.60279121084687\" height=\"86.6807161244372\" class=\"rect reactive tooltip-trigger\"/><desc class=\"value\">63727</desc><desc class=\"x centered\">811.778440386937</desc><desc class=\"y centered\">408.166947213815</desc><desc class=\"x_label\">ansible</desc></g><g class=\"bar\"><desc class=\"label\">Description: The official gpt4free repository | various collection of powerful language models\n",
       "Repository Name: gpt4free</desc><rect x=\"828.8732111178343\" y=\"365.58557419086446\" rx=\"0\" ry=\"0\" width=\"21.60279121084687\" height=\"85.92173108516914\" class=\"rect reactive tooltip-trigger\"/><desc class=\"value\">63169</desc><desc class=\"x centered\">839.6746067232577</desc><desc class=\"y centered\">408.546439733449</desc><desc class=\"x_label\">gpt4free</desc></g></g></g></g><g class=\"titles\"><text x=\"500.0\" y=\"26\" class=\"title plot_title\">Most-Starred Python Projects on GitHub</text></g><g transform=\"translate(66, 46)\" class=\"plot overlay\"><g class=\"series serie-0 color-0\"/></g><g transform=\"translate(66, 46)\" class=\"plot text-overlay\"><g class=\"series serie-0 color-0\"/></g><g transform=\"translate(66, 46)\" class=\"plot tooltip-overlay\"><g transform=\"translate(0 0)\" style=\"opacity: 0\" class=\"tooltip\"><rect rx=\"0\" ry=\"0\" width=\"0\" height=\"0\" class=\"tooltip-box\"/><g class=\"text\"/></g></g></g></svg>"
      ],
      "text/plain": [
       "<IPython.core.display.SVG object>"
      ]
     },
     "metadata": {},
     "output_type": "display_data"
    }
   ],
   "source": [
    "import requests\n",
    "import pygal\n",
    "from pygal.style import LightColorizedStyle as LCS, LightenStyle as LS\n",
    "from IPython.display import display, SVG\n",
    "\n",
    "# Make an API call and store the response.\n",
    "URL = 'https://api.github.com/search/repositories?q=language:python&sort=stars'\n",
    "response = requests.get(URL)\n",
    "print(\"Status code:\", response.status_code)\n",
    "\n",
    "# Process the response only if the request is successful.\n",
    "if response.status_code == 200:\n",
    "    response_dict = response.json()\n",
    "    print(\"Total repositories:\", response_dict['total_count'])\n",
    "\n",
    "    # Explore information about the repositories.\n",
    "    repo_dicts = response_dict['items']\n",
    "    print(\"Number of items:\", len(repo_dicts))\n",
    "\n",
    "    # Prepare data for the chart.\n",
    "    names, plot_dicts = [], []\n",
    "    for repo_dict in repo_dicts:\n",
    "        names.append(repo_dict['name'])\n",
    "\n",
    "        # Build a dictionary for each repository's data.\n",
    "        plot_dict = {\n",
    "            'value': repo_dict['stargazers_count'],  # Number of stars\n",
    "            'label': f\"Description: {repo_dict['description'] or 'No description provided'}\\n\"\n",
    "                     f\"Repository Name: {repo_dict['name']}\",  # Description and name in tooltip\n",
    "        }\n",
    "        plot_dicts.append(plot_dict)\n",
    "\n",
    "    # Configure Pygal chart settings.\n",
    "    my_style = LS('#333366', base_style=LCS)\n",
    "    my_config = pygal.Config()\n",
    "    my_config.x_label_rotation = 45\n",
    "    my_config.show_legend = False\n",
    "    my_config.title_font_size = 24\n",
    "    my_config.label_font_size = 14\n",
    "    my_config.major_label_font_size = 18\n",
    "    my_config.truncate_label = 15\n",
    "    my_config.show_y_guides = False\n",
    "    my_config.width = 1000\n",
    "\n",
    "    # Create the bar chart.\n",
    "    chart = pygal.Bar(my_config, style=my_style)\n",
    "    chart.title = 'Most-Starred Python Projects on GitHub'\n",
    "    chart.x_labels = names\n",
    "    chart.add('Repositories', plot_dicts)  # Use 'Repositories' as series name.\n",
    "\n",
    "    # Render the chart as an SVG object for the Jupyter Notebook.\n",
    "    svg_chart = chart.render(disable_xml_declaration=True)\n",
    "    display(SVG(svg_chart))\n",
    "\n",
    "else:\n",
    "    print(\"Failed to retrieve data from GitHub API.\")\n"
   ]
  },
  {
   "cell_type": "markdown",
   "metadata": {},
   "source": [
    "_Hovering over a bar shows the project’s description._"
   ]
  },
  {
   "cell_type": "markdown",
   "metadata": {},
   "source": [
    "## Adding Clickable Links to Our Graph"
   ]
  }
 ],
 "metadata": {
  "kernelspec": {
   "display_name": "Python 3",
   "language": "python",
   "name": "python3"
  },
  "language_info": {
   "codemirror_mode": {
    "name": "ipython",
    "version": 3
   },
   "file_extension": ".py",
   "mimetype": "text/x-python",
   "name": "python",
   "nbconvert_exporter": "python",
   "pygments_lexer": "ipython3",
   "version": "3.13.0"
  }
 },
 "nbformat": 4,
 "nbformat_minor": 2
}
