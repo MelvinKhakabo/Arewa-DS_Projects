{
 "cells": [
  {
   "cell_type": "markdown",
   "metadata": {},
   "source": [
    "## API Integration using GitHub API to find Python Projects on GitHub\n"
   ]
  },
  {
   "cell_type": "markdown",
   "metadata": {},
   "source": [
    "## Installing Requests"
   ]
  },
  {
   "cell_type": "markdown",
   "metadata": {},
   "source": [
    "The requests package allows a Python program to easily request informa\u0002tion from a website and examine the response that’s returned. To install requests, issue a command like the following:"
   ]
  },
  {
   "cell_type": "code",
   "execution_count": null,
   "metadata": {},
   "outputs": [],
   "source": [
    " #pip install --user requests  --- in the terminal"
   ]
  },
  {
   "cell_type": "markdown",
   "metadata": {},
   "source": [
    "## Processing an API Response"
   ]
  },
  {
   "cell_type": "markdown",
   "metadata": {},
   "source": [
    "Now we’ll begin to write a program to issue an API call and process the \n",
    "results by identifying the most starred Python projects on GitHub"
   ]
  },
  {
   "cell_type": "code",
   "execution_count": 1,
   "metadata": {},
   "outputs": [
    {
     "name": "stdout",
     "output_type": "stream",
     "text": [
      "Status code: 200\n",
      "Response dictionary keys: dict_keys(['total_count', 'incomplete_results', 'items'])\n"
     ]
    }
   ],
   "source": [
    "import requests\n",
    "\n",
    "# Make an API call and store the response.\n",
    "url = 'https://api.github.com/search/repositories?q=language:python&sort=stars'\n",
    "response = requests.get(url)\n",
    "\n",
    "# Check and print the status code to ensure the API call was successful.\n",
    "print(\"Status code:\", response.status_code)\n",
    "\n",
    "# Store the API response in a variable and process it.\n",
    "if response.status_code == 200:  # Ensure the API call was successful\n",
    "    response_dict = response.json()\n",
    "    \n",
    "    # Print the keys of the response dictionary to understand its structure.\n",
    "    print(\"Response dictionary keys:\", response_dict.keys())\n",
    "else:\n",
    "    print(\"Failed to retrieve data from GitHub API.\")\n"
   ]
  },
  {
   "cell_type": "markdown",
   "metadata": {},
   "source": [
    "_Because the status code is 200, we know that the request was successful_"
   ]
  },
  {
   "cell_type": "markdown",
   "metadata": {},
   "source": [
    "## Working with the Response Dictionary"
   ]
  },
  {
   "cell_type": "markdown",
   "metadata": {},
   "source": [
    "Now that we have the information from the API call stored as a dictionary, we can work with the data stored there"
   ]
  },
  {
   "cell_type": "code",
   "execution_count": 2,
   "metadata": {},
   "outputs": [
    {
     "name": "stdout",
     "output_type": "stream",
     "text": [
      "Status code: 200\n",
      "Total repositories: 18763091\n",
      "Repositories returned: 30\n",
      "\n",
      "Number of keys in the first repository: 80\n",
      "\n",
      "Keys in the first repository:\n",
      "allow_forking\n",
      "archive_url\n",
      "archived\n",
      "assignees_url\n",
      "blobs_url\n",
      "branches_url\n",
      "clone_url\n",
      "collaborators_url\n",
      "comments_url\n",
      "commits_url\n",
      "compare_url\n",
      "contents_url\n",
      "contributors_url\n",
      "created_at\n",
      "default_branch\n",
      "deployments_url\n",
      "description\n",
      "disabled\n",
      "downloads_url\n",
      "events_url\n",
      "fork\n",
      "forks\n",
      "forks_count\n",
      "forks_url\n",
      "full_name\n",
      "git_commits_url\n",
      "git_refs_url\n",
      "git_tags_url\n",
      "git_url\n",
      "has_discussions\n",
      "has_downloads\n",
      "has_issues\n",
      "has_pages\n",
      "has_projects\n",
      "has_wiki\n",
      "homepage\n",
      "hooks_url\n",
      "html_url\n",
      "id\n",
      "is_template\n",
      "issue_comment_url\n",
      "issue_events_url\n",
      "issues_url\n",
      "keys_url\n",
      "labels_url\n",
      "language\n",
      "languages_url\n",
      "license\n",
      "merges_url\n",
      "milestones_url\n",
      "mirror_url\n",
      "name\n",
      "node_id\n",
      "notifications_url\n",
      "open_issues\n",
      "open_issues_count\n",
      "owner\n",
      "private\n",
      "pulls_url\n",
      "pushed_at\n",
      "releases_url\n",
      "score\n",
      "size\n",
      "ssh_url\n",
      "stargazers_count\n",
      "stargazers_url\n",
      "statuses_url\n",
      "subscribers_url\n",
      "subscription_url\n",
      "svn_url\n",
      "tags_url\n",
      "teams_url\n",
      "topics\n",
      "trees_url\n",
      "updated_at\n",
      "url\n",
      "visibility\n",
      "watchers\n",
      "watchers_count\n",
      "web_commit_signoff_required\n"
     ]
    }
   ],
   "source": [
    "import requests\n",
    "\n",
    "# Make an API call and store the response.\n",
    "url = 'https://api.github.com/search/repositories?q=language:python&sort=stars'\n",
    "response = requests.get(url)\n",
    "\n",
    "# Check and print the status code to ensure the API call was successful.\n",
    "print(\"Status code:\", response.status_code)\n",
    "\n",
    "# Store the API response in a variable.\n",
    "if response.status_code == 200:  # Ensure the API call succeeded\n",
    "    response_dict = response.json()\n",
    "    \n",
    "    # Print the total number of repositories.\n",
    "    print(\"Total repositories:\", response_dict['total_count'])\n",
    "    \n",
    "    # Explore information about the repositories.\n",
    "    repo_dicts = response_dict['items']\n",
    "    print(\"Repositories returned:\", len(repo_dicts))\n",
    "    \n",
    "    # Examine the first repository.\n",
    "    if repo_dicts:\n",
    "        repo_dict = repo_dicts[0]\n",
    "        print(\"\\nNumber of keys in the first repository:\", len(repo_dict))\n",
    "        \n",
    "        # Print all keys in the first repository, sorted alphabetically.\n",
    "        print(\"\\nKeys in the first repository:\")\n",
    "        for key in sorted(repo_dict.keys()):\n",
    "            print(key)\n",
    "    else:\n",
    "        print(\"No repositories found in the response.\")\n",
    "else:\n",
    "    print(\"Failed to retrieve data from GitHub API.\")\n"
   ]
  },
  {
   "cell_type": "markdown",
   "metadata": {},
   "source": [
    "Let’s pull out the values for some of the keys in repo_dict:"
   ]
  },
  {
   "cell_type": "code",
   "execution_count": 3,
   "metadata": {},
   "outputs": [
    {
     "name": "stdout",
     "output_type": "stream",
     "text": [
      "\n",
      "Selected information about the first repository:\n",
      "Name: public-apis\n",
      "Owner: public-apis\n",
      "Stars: 325420\n",
      "Repository: https://github.com/public-apis/public-apis\n",
      "Created: 2016-03-20T23:49:42Z\n",
      "Updated: 2025-01-23T07:06:02Z\n",
      "Description: A collective list of free APIs\n"
     ]
    }
   ],
   "source": [
    "# Examine and print selected information about the first repository.\n",
    "print(\"\\nSelected information about the first repository:\")\n",
    "try:\n",
    "    print('Name:', repo_dict['name'])\n",
    "    print('Owner:', repo_dict['owner']['login'])\n",
    "    print('Stars:', repo_dict['stargazers_count'])\n",
    "    print('Repository:', repo_dict['html_url'])\n",
    "    print('Created:', repo_dict['created_at'])\n",
    "    print('Updated:', repo_dict['updated_at'])\n",
    "    print('Description:', repo_dict['description'])\n",
    "except KeyError as e:\n",
    "    print(f\"Key error: {e}. Some information may be missing.\")\n",
    "\n"
   ]
  }
 ],
 "metadata": {
  "kernelspec": {
   "display_name": "Python 3",
   "language": "python",
   "name": "python3"
  },
  "language_info": {
   "codemirror_mode": {
    "name": "ipython",
    "version": 3
   },
   "file_extension": ".py",
   "mimetype": "text/x-python",
   "name": "python",
   "nbconvert_exporter": "python",
   "pygments_lexer": "ipython3",
   "version": "3.13.0"
  }
 },
 "nbformat": 4,
 "nbformat_minor": 2
}
