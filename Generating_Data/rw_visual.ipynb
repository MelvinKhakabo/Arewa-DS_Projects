{
 "cells": [
  {
   "cell_type": "markdown",
   "metadata": {},
   "source": [
    "# Plotting the Random Walk"
   ]
  },
  {
   "cell_type": "markdown",
   "metadata": {},
   "source": [
    "Here’s the code to plot all the points in the walk:"
   ]
  },
  {
   "cell_type": "code",
   "execution_count": 3,
   "metadata": {},
   "outputs": [
    {
     "ename": "AttributeError",
     "evalue": "'RandomWalk' object has no attribute 'fill_walk'",
     "output_type": "error",
     "traceback": [
      "\u001b[1;31m---------------------------------------------------------------------------\u001b[0m",
      "\u001b[1;31mAttributeError\u001b[0m                            Traceback (most recent call last)",
      "Cell \u001b[1;32mIn[3], line 6\u001b[0m\n\u001b[0;32m      4\u001b[0m \u001b[38;5;66;03m# Make a random walk, and plot the points.\u001b[39;00m\n\u001b[0;32m      5\u001b[0m rw \u001b[38;5;241m=\u001b[39m RandomWalk()\n\u001b[1;32m----> 6\u001b[0m \u001b[43mrw\u001b[49m\u001b[38;5;241;43m.\u001b[39;49m\u001b[43mfill_walk\u001b[49m()\n",
      "\u001b[1;31mAttributeError\u001b[0m: 'RandomWalk' object has no attribute 'fill_walk'"
     ]
    }
   ],
   "source": [
    "# Plotting the Random Walk\n",
    "import matplotlib.pyplot as plt\n",
    "from random_walk import RandomWalk\n",
    "# Make a random walk, and plot the points.\n",
    "rw = RandomWalk()\n",
    "rw.fill_walk()\n"
   ]
  }
 ],
 "metadata": {
  "kernelspec": {
   "display_name": "Python 3",
   "language": "python",
   "name": "python3"
  },
  "language_info": {
   "codemirror_mode": {
    "name": "ipython",
    "version": 3
   },
   "file_extension": ".py",
   "mimetype": "text/x-python",
   "name": "python",
   "nbconvert_exporter": "python",
   "pygments_lexer": "ipython3",
   "version": "3.13.0"
  }
 },
 "nbformat": 4,
 "nbformat_minor": 2
}
