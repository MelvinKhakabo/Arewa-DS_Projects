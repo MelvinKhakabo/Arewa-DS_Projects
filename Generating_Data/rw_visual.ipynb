{
 "cells": [
  {
   "cell_type": "markdown",
   "metadata": {},
   "source": [
    "# Plotting the Random Walk"
   ]
  },
  {
   "cell_type": "markdown",
   "metadata": {},
   "source": [
    "Here’s the code to plot all the points in the walk:"
   ]
  },
  {
   "cell_type": "code",
   "execution_count": 2,
   "metadata": {},
   "outputs": [
    {
     "ename": "ModuleNotFoundError",
     "evalue": "No module named 'random_walk'",
     "output_type": "error",
     "traceback": [
      "\u001b[1;31m---------------------------------------------------------------------------\u001b[0m",
      "\u001b[1;31mModuleNotFoundError\u001b[0m                       Traceback (most recent call last)",
      "Cell \u001b[1;32mIn[2], line 2\u001b[0m\n\u001b[0;32m      1\u001b[0m \u001b[38;5;28;01mimport\u001b[39;00m \u001b[38;5;21;01mmatplotlib\u001b[39;00m\u001b[38;5;21;01m.\u001b[39;00m\u001b[38;5;21;01mpyplot\u001b[39;00m \u001b[38;5;28;01mas\u001b[39;00m \u001b[38;5;21;01mplt\u001b[39;00m\n\u001b[1;32m----> 2\u001b[0m \u001b[38;5;28;01mfrom\u001b[39;00m \u001b[38;5;21;01mrandom_walk\u001b[39;00m \u001b[38;5;28;01mimport\u001b[39;00m RandomWalk\n\u001b[0;32m      3\u001b[0m \u001b[38;5;66;03m# Make a random walk, and plot the points.\u001b[39;00m\n\u001b[0;32m      4\u001b[0m rw \u001b[38;5;241m=\u001b[39m RandomWalk()\n",
      "\u001b[1;31mModuleNotFoundError\u001b[0m: No module named 'random_walk'"
     ]
    }
   ],
   "source": [
    "import matplotlib.pyplot as plt\n",
    "from random_walk import RandomWalk\n",
    "# Make a random walk, and plot the points.\n",
    "rw = RandomWalk()\n",
    "rw.fill_walk()\n"
   ]
  }
 ],
 "metadata": {
  "kernelspec": {
   "display_name": "Python 3",
   "language": "python",
   "name": "python3"
  },
  "language_info": {
   "codemirror_mode": {
    "name": "ipython",
    "version": 3
   },
   "file_extension": ".py",
   "mimetype": "text/x-python",
   "name": "python",
   "nbconvert_exporter": "python",
   "pygments_lexer": "ipython3",
   "version": "3.13.0"
  }
 },
 "nbformat": 4,
 "nbformat_minor": 2
}
