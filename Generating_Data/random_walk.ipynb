{
 "cells": [
  {
   "cell_type": "markdown",
   "metadata": {},
   "source": [
    "# Random Walk Data Generation Project\n",
    "## Creating the RandomWalk() Class"
   ]
  },
  {
   "cell_type": "markdown",
   "metadata": {},
   "source": [
    "To create a random walk, we’ll create a RandomWalk class, which will make random decisions about which direction the walk should take. \n",
    "\n",
    "The class needs three attributes: one variable to store the number of points in the walk and two lists to store the x- and y-coordinate values of each point in the walk. \n",
    "\n",
    "We’ll use only two methods for the RandomWalk class: the __init__() method and fill_walk(), which will calculate the points in the walk."
   ]
  },
  {
   "cell_type": "code",
   "execution_count": 10,
   "metadata": {},
   "outputs": [],
   "source": [
    "import random\n",
    "from random import choice\n",
    "\n",
    "class RandomWalk():\n",
    "    \"\"\"A class to generate random walks.\"\"\"\n",
    "    \n",
    "    def __init__(self, num_points=5000):\n",
    "        \"\"\"Initialize attributes of a walk.\"\"\"\n",
    "        self.num_points = num_points\n",
    "        \n",
    "        # All walks start at (0, 0).\n",
    "        self.x_values = [0]\n",
    "        self.y_values = [0]"
   ]
  },
  {
   "cell_type": "markdown",
   "metadata": {},
   "source": [
    "To make random decisions, we’ll store possible choices in a list and use choice() to decide which choice to use each time a decision is made u. We then set the default number of points in a walk to 5000—large enough to generate some interesting patterns but small enough to generate walks quickly v. \n",
    "\n",
    "Then at w we make two lists to hold the x- and y-values, and we \n",
    "start each walk at point (0, 0)."
   ]
  },
  {
   "cell_type": "markdown",
   "metadata": {},
   "source": [
    "## Choosing Directions"
   ]
  },
  {
   "cell_type": "markdown",
   "metadata": {},
   "source": [
    "We’ll use fill_walk(), as shown here, to fill our walk with points and deter\u0002mine the direction of each step. "
   ]
  },
  {
   "cell_type": "code",
   "execution_count": 11,
   "metadata": {},
   "outputs": [],
   "source": [
    "## Choosing Directions\n",
    "def fill_walk(self):\n",
    "    \"\"\"Calculate all the points in the walk.\"\"\"\n",
    "    \n",
    "    # Keep taking steps until the walk reaches the desired length.\n",
    "    while len(self.x_values) < self.num_points:\n",
    "        # Decide which direction to go and how far to go in that direction.\n",
    "        x_direction = choice([1, -1])\n",
    "        x_distance = choice([0, 1, 2, 3, 4])\n",
    "        x_step = x_direction * x_distance\n",
    "        \n",
    "        y_direction = choice([1, -1])\n",
    "        y_distance = choice([0, 1, 2, 3, 4])\n",
    "        y_step = y_direction * y_distance\n",
    "        \n",
    "        # Reject moves that go nowhere.\n",
    "        if x_step == 0 and y_step == 0:\n",
    "            continue\n",
    "        \n",
    "        # Calculate the next x and y values.\n",
    "        next_x = self.x_values[-1] + x_step\n",
    "        next_y = self.y_values[-1] + y_step\n",
    "        \n",
    "        self.x_values.append(next_x)\n",
    "        self.y_values.append(next_y)\n"
   ]
  },
  {
   "cell_type": "markdown",
   "metadata": {},
   "source": [
    "At u we set up a loop that runs until the walk is filled with the correct number of points. The main part of this method tells Python how to simu\u0002late four random decisions: Will the walk go right or left? How far will it go in that direction? \n",
    "\n",
    "Will it go up or down? How far will it go in that direction? We use choice([1, -1]) to choose a value for x_direction, which returns either 1 for right movement or −1 for left v. Next, choice([0, 1, 2, 3, 4]) tells Python how far to move in that direction (x_distance) by randomly selecting an integer between 0 and 4. (The inclusion of a 0 allows us to take \n",
    "steps along the y-axis as well as steps that have movement along both axes.)\n",
    "\n",
    "At w and  we determine the length of each step in the x and y direc\u0002tions by multiplying the direction of movement by the distance chosen. Apositive result for x_step moves us right, a negative result moves us left, and 0 moves us vertically.\n",
    "\n",
    "A positive result for y_step means move up, negative means move down, and 0 means move horizontally. If the value of both \n",
    "x_step and y_step are 0, the walk stops, but we continue the loop to prevent this .\n",
    "\n",
    "To get the next x-value for our walk, we add the value in x_step to the last value stored in x_values  and do the same for the y-values. Once we have these values, we append them to x_values and y_values."
   ]
  }
 ],
 "metadata": {
  "kernelspec": {
   "display_name": "Python 3",
   "language": "python",
   "name": "python3"
  },
  "language_info": {
   "codemirror_mode": {
    "name": "ipython",
    "version": 3
   },
   "file_extension": ".py",
   "mimetype": "text/x-python",
   "name": "python",
   "nbconvert_exporter": "python",
   "pygments_lexer": "ipython3",
   "version": "3.13.0"
  }
 },
 "nbformat": 4,
 "nbformat_minor": 2
}
