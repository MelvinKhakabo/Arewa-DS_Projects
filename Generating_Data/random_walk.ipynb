{
 "cells": [
  {
   "cell_type": "markdown",
   "metadata": {},
   "source": [
    "# Random Walk Data Generation Project\n",
    "## Creating the RandomWalk() Class"
   ]
  },
  {
   "cell_type": "markdown",
   "metadata": {},
   "source": [
    "To create a random walk, we’ll create a RandomWalk class, which will make random decisions about which direction the walk should take. The class needs three attributes: one variable to store the number of points in the walk and two lists to store the x- and y-coordinate values of each point in the walk. We’ll use only two methods for the RandomWalk class: the __init__() method and fill_walk(), which will calculate the points in the walk."
   ]
  },
  {
   "cell_type": "code",
   "execution_count": 1,
   "metadata": {},
   "outputs": [],
   "source": [
    "from random import choice\n",
    "class RandomWalk():\n",
    " \"\"\"A class to generate random walks.\"\"\"\n",
    " \n",
    "def __init__(self, num_points=5000):\n",
    " \"\"\"Initialize attributes of a walk.\"\"\"\n",
    " self.num_points = num_points\n",
    " \n",
    " # All walks start at (0, 0).\n",
    " self.x_values = [0]\n",
    " self.y_values = [0]"
   ]
  },
  {
   "cell_type": "markdown",
   "metadata": {},
   "source": [
    "To make random decisions, we’ll store possible choices in a list and use choice() to decide which choice to use each time a decision is made u. We then set the default number of points in a walk to 5000—large enough to generate some interesting patterns but small enough to generate walks quickly v. Then at w we make two lists to hold the x- and y-values, and we \n",
    "start each walk at point (0, 0)."
   ]
  },
  {
   "cell_type": "markdown",
   "metadata": {},
   "source": [
    "## Choosing Directions"
   ]
  },
  {
   "cell_type": "markdown",
   "metadata": {},
   "source": [
    "We’ll use fill_walk(), as shown here, to fill our walk with points and deter\u0002mine the direction of each step. "
   ]
  },
  {
   "cell_type": "code",
   "execution_count": 3,
   "metadata": {},
   "outputs": [],
   "source": [
    "def fill_walk(self):\n",
    "    \"\"\"Calculate all the points in the walk.\"\"\"\n",
    "    \n",
    "    # Keep taking steps until the walk reaches the desired length.\n",
    "    while len(self.x_values) < self.num_points:\n",
    "        # Decide which direction to go and how far to go in that direction.\n",
    "        x_direction = choice([1, -1])\n",
    "        x_distance = choice([0, 1, 2, 3, 4])\n",
    "        x_step = x_direction * x_distance\n",
    "        \n",
    "        y_direction = choice([1, -1])\n",
    "        y_distance = choice([0, 1, 2, 3, 4])\n",
    "        y_step = y_direction * y_distance\n",
    "        \n",
    "        # Reject moves that go nowhere.\n",
    "        if x_step == 0 and y_step == 0:\n",
    "            continue\n",
    "        \n",
    "        # Calculate the next x and y values.\n",
    "        next_x = self.x_values[-1] + x_step\n",
    "        next_y = self.y_values[-1] + y_step\n",
    "        \n",
    "        self.x_values.append(next_x)\n",
    "        self.y_values.append(next_y)\n",
    "\n"
   ]
  }
 ],
 "metadata": {
  "kernelspec": {
   "display_name": "Python 3",
   "language": "python",
   "name": "python3"
  },
  "language_info": {
   "codemirror_mode": {
    "name": "ipython",
    "version": 3
   },
   "file_extension": ".py",
   "mimetype": "text/x-python",
   "name": "python",
   "nbconvert_exporter": "python",
   "pygments_lexer": "ipython3",
   "version": "3.13.0"
  }
 },
 "nbformat": 4,
 "nbformat_minor": 2
}
